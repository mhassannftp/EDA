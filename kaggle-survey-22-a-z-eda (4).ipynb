{
 "cells": [
  {
   "cell_type": "code",
   "execution_count": 1,
   "id": "fef9b93e",
   "metadata": {
    "_cell_guid": "b1076dfc-b9ad-4769-8c92-a6c4dae69d19",
    "_uuid": "8f2839f25d086af736a60e9eeb907d3b93b6e0e5",
    "execution": {
     "iopub.execute_input": "2022-11-21T07:50:54.124912Z",
     "iopub.status.busy": "2022-11-21T07:50:54.124314Z",
     "iopub.status.idle": "2022-11-21T07:50:54.132922Z",
     "shell.execute_reply": "2022-11-21T07:50:54.131818Z"
    },
    "papermill": {
     "duration": 0.039127,
     "end_time": "2022-11-21T07:50:54.135291",
     "exception": false,
     "start_time": "2022-11-21T07:50:54.096164",
     "status": "completed"
    },
    "tags": []
   },
   "outputs": [],
   "source": [
    "import numpy as np # linear algebra\n",
    "import pandas as pd # data processing, CSV file I/O (e.g. pd.read_csv)"
   ]
  },
  {
   "cell_type": "code",
   "execution_count": 2,
   "id": "c67ec9b2",
   "metadata": {
    "execution": {
     "iopub.execute_input": "2022-11-21T07:50:54.187598Z",
     "iopub.status.busy": "2022-11-21T07:50:54.187059Z",
     "iopub.status.idle": "2022-11-21T07:50:55.214804Z",
     "shell.execute_reply": "2022-11-21T07:50:55.212367Z"
    },
    "papermill": {
     "duration": 1.059876,
     "end_time": "2022-11-21T07:50:55.220576",
     "exception": false,
     "start_time": "2022-11-21T07:50:54.160700",
     "status": "completed"
    },
    "tags": []
   },
   "outputs": [
    {
     "name": "stderr",
     "output_type": "stream",
     "text": [
      "/opt/conda/lib/python3.7/site-packages/IPython/core/interactiveshell.py:3552: DtypeWarning: Columns (0,208,225,255,257,260,270,271,277) have mixed types.Specify dtype option on import or set low_memory=False.\n",
      "  exec(code_obj, self.user_global_ns, self.user_ns)\n"
     ]
    },
    {
     "data": {
      "text/html": [
       "<div>\n",
       "<style scoped>\n",
       "    .dataframe tbody tr th:only-of-type {\n",
       "        vertical-align: middle;\n",
       "    }\n",
       "\n",
       "    .dataframe tbody tr th {\n",
       "        vertical-align: top;\n",
       "    }\n",
       "\n",
       "    .dataframe thead th {\n",
       "        text-align: right;\n",
       "    }\n",
       "</style>\n",
       "<table border=\"1\" class=\"dataframe\">\n",
       "  <thead>\n",
       "    <tr style=\"text-align: right;\">\n",
       "      <th></th>\n",
       "      <th>Duration (in seconds)</th>\n",
       "      <th>Q2</th>\n",
       "      <th>Q3</th>\n",
       "      <th>Q4</th>\n",
       "      <th>Q5</th>\n",
       "      <th>Q6_1</th>\n",
       "      <th>Q6_2</th>\n",
       "      <th>Q6_3</th>\n",
       "      <th>Q6_4</th>\n",
       "      <th>Q6_5</th>\n",
       "      <th>...</th>\n",
       "      <th>Q44_3</th>\n",
       "      <th>Q44_4</th>\n",
       "      <th>Q44_5</th>\n",
       "      <th>Q44_6</th>\n",
       "      <th>Q44_7</th>\n",
       "      <th>Q44_8</th>\n",
       "      <th>Q44_9</th>\n",
       "      <th>Q44_10</th>\n",
       "      <th>Q44_11</th>\n",
       "      <th>Q44_12</th>\n",
       "    </tr>\n",
       "  </thead>\n",
       "  <tbody>\n",
       "    <tr>\n",
       "      <th>0</th>\n",
       "      <td>Duration (in seconds)</td>\n",
       "      <td>What is your age (# years)?</td>\n",
       "      <td>What is your gender? - Selected Choice</td>\n",
       "      <td>In which country do you currently reside?</td>\n",
       "      <td>Are you currently a student? (high school, uni...</td>\n",
       "      <td>On which platforms have you begun or completed...</td>\n",
       "      <td>On which platforms have you begun or completed...</td>\n",
       "      <td>On which platforms have you begun or completed...</td>\n",
       "      <td>On which platforms have you begun or completed...</td>\n",
       "      <td>On which platforms have you begun or completed...</td>\n",
       "      <td>...</td>\n",
       "      <td>Who/what are your favorite media sources that ...</td>\n",
       "      <td>Who/what are your favorite media sources that ...</td>\n",
       "      <td>Who/what are your favorite media sources that ...</td>\n",
       "      <td>Who/what are your favorite media sources that ...</td>\n",
       "      <td>Who/what are your favorite media sources that ...</td>\n",
       "      <td>Who/what are your favorite media sources that ...</td>\n",
       "      <td>Who/what are your favorite media sources that ...</td>\n",
       "      <td>Who/what are your favorite media sources that ...</td>\n",
       "      <td>Who/what are your favorite media sources that ...</td>\n",
       "      <td>Who/what are your favorite media sources that ...</td>\n",
       "    </tr>\n",
       "    <tr>\n",
       "      <th>1</th>\n",
       "      <td>121</td>\n",
       "      <td>30-34</td>\n",
       "      <td>Man</td>\n",
       "      <td>India</td>\n",
       "      <td>No</td>\n",
       "      <td>NaN</td>\n",
       "      <td>NaN</td>\n",
       "      <td>NaN</td>\n",
       "      <td>NaN</td>\n",
       "      <td>NaN</td>\n",
       "      <td>...</td>\n",
       "      <td>NaN</td>\n",
       "      <td>NaN</td>\n",
       "      <td>NaN</td>\n",
       "      <td>NaN</td>\n",
       "      <td>NaN</td>\n",
       "      <td>NaN</td>\n",
       "      <td>NaN</td>\n",
       "      <td>NaN</td>\n",
       "      <td>NaN</td>\n",
       "      <td>NaN</td>\n",
       "    </tr>\n",
       "    <tr>\n",
       "      <th>2</th>\n",
       "      <td>462</td>\n",
       "      <td>30-34</td>\n",
       "      <td>Man</td>\n",
       "      <td>Algeria</td>\n",
       "      <td>No</td>\n",
       "      <td>NaN</td>\n",
       "      <td>NaN</td>\n",
       "      <td>NaN</td>\n",
       "      <td>NaN</td>\n",
       "      <td>NaN</td>\n",
       "      <td>...</td>\n",
       "      <td>NaN</td>\n",
       "      <td>NaN</td>\n",
       "      <td>NaN</td>\n",
       "      <td>NaN</td>\n",
       "      <td>NaN</td>\n",
       "      <td>NaN</td>\n",
       "      <td>NaN</td>\n",
       "      <td>NaN</td>\n",
       "      <td>NaN</td>\n",
       "      <td>NaN</td>\n",
       "    </tr>\n",
       "    <tr>\n",
       "      <th>3</th>\n",
       "      <td>293</td>\n",
       "      <td>18-21</td>\n",
       "      <td>Man</td>\n",
       "      <td>Egypt</td>\n",
       "      <td>Yes</td>\n",
       "      <td>Coursera</td>\n",
       "      <td>edX</td>\n",
       "      <td>NaN</td>\n",
       "      <td>DataCamp</td>\n",
       "      <td>NaN</td>\n",
       "      <td>...</td>\n",
       "      <td>NaN</td>\n",
       "      <td>Kaggle (notebooks, forums, etc)</td>\n",
       "      <td>NaN</td>\n",
       "      <td>YouTube (Kaggle YouTube, Cloud AI Adventures, ...</td>\n",
       "      <td>Podcasts (Chai Time Data Science, O’Reilly Dat...</td>\n",
       "      <td>NaN</td>\n",
       "      <td>NaN</td>\n",
       "      <td>NaN</td>\n",
       "      <td>NaN</td>\n",
       "      <td>NaN</td>\n",
       "    </tr>\n",
       "    <tr>\n",
       "      <th>4</th>\n",
       "      <td>851</td>\n",
       "      <td>55-59</td>\n",
       "      <td>Man</td>\n",
       "      <td>France</td>\n",
       "      <td>No</td>\n",
       "      <td>Coursera</td>\n",
       "      <td>NaN</td>\n",
       "      <td>Kaggle Learn Courses</td>\n",
       "      <td>NaN</td>\n",
       "      <td>NaN</td>\n",
       "      <td>...</td>\n",
       "      <td>NaN</td>\n",
       "      <td>Kaggle (notebooks, forums, etc)</td>\n",
       "      <td>Course Forums (forums.fast.ai, Coursera forums...</td>\n",
       "      <td>NaN</td>\n",
       "      <td>NaN</td>\n",
       "      <td>Blogs (Towards Data Science, Analytics Vidhya,...</td>\n",
       "      <td>NaN</td>\n",
       "      <td>NaN</td>\n",
       "      <td>NaN</td>\n",
       "      <td>NaN</td>\n",
       "    </tr>\n",
       "  </tbody>\n",
       "</table>\n",
       "<p>5 rows × 296 columns</p>\n",
       "</div>"
      ],
      "text/plain": [
       "   Duration (in seconds)                           Q2  \\\n",
       "0  Duration (in seconds)  What is your age (# years)?   \n",
       "1                    121                        30-34   \n",
       "2                    462                        30-34   \n",
       "3                    293                        18-21   \n",
       "4                    851                        55-59   \n",
       "\n",
       "                                       Q3  \\\n",
       "0  What is your gender? - Selected Choice   \n",
       "1                                     Man   \n",
       "2                                     Man   \n",
       "3                                     Man   \n",
       "4                                     Man   \n",
       "\n",
       "                                          Q4  \\\n",
       "0  In which country do you currently reside?   \n",
       "1                                      India   \n",
       "2                                    Algeria   \n",
       "3                                      Egypt   \n",
       "4                                     France   \n",
       "\n",
       "                                                  Q5  \\\n",
       "0  Are you currently a student? (high school, uni...   \n",
       "1                                                 No   \n",
       "2                                                 No   \n",
       "3                                                Yes   \n",
       "4                                                 No   \n",
       "\n",
       "                                                Q6_1  \\\n",
       "0  On which platforms have you begun or completed...   \n",
       "1                                                NaN   \n",
       "2                                                NaN   \n",
       "3                                           Coursera   \n",
       "4                                           Coursera   \n",
       "\n",
       "                                                Q6_2  \\\n",
       "0  On which platforms have you begun or completed...   \n",
       "1                                                NaN   \n",
       "2                                                NaN   \n",
       "3                                                edX   \n",
       "4                                                NaN   \n",
       "\n",
       "                                                Q6_3  \\\n",
       "0  On which platforms have you begun or completed...   \n",
       "1                                                NaN   \n",
       "2                                                NaN   \n",
       "3                                                NaN   \n",
       "4                               Kaggle Learn Courses   \n",
       "\n",
       "                                                Q6_4  \\\n",
       "0  On which platforms have you begun or completed...   \n",
       "1                                                NaN   \n",
       "2                                                NaN   \n",
       "3                                           DataCamp   \n",
       "4                                                NaN   \n",
       "\n",
       "                                                Q6_5  ...  \\\n",
       "0  On which platforms have you begun or completed...  ...   \n",
       "1                                                NaN  ...   \n",
       "2                                                NaN  ...   \n",
       "3                                                NaN  ...   \n",
       "4                                                NaN  ...   \n",
       "\n",
       "                                               Q44_3  \\\n",
       "0  Who/what are your favorite media sources that ...   \n",
       "1                                                NaN   \n",
       "2                                                NaN   \n",
       "3                                                NaN   \n",
       "4                                                NaN   \n",
       "\n",
       "                                               Q44_4  \\\n",
       "0  Who/what are your favorite media sources that ...   \n",
       "1                                                NaN   \n",
       "2                                                NaN   \n",
       "3                    Kaggle (notebooks, forums, etc)   \n",
       "4                    Kaggle (notebooks, forums, etc)   \n",
       "\n",
       "                                               Q44_5  \\\n",
       "0  Who/what are your favorite media sources that ...   \n",
       "1                                                NaN   \n",
       "2                                                NaN   \n",
       "3                                                NaN   \n",
       "4  Course Forums (forums.fast.ai, Coursera forums...   \n",
       "\n",
       "                                               Q44_6  \\\n",
       "0  Who/what are your favorite media sources that ...   \n",
       "1                                                NaN   \n",
       "2                                                NaN   \n",
       "3  YouTube (Kaggle YouTube, Cloud AI Adventures, ...   \n",
       "4                                                NaN   \n",
       "\n",
       "                                               Q44_7  \\\n",
       "0  Who/what are your favorite media sources that ...   \n",
       "1                                                NaN   \n",
       "2                                                NaN   \n",
       "3  Podcasts (Chai Time Data Science, O’Reilly Dat...   \n",
       "4                                                NaN   \n",
       "\n",
       "                                               Q44_8  \\\n",
       "0  Who/what are your favorite media sources that ...   \n",
       "1                                                NaN   \n",
       "2                                                NaN   \n",
       "3                                                NaN   \n",
       "4  Blogs (Towards Data Science, Analytics Vidhya,...   \n",
       "\n",
       "                                               Q44_9  \\\n",
       "0  Who/what are your favorite media sources that ...   \n",
       "1                                                NaN   \n",
       "2                                                NaN   \n",
       "3                                                NaN   \n",
       "4                                                NaN   \n",
       "\n",
       "                                              Q44_10  \\\n",
       "0  Who/what are your favorite media sources that ...   \n",
       "1                                                NaN   \n",
       "2                                                NaN   \n",
       "3                                                NaN   \n",
       "4                                                NaN   \n",
       "\n",
       "                                              Q44_11  \\\n",
       "0  Who/what are your favorite media sources that ...   \n",
       "1                                                NaN   \n",
       "2                                                NaN   \n",
       "3                                                NaN   \n",
       "4                                                NaN   \n",
       "\n",
       "                                              Q44_12  \n",
       "0  Who/what are your favorite media sources that ...  \n",
       "1                                                NaN  \n",
       "2                                                NaN  \n",
       "3                                                NaN  \n",
       "4                                                NaN  \n",
       "\n",
       "[5 rows x 296 columns]"
      ]
     },
     "execution_count": 2,
     "metadata": {},
     "output_type": "execute_result"
    }
   ],
   "source": [
    "df_kaggle_22 = pd.read_csv('/kaggle/input/kaggle-survey-2022/kaggle_survey_2022_responses.csv')\n",
    "df_kaggle_22.head()"
   ]
  },
  {
   "cell_type": "code",
   "execution_count": 3,
   "id": "dfe258ac",
   "metadata": {
    "execution": {
     "iopub.execute_input": "2022-11-21T07:50:55.275597Z",
     "iopub.status.busy": "2022-11-21T07:50:55.275280Z",
     "iopub.status.idle": "2022-11-21T07:50:55.283411Z",
     "shell.execute_reply": "2022-11-21T07:50:55.282600Z"
    },
    "papermill": {
     "duration": 0.037428,
     "end_time": "2022-11-21T07:50:55.285865",
     "exception": false,
     "start_time": "2022-11-21T07:50:55.248437",
     "status": "completed"
    },
    "tags": []
   },
   "outputs": [
    {
     "data": {
      "text/plain": [
       "Index(['Duration (in seconds)', 'Q2', 'Q3', 'Q4', 'Q5', 'Q6_1', 'Q6_2', 'Q6_3',\n",
       "       'Q6_4', 'Q6_5',\n",
       "       ...\n",
       "       'Q44_3', 'Q44_4', 'Q44_5', 'Q44_6', 'Q44_7', 'Q44_8', 'Q44_9', 'Q44_10',\n",
       "       'Q44_11', 'Q44_12'],\n",
       "      dtype='object', length=296)"
      ]
     },
     "execution_count": 3,
     "metadata": {},
     "output_type": "execute_result"
    }
   ],
   "source": [
    "df_kaggle_22.columns"
   ]
  },
  {
   "cell_type": "code",
   "execution_count": 4,
   "id": "c5ae4130",
   "metadata": {
    "execution": {
     "iopub.execute_input": "2022-11-21T07:50:55.340861Z",
     "iopub.status.busy": "2022-11-21T07:50:55.340530Z",
     "iopub.status.idle": "2022-11-21T07:50:55.346434Z",
     "shell.execute_reply": "2022-11-21T07:50:55.345739Z"
    },
    "papermill": {
     "duration": 0.036109,
     "end_time": "2022-11-21T07:50:55.348745",
     "exception": false,
     "start_time": "2022-11-21T07:50:55.312636",
     "status": "completed"
    },
    "tags": []
   },
   "outputs": [
    {
     "data": {
      "text/plain": [
       "(23998, 296)"
      ]
     },
     "execution_count": 4,
     "metadata": {},
     "output_type": "execute_result"
    }
   ],
   "source": [
    "df_kaggle_22.shape"
   ]
  },
  {
   "cell_type": "markdown",
   "id": "7cda671b",
   "metadata": {
    "papermill": {
     "duration": 0.024946,
     "end_time": "2022-11-21T07:50:55.398962",
     "exception": false,
     "start_time": "2022-11-21T07:50:55.374016",
     "status": "completed"
    },
    "tags": []
   },
   "source": [
    "It means total participants are 23998 in kaggle survey for ML/DS 2022"
   ]
  },
  {
   "cell_type": "code",
   "execution_count": 5,
   "id": "4eab9edd",
   "metadata": {
    "execution": {
     "iopub.execute_input": "2022-11-21T07:50:55.450109Z",
     "iopub.status.busy": "2022-11-21T07:50:55.449722Z",
     "iopub.status.idle": "2022-11-21T07:50:55.484291Z",
     "shell.execute_reply": "2022-11-21T07:50:55.483344Z"
    },
    "papermill": {
     "duration": 0.062678,
     "end_time": "2022-11-21T07:50:55.486820",
     "exception": false,
     "start_time": "2022-11-21T07:50:55.424142",
     "status": "completed"
    },
    "tags": []
   },
   "outputs": [
    {
     "name": "stdout",
     "output_type": "stream",
     "text": [
      "<class 'pandas.core.frame.DataFrame'>\n",
      "RangeIndex: 23998 entries, 0 to 23997\n",
      "Columns: 296 entries, Duration (in seconds) to Q44_12\n",
      "dtypes: object(296)\n",
      "memory usage: 54.2+ MB\n"
     ]
    }
   ],
   "source": [
    "df_kaggle_22.info()"
   ]
  },
  {
   "cell_type": "markdown",
   "id": "05673de3",
   "metadata": {
    "papermill": {
     "duration": 0.025489,
     "end_time": "2022-11-21T07:50:55.538230",
     "exception": false,
     "start_time": "2022-11-21T07:50:55.512741",
     "status": "completed"
    },
    "tags": []
   },
   "source": [
    "we have 296 columns here form Q1 to Q44_12 "
   ]
  },
  {
   "cell_type": "code",
   "execution_count": 6,
   "id": "bf9fe163",
   "metadata": {
    "execution": {
     "iopub.execute_input": "2022-11-21T07:50:55.590644Z",
     "iopub.status.busy": "2022-11-21T07:50:55.590294Z",
     "iopub.status.idle": "2022-11-21T07:50:55.597182Z",
     "shell.execute_reply": "2022-11-21T07:50:55.596474Z"
    },
    "papermill": {
     "duration": 0.035144,
     "end_time": "2022-11-21T07:50:55.598761",
     "exception": false,
     "start_time": "2022-11-21T07:50:55.563617",
     "status": "completed"
    },
    "tags": []
   },
   "outputs": [
    {
     "data": {
      "text/plain": [
       "Duration (in seconds)    object\n",
       "Q2                       object\n",
       "Q3                       object\n",
       "Q4                       object\n",
       "Q5                       object\n",
       "                          ...  \n",
       "Q44_8                    object\n",
       "Q44_9                    object\n",
       "Q44_10                   object\n",
       "Q44_11                   object\n",
       "Q44_12                   object\n",
       "Length: 296, dtype: object"
      ]
     },
     "execution_count": 6,
     "metadata": {},
     "output_type": "execute_result"
    }
   ],
   "source": [
    "df_kaggle_22.dtypes"
   ]
  },
  {
   "cell_type": "markdown",
   "id": "821434c7",
   "metadata": {
    "papermill": {
     "duration": 0.026067,
     "end_time": "2022-11-21T07:50:55.650656",
     "exception": false,
     "start_time": "2022-11-21T07:50:55.624589",
     "status": "completed"
    },
    "tags": []
   },
   "source": [
    "All columns datatypes are objects"
   ]
  },
  {
   "cell_type": "markdown",
   "id": "ec6e905e",
   "metadata": {
    "papermill": {
     "duration": 0.024291,
     "end_time": "2022-11-21T07:50:55.700201",
     "exception": false,
     "start_time": "2022-11-21T07:50:55.675910",
     "status": "completed"
    },
    "tags": []
   },
   "source": [
    "# Importing some usefull libraries for data anaysis and data visualization."
   ]
  },
  {
   "cell_type": "code",
   "execution_count": 7,
   "id": "4624c827",
   "metadata": {
    "execution": {
     "iopub.execute_input": "2022-11-21T07:50:55.753233Z",
     "iopub.status.busy": "2022-11-21T07:50:55.750548Z",
     "iopub.status.idle": "2022-11-21T07:50:56.993702Z",
     "shell.execute_reply": "2022-11-21T07:50:56.992226Z"
    },
    "papermill": {
     "duration": 1.271564,
     "end_time": "2022-11-21T07:50:56.996142",
     "exception": false,
     "start_time": "2022-11-21T07:50:55.724578",
     "status": "completed"
    },
    "tags": []
   },
   "outputs": [],
   "source": [
    "import matplotlib.pyplot as plt\n",
    "import seaborn as sns\n",
    "import numpy as np\n",
    "import pandas as pd"
   ]
  },
  {
   "cell_type": "code",
   "execution_count": 8,
   "id": "644ce1e4",
   "metadata": {
    "execution": {
     "iopub.execute_input": "2022-11-21T07:50:57.048093Z",
     "iopub.status.busy": "2022-11-21T07:50:57.047752Z",
     "iopub.status.idle": "2022-11-21T07:50:57.056922Z",
     "shell.execute_reply": "2022-11-21T07:50:57.055151Z"
    },
    "papermill": {
     "duration": 0.037784,
     "end_time": "2022-11-21T07:50:57.059303",
     "exception": false,
     "start_time": "2022-11-21T07:50:57.021519",
     "status": "completed"
    },
    "tags": []
   },
   "outputs": [
    {
     "data": {
      "text/plain": [
       "Index(['Duration (in seconds)', 'Q2', 'Q3', 'Q4', 'Q5', 'Q6_1', 'Q6_2', 'Q6_3',\n",
       "       'Q6_4', 'Q6_5',\n",
       "       ...\n",
       "       'Q44_3', 'Q44_4', 'Q44_5', 'Q44_6', 'Q44_7', 'Q44_8', 'Q44_9', 'Q44_10',\n",
       "       'Q44_11', 'Q44_12'],\n",
       "      dtype='object', length=296)"
      ]
     },
     "execution_count": 8,
     "metadata": {},
     "output_type": "execute_result"
    }
   ],
   "source": [
    "df_kaggle_22.columns"
   ]
  },
  {
   "cell_type": "code",
   "execution_count": 9,
   "id": "21a9f7f5",
   "metadata": {
    "execution": {
     "iopub.execute_input": "2022-11-21T07:50:57.109991Z",
     "iopub.status.busy": "2022-11-21T07:50:57.109641Z",
     "iopub.status.idle": "2022-11-21T07:50:57.116721Z",
     "shell.execute_reply": "2022-11-21T07:50:57.115023Z"
    },
    "papermill": {
     "duration": 0.034929,
     "end_time": "2022-11-21T07:50:57.119211",
     "exception": false,
     "start_time": "2022-11-21T07:50:57.084282",
     "status": "completed"
    },
    "tags": []
   },
   "outputs": [],
   "source": [
    "df_kaggle_22.rename(columns = {'Duration (in seconds)': 'Duration'}, inplace=True)"
   ]
  },
  {
   "cell_type": "code",
   "execution_count": 10,
   "id": "d41062f5",
   "metadata": {
    "execution": {
     "iopub.execute_input": "2022-11-21T07:50:57.173397Z",
     "iopub.status.busy": "2022-11-21T07:50:57.173001Z",
     "iopub.status.idle": "2022-11-21T07:50:57.207284Z",
     "shell.execute_reply": "2022-11-21T07:50:57.206272Z"
    },
    "papermill": {
     "duration": 0.064732,
     "end_time": "2022-11-21T07:50:57.209622",
     "exception": false,
     "start_time": "2022-11-21T07:50:57.144890",
     "status": "completed"
    },
    "tags": []
   },
   "outputs": [
    {
     "data": {
      "text/html": [
       "<div>\n",
       "<style scoped>\n",
       "    .dataframe tbody tr th:only-of-type {\n",
       "        vertical-align: middle;\n",
       "    }\n",
       "\n",
       "    .dataframe tbody tr th {\n",
       "        vertical-align: top;\n",
       "    }\n",
       "\n",
       "    .dataframe thead th {\n",
       "        text-align: right;\n",
       "    }\n",
       "</style>\n",
       "<table border=\"1\" class=\"dataframe\">\n",
       "  <thead>\n",
       "    <tr style=\"text-align: right;\">\n",
       "      <th></th>\n",
       "      <th>Duration</th>\n",
       "      <th>Q2</th>\n",
       "      <th>Q3</th>\n",
       "      <th>Q4</th>\n",
       "      <th>Q5</th>\n",
       "      <th>Q6_1</th>\n",
       "      <th>Q6_2</th>\n",
       "      <th>Q6_3</th>\n",
       "      <th>Q6_4</th>\n",
       "      <th>Q6_5</th>\n",
       "      <th>...</th>\n",
       "      <th>Q44_3</th>\n",
       "      <th>Q44_4</th>\n",
       "      <th>Q44_5</th>\n",
       "      <th>Q44_6</th>\n",
       "      <th>Q44_7</th>\n",
       "      <th>Q44_8</th>\n",
       "      <th>Q44_9</th>\n",
       "      <th>Q44_10</th>\n",
       "      <th>Q44_11</th>\n",
       "      <th>Q44_12</th>\n",
       "    </tr>\n",
       "  </thead>\n",
       "  <tbody>\n",
       "    <tr>\n",
       "      <th>0</th>\n",
       "      <td>Duration (in seconds)</td>\n",
       "      <td>What is your age (# years)?</td>\n",
       "      <td>What is your gender? - Selected Choice</td>\n",
       "      <td>In which country do you currently reside?</td>\n",
       "      <td>Are you currently a student? (high school, uni...</td>\n",
       "      <td>On which platforms have you begun or completed...</td>\n",
       "      <td>On which platforms have you begun or completed...</td>\n",
       "      <td>On which platforms have you begun or completed...</td>\n",
       "      <td>On which platforms have you begun or completed...</td>\n",
       "      <td>On which platforms have you begun or completed...</td>\n",
       "      <td>...</td>\n",
       "      <td>Who/what are your favorite media sources that ...</td>\n",
       "      <td>Who/what are your favorite media sources that ...</td>\n",
       "      <td>Who/what are your favorite media sources that ...</td>\n",
       "      <td>Who/what are your favorite media sources that ...</td>\n",
       "      <td>Who/what are your favorite media sources that ...</td>\n",
       "      <td>Who/what are your favorite media sources that ...</td>\n",
       "      <td>Who/what are your favorite media sources that ...</td>\n",
       "      <td>Who/what are your favorite media sources that ...</td>\n",
       "      <td>Who/what are your favorite media sources that ...</td>\n",
       "      <td>Who/what are your favorite media sources that ...</td>\n",
       "    </tr>\n",
       "    <tr>\n",
       "      <th>1</th>\n",
       "      <td>121</td>\n",
       "      <td>30-34</td>\n",
       "      <td>Man</td>\n",
       "      <td>India</td>\n",
       "      <td>No</td>\n",
       "      <td>NaN</td>\n",
       "      <td>NaN</td>\n",
       "      <td>NaN</td>\n",
       "      <td>NaN</td>\n",
       "      <td>NaN</td>\n",
       "      <td>...</td>\n",
       "      <td>NaN</td>\n",
       "      <td>NaN</td>\n",
       "      <td>NaN</td>\n",
       "      <td>NaN</td>\n",
       "      <td>NaN</td>\n",
       "      <td>NaN</td>\n",
       "      <td>NaN</td>\n",
       "      <td>NaN</td>\n",
       "      <td>NaN</td>\n",
       "      <td>NaN</td>\n",
       "    </tr>\n",
       "    <tr>\n",
       "      <th>2</th>\n",
       "      <td>462</td>\n",
       "      <td>30-34</td>\n",
       "      <td>Man</td>\n",
       "      <td>Algeria</td>\n",
       "      <td>No</td>\n",
       "      <td>NaN</td>\n",
       "      <td>NaN</td>\n",
       "      <td>NaN</td>\n",
       "      <td>NaN</td>\n",
       "      <td>NaN</td>\n",
       "      <td>...</td>\n",
       "      <td>NaN</td>\n",
       "      <td>NaN</td>\n",
       "      <td>NaN</td>\n",
       "      <td>NaN</td>\n",
       "      <td>NaN</td>\n",
       "      <td>NaN</td>\n",
       "      <td>NaN</td>\n",
       "      <td>NaN</td>\n",
       "      <td>NaN</td>\n",
       "      <td>NaN</td>\n",
       "    </tr>\n",
       "    <tr>\n",
       "      <th>3</th>\n",
       "      <td>293</td>\n",
       "      <td>18-21</td>\n",
       "      <td>Man</td>\n",
       "      <td>Egypt</td>\n",
       "      <td>Yes</td>\n",
       "      <td>Coursera</td>\n",
       "      <td>edX</td>\n",
       "      <td>NaN</td>\n",
       "      <td>DataCamp</td>\n",
       "      <td>NaN</td>\n",
       "      <td>...</td>\n",
       "      <td>NaN</td>\n",
       "      <td>Kaggle (notebooks, forums, etc)</td>\n",
       "      <td>NaN</td>\n",
       "      <td>YouTube (Kaggle YouTube, Cloud AI Adventures, ...</td>\n",
       "      <td>Podcasts (Chai Time Data Science, O’Reilly Dat...</td>\n",
       "      <td>NaN</td>\n",
       "      <td>NaN</td>\n",
       "      <td>NaN</td>\n",
       "      <td>NaN</td>\n",
       "      <td>NaN</td>\n",
       "    </tr>\n",
       "    <tr>\n",
       "      <th>4</th>\n",
       "      <td>851</td>\n",
       "      <td>55-59</td>\n",
       "      <td>Man</td>\n",
       "      <td>France</td>\n",
       "      <td>No</td>\n",
       "      <td>Coursera</td>\n",
       "      <td>NaN</td>\n",
       "      <td>Kaggle Learn Courses</td>\n",
       "      <td>NaN</td>\n",
       "      <td>NaN</td>\n",
       "      <td>...</td>\n",
       "      <td>NaN</td>\n",
       "      <td>Kaggle (notebooks, forums, etc)</td>\n",
       "      <td>Course Forums (forums.fast.ai, Coursera forums...</td>\n",
       "      <td>NaN</td>\n",
       "      <td>NaN</td>\n",
       "      <td>Blogs (Towards Data Science, Analytics Vidhya,...</td>\n",
       "      <td>NaN</td>\n",
       "      <td>NaN</td>\n",
       "      <td>NaN</td>\n",
       "      <td>NaN</td>\n",
       "    </tr>\n",
       "    <tr>\n",
       "      <th>...</th>\n",
       "      <td>...</td>\n",
       "      <td>...</td>\n",
       "      <td>...</td>\n",
       "      <td>...</td>\n",
       "      <td>...</td>\n",
       "      <td>...</td>\n",
       "      <td>...</td>\n",
       "      <td>...</td>\n",
       "      <td>...</td>\n",
       "      <td>...</td>\n",
       "      <td>...</td>\n",
       "      <td>...</td>\n",
       "      <td>...</td>\n",
       "      <td>...</td>\n",
       "      <td>...</td>\n",
       "      <td>...</td>\n",
       "      <td>...</td>\n",
       "      <td>...</td>\n",
       "      <td>...</td>\n",
       "      <td>...</td>\n",
       "      <td>...</td>\n",
       "    </tr>\n",
       "    <tr>\n",
       "      <th>23993</th>\n",
       "      <td>331</td>\n",
       "      <td>22-24</td>\n",
       "      <td>Man</td>\n",
       "      <td>United States of America</td>\n",
       "      <td>Yes</td>\n",
       "      <td>NaN</td>\n",
       "      <td>NaN</td>\n",
       "      <td>NaN</td>\n",
       "      <td>NaN</td>\n",
       "      <td>NaN</td>\n",
       "      <td>...</td>\n",
       "      <td>NaN</td>\n",
       "      <td>Kaggle (notebooks, forums, etc)</td>\n",
       "      <td>NaN</td>\n",
       "      <td>YouTube (Kaggle YouTube, Cloud AI Adventures, ...</td>\n",
       "      <td>Podcasts (Chai Time Data Science, O’Reilly Dat...</td>\n",
       "      <td>NaN</td>\n",
       "      <td>Journal Publications (peer-reviewed journals, ...</td>\n",
       "      <td>NaN</td>\n",
       "      <td>NaN</td>\n",
       "      <td>NaN</td>\n",
       "    </tr>\n",
       "    <tr>\n",
       "      <th>23994</th>\n",
       "      <td>330</td>\n",
       "      <td>60-69</td>\n",
       "      <td>Man</td>\n",
       "      <td>United States of America</td>\n",
       "      <td>Yes</td>\n",
       "      <td>NaN</td>\n",
       "      <td>NaN</td>\n",
       "      <td>NaN</td>\n",
       "      <td>NaN</td>\n",
       "      <td>NaN</td>\n",
       "      <td>...</td>\n",
       "      <td>NaN</td>\n",
       "      <td>NaN</td>\n",
       "      <td>NaN</td>\n",
       "      <td>YouTube (Kaggle YouTube, Cloud AI Adventures, ...</td>\n",
       "      <td>NaN</td>\n",
       "      <td>NaN</td>\n",
       "      <td>NaN</td>\n",
       "      <td>NaN</td>\n",
       "      <td>NaN</td>\n",
       "      <td>NaN</td>\n",
       "    </tr>\n",
       "    <tr>\n",
       "      <th>23995</th>\n",
       "      <td>860</td>\n",
       "      <td>25-29</td>\n",
       "      <td>Man</td>\n",
       "      <td>Turkey</td>\n",
       "      <td>No</td>\n",
       "      <td>NaN</td>\n",
       "      <td>NaN</td>\n",
       "      <td>NaN</td>\n",
       "      <td>DataCamp</td>\n",
       "      <td>NaN</td>\n",
       "      <td>...</td>\n",
       "      <td>NaN</td>\n",
       "      <td>Kaggle (notebooks, forums, etc)</td>\n",
       "      <td>NaN</td>\n",
       "      <td>YouTube (Kaggle YouTube, Cloud AI Adventures, ...</td>\n",
       "      <td>NaN</td>\n",
       "      <td>NaN</td>\n",
       "      <td>NaN</td>\n",
       "      <td>NaN</td>\n",
       "      <td>NaN</td>\n",
       "      <td>NaN</td>\n",
       "    </tr>\n",
       "    <tr>\n",
       "      <th>23996</th>\n",
       "      <td>597</td>\n",
       "      <td>35-39</td>\n",
       "      <td>Woman</td>\n",
       "      <td>Israel</td>\n",
       "      <td>No</td>\n",
       "      <td>NaN</td>\n",
       "      <td>NaN</td>\n",
       "      <td>Kaggle Learn Courses</td>\n",
       "      <td>NaN</td>\n",
       "      <td>NaN</td>\n",
       "      <td>...</td>\n",
       "      <td>NaN</td>\n",
       "      <td>NaN</td>\n",
       "      <td>NaN</td>\n",
       "      <td>YouTube (Kaggle YouTube, Cloud AI Adventures, ...</td>\n",
       "      <td>NaN</td>\n",
       "      <td>NaN</td>\n",
       "      <td>NaN</td>\n",
       "      <td>NaN</td>\n",
       "      <td>NaN</td>\n",
       "      <td>NaN</td>\n",
       "    </tr>\n",
       "    <tr>\n",
       "      <th>23997</th>\n",
       "      <td>303</td>\n",
       "      <td>18-21</td>\n",
       "      <td>Man</td>\n",
       "      <td>India</td>\n",
       "      <td>Yes</td>\n",
       "      <td>NaN</td>\n",
       "      <td>NaN</td>\n",
       "      <td>NaN</td>\n",
       "      <td>NaN</td>\n",
       "      <td>NaN</td>\n",
       "      <td>...</td>\n",
       "      <td>NaN</td>\n",
       "      <td>NaN</td>\n",
       "      <td>NaN</td>\n",
       "      <td>NaN</td>\n",
       "      <td>NaN</td>\n",
       "      <td>NaN</td>\n",
       "      <td>NaN</td>\n",
       "      <td>NaN</td>\n",
       "      <td>NaN</td>\n",
       "      <td>Other</td>\n",
       "    </tr>\n",
       "  </tbody>\n",
       "</table>\n",
       "<p>23998 rows × 296 columns</p>\n",
       "</div>"
      ],
      "text/plain": [
       "                    Duration                           Q2  \\\n",
       "0      Duration (in seconds)  What is your age (# years)?   \n",
       "1                        121                        30-34   \n",
       "2                        462                        30-34   \n",
       "3                        293                        18-21   \n",
       "4                        851                        55-59   \n",
       "...                      ...                          ...   \n",
       "23993                    331                        22-24   \n",
       "23994                    330                        60-69   \n",
       "23995                    860                        25-29   \n",
       "23996                    597                        35-39   \n",
       "23997                    303                        18-21   \n",
       "\n",
       "                                           Q3  \\\n",
       "0      What is your gender? - Selected Choice   \n",
       "1                                         Man   \n",
       "2                                         Man   \n",
       "3                                         Man   \n",
       "4                                         Man   \n",
       "...                                       ...   \n",
       "23993                                     Man   \n",
       "23994                                     Man   \n",
       "23995                                     Man   \n",
       "23996                                   Woman   \n",
       "23997                                     Man   \n",
       "\n",
       "                                              Q4  \\\n",
       "0      In which country do you currently reside?   \n",
       "1                                          India   \n",
       "2                                        Algeria   \n",
       "3                                          Egypt   \n",
       "4                                         France   \n",
       "...                                          ...   \n",
       "23993                   United States of America   \n",
       "23994                   United States of America   \n",
       "23995                                     Turkey   \n",
       "23996                                     Israel   \n",
       "23997                                      India   \n",
       "\n",
       "                                                      Q5  \\\n",
       "0      Are you currently a student? (high school, uni...   \n",
       "1                                                     No   \n",
       "2                                                     No   \n",
       "3                                                    Yes   \n",
       "4                                                     No   \n",
       "...                                                  ...   \n",
       "23993                                                Yes   \n",
       "23994                                                Yes   \n",
       "23995                                                 No   \n",
       "23996                                                 No   \n",
       "23997                                                Yes   \n",
       "\n",
       "                                                    Q6_1  \\\n",
       "0      On which platforms have you begun or completed...   \n",
       "1                                                    NaN   \n",
       "2                                                    NaN   \n",
       "3                                               Coursera   \n",
       "4                                               Coursera   \n",
       "...                                                  ...   \n",
       "23993                                                NaN   \n",
       "23994                                                NaN   \n",
       "23995                                                NaN   \n",
       "23996                                                NaN   \n",
       "23997                                                NaN   \n",
       "\n",
       "                                                    Q6_2  \\\n",
       "0      On which platforms have you begun or completed...   \n",
       "1                                                    NaN   \n",
       "2                                                    NaN   \n",
       "3                                                    edX   \n",
       "4                                                    NaN   \n",
       "...                                                  ...   \n",
       "23993                                                NaN   \n",
       "23994                                                NaN   \n",
       "23995                                                NaN   \n",
       "23996                                                NaN   \n",
       "23997                                                NaN   \n",
       "\n",
       "                                                    Q6_3  \\\n",
       "0      On which platforms have you begun or completed...   \n",
       "1                                                    NaN   \n",
       "2                                                    NaN   \n",
       "3                                                    NaN   \n",
       "4                                   Kaggle Learn Courses   \n",
       "...                                                  ...   \n",
       "23993                                                NaN   \n",
       "23994                                                NaN   \n",
       "23995                                                NaN   \n",
       "23996                               Kaggle Learn Courses   \n",
       "23997                                                NaN   \n",
       "\n",
       "                                                    Q6_4  \\\n",
       "0      On which platforms have you begun or completed...   \n",
       "1                                                    NaN   \n",
       "2                                                    NaN   \n",
       "3                                               DataCamp   \n",
       "4                                                    NaN   \n",
       "...                                                  ...   \n",
       "23993                                                NaN   \n",
       "23994                                                NaN   \n",
       "23995                                           DataCamp   \n",
       "23996                                                NaN   \n",
       "23997                                                NaN   \n",
       "\n",
       "                                                    Q6_5  ...  \\\n",
       "0      On which platforms have you begun or completed...  ...   \n",
       "1                                                    NaN  ...   \n",
       "2                                                    NaN  ...   \n",
       "3                                                    NaN  ...   \n",
       "4                                                    NaN  ...   \n",
       "...                                                  ...  ...   \n",
       "23993                                                NaN  ...   \n",
       "23994                                                NaN  ...   \n",
       "23995                                                NaN  ...   \n",
       "23996                                                NaN  ...   \n",
       "23997                                                NaN  ...   \n",
       "\n",
       "                                                   Q44_3  \\\n",
       "0      Who/what are your favorite media sources that ...   \n",
       "1                                                    NaN   \n",
       "2                                                    NaN   \n",
       "3                                                    NaN   \n",
       "4                                                    NaN   \n",
       "...                                                  ...   \n",
       "23993                                                NaN   \n",
       "23994                                                NaN   \n",
       "23995                                                NaN   \n",
       "23996                                                NaN   \n",
       "23997                                                NaN   \n",
       "\n",
       "                                                   Q44_4  \\\n",
       "0      Who/what are your favorite media sources that ...   \n",
       "1                                                    NaN   \n",
       "2                                                    NaN   \n",
       "3                        Kaggle (notebooks, forums, etc)   \n",
       "4                        Kaggle (notebooks, forums, etc)   \n",
       "...                                                  ...   \n",
       "23993                    Kaggle (notebooks, forums, etc)   \n",
       "23994                                                NaN   \n",
       "23995                    Kaggle (notebooks, forums, etc)   \n",
       "23996                                                NaN   \n",
       "23997                                                NaN   \n",
       "\n",
       "                                                   Q44_5  \\\n",
       "0      Who/what are your favorite media sources that ...   \n",
       "1                                                    NaN   \n",
       "2                                                    NaN   \n",
       "3                                                    NaN   \n",
       "4      Course Forums (forums.fast.ai, Coursera forums...   \n",
       "...                                                  ...   \n",
       "23993                                                NaN   \n",
       "23994                                                NaN   \n",
       "23995                                                NaN   \n",
       "23996                                                NaN   \n",
       "23997                                                NaN   \n",
       "\n",
       "                                                   Q44_6  \\\n",
       "0      Who/what are your favorite media sources that ...   \n",
       "1                                                    NaN   \n",
       "2                                                    NaN   \n",
       "3      YouTube (Kaggle YouTube, Cloud AI Adventures, ...   \n",
       "4                                                    NaN   \n",
       "...                                                  ...   \n",
       "23993  YouTube (Kaggle YouTube, Cloud AI Adventures, ...   \n",
       "23994  YouTube (Kaggle YouTube, Cloud AI Adventures, ...   \n",
       "23995  YouTube (Kaggle YouTube, Cloud AI Adventures, ...   \n",
       "23996  YouTube (Kaggle YouTube, Cloud AI Adventures, ...   \n",
       "23997                                                NaN   \n",
       "\n",
       "                                                   Q44_7  \\\n",
       "0      Who/what are your favorite media sources that ...   \n",
       "1                                                    NaN   \n",
       "2                                                    NaN   \n",
       "3      Podcasts (Chai Time Data Science, O’Reilly Dat...   \n",
       "4                                                    NaN   \n",
       "...                                                  ...   \n",
       "23993  Podcasts (Chai Time Data Science, O’Reilly Dat...   \n",
       "23994                                                NaN   \n",
       "23995                                                NaN   \n",
       "23996                                                NaN   \n",
       "23997                                                NaN   \n",
       "\n",
       "                                                   Q44_8  \\\n",
       "0      Who/what are your favorite media sources that ...   \n",
       "1                                                    NaN   \n",
       "2                                                    NaN   \n",
       "3                                                    NaN   \n",
       "4      Blogs (Towards Data Science, Analytics Vidhya,...   \n",
       "...                                                  ...   \n",
       "23993                                                NaN   \n",
       "23994                                                NaN   \n",
       "23995                                                NaN   \n",
       "23996                                                NaN   \n",
       "23997                                                NaN   \n",
       "\n",
       "                                                   Q44_9  \\\n",
       "0      Who/what are your favorite media sources that ...   \n",
       "1                                                    NaN   \n",
       "2                                                    NaN   \n",
       "3                                                    NaN   \n",
       "4                                                    NaN   \n",
       "...                                                  ...   \n",
       "23993  Journal Publications (peer-reviewed journals, ...   \n",
       "23994                                                NaN   \n",
       "23995                                                NaN   \n",
       "23996                                                NaN   \n",
       "23997                                                NaN   \n",
       "\n",
       "                                                  Q44_10  \\\n",
       "0      Who/what are your favorite media sources that ...   \n",
       "1                                                    NaN   \n",
       "2                                                    NaN   \n",
       "3                                                    NaN   \n",
       "4                                                    NaN   \n",
       "...                                                  ...   \n",
       "23993                                                NaN   \n",
       "23994                                                NaN   \n",
       "23995                                                NaN   \n",
       "23996                                                NaN   \n",
       "23997                                                NaN   \n",
       "\n",
       "                                                  Q44_11  \\\n",
       "0      Who/what are your favorite media sources that ...   \n",
       "1                                                    NaN   \n",
       "2                                                    NaN   \n",
       "3                                                    NaN   \n",
       "4                                                    NaN   \n",
       "...                                                  ...   \n",
       "23993                                                NaN   \n",
       "23994                                                NaN   \n",
       "23995                                                NaN   \n",
       "23996                                                NaN   \n",
       "23997                                                NaN   \n",
       "\n",
       "                                                  Q44_12  \n",
       "0      Who/what are your favorite media sources that ...  \n",
       "1                                                    NaN  \n",
       "2                                                    NaN  \n",
       "3                                                    NaN  \n",
       "4                                                    NaN  \n",
       "...                                                  ...  \n",
       "23993                                                NaN  \n",
       "23994                                                NaN  \n",
       "23995                                                NaN  \n",
       "23996                                                NaN  \n",
       "23997                                              Other  \n",
       "\n",
       "[23998 rows x 296 columns]"
      ]
     },
     "execution_count": 10,
     "metadata": {},
     "output_type": "execute_result"
    }
   ],
   "source": [
    "df_kaggle_22"
   ]
  },
  {
   "cell_type": "code",
   "execution_count": 11,
   "id": "844f6010",
   "metadata": {
    "execution": {
     "iopub.execute_input": "2022-11-21T07:50:57.262410Z",
     "iopub.status.busy": "2022-11-21T07:50:57.262109Z",
     "iopub.status.idle": "2022-11-21T07:50:57.272369Z",
     "shell.execute_reply": "2022-11-21T07:50:57.271667Z"
    },
    "papermill": {
     "duration": 0.038926,
     "end_time": "2022-11-21T07:50:57.274564",
     "exception": false,
     "start_time": "2022-11-21T07:50:57.235638",
     "status": "completed"
    },
    "tags": []
   },
   "outputs": [
    {
     "data": {
      "text/plain": [
       "23998"
      ]
     },
     "execution_count": 11,
     "metadata": {},
     "output_type": "execute_result"
    }
   ],
   "source": [
    "df_kaggle_22['Duration'].value_counts().sum()"
   ]
  },
  {
   "cell_type": "markdown",
   "id": "7da6c71b",
   "metadata": {
    "papermill": {
     "duration": 0.02581,
     "end_time": "2022-11-21T07:50:57.326362",
     "exception": false,
     "start_time": "2022-11-21T07:50:57.300552",
     "status": "completed"
    },
    "tags": []
   },
   "source": [
    "# Q2. What is your age (# years)?"
   ]
  },
  {
   "cell_type": "code",
   "execution_count": 12,
   "id": "97878397",
   "metadata": {
    "execution": {
     "iopub.execute_input": "2022-11-21T07:50:57.381294Z",
     "iopub.status.busy": "2022-11-21T07:50:57.380925Z",
     "iopub.status.idle": "2022-11-21T07:50:57.389647Z",
     "shell.execute_reply": "2022-11-21T07:50:57.388521Z"
    },
    "papermill": {
     "duration": 0.039229,
     "end_time": "2022-11-21T07:50:57.391993",
     "exception": false,
     "start_time": "2022-11-21T07:50:57.352764",
     "status": "completed"
    },
    "tags": []
   },
   "outputs": [
    {
     "data": {
      "text/plain": [
       "array(['What is your age (# years)?', '30-34', '18-21', '55-59', '45-49',\n",
       "       '70+', '22-24', '35-39', '40-44', '50-54', '25-29', '60-69'],\n",
       "      dtype=object)"
      ]
     },
     "execution_count": 12,
     "metadata": {},
     "output_type": "execute_result"
    }
   ],
   "source": [
    "df_kaggle_22['Q2'].unique()\n"
   ]
  },
  {
   "cell_type": "markdown",
   "id": "b2dc7afa",
   "metadata": {
    "papermill": {
     "duration": 0.02575,
     "end_time": "2022-11-21T07:50:57.444319",
     "exception": false,
     "start_time": "2022-11-21T07:50:57.418569",
     "status": "completed"
    },
    "tags": []
   },
   "source": [
    "List of values with different range like 30-35, 18-21 and so on.\n"
   ]
  },
  {
   "cell_type": "markdown",
   "id": "3c159057",
   "metadata": {
    "papermill": {
     "duration": 0.02613,
     "end_time": "2022-11-21T07:50:57.496118",
     "exception": false,
     "start_time": "2022-11-21T07:50:57.469988",
     "status": "completed"
    },
    "tags": []
   },
   "source": [
    "we have another method to see the uniques entries"
   ]
  },
  {
   "cell_type": "code",
   "execution_count": 13,
   "id": "abcbcd2d",
   "metadata": {
    "execution": {
     "iopub.execute_input": "2022-11-21T07:50:57.554119Z",
     "iopub.status.busy": "2022-11-21T07:50:57.553721Z",
     "iopub.status.idle": "2022-11-21T07:50:57.563689Z",
     "shell.execute_reply": "2022-11-21T07:50:57.562344Z"
    },
    "papermill": {
     "duration": 0.041249,
     "end_time": "2022-11-21T07:50:57.566140",
     "exception": false,
     "start_time": "2022-11-21T07:50:57.524891",
     "status": "completed"
    },
    "tags": []
   },
   "outputs": [
    {
     "data": {
      "text/plain": [
       "18-21                          4559\n",
       "25-29                          4472\n",
       "22-24                          4283\n",
       "30-34                          2972\n",
       "35-39                          2353\n",
       "40-44                          1927\n",
       "45-49                          1253\n",
       "50-54                           914\n",
       "55-59                           611\n",
       "60-69                           526\n",
       "70+                             127\n",
       "What is your age (# years)?       1\n",
       "Name: Q2, dtype: int64"
      ]
     },
     "execution_count": 13,
     "metadata": {},
     "output_type": "execute_result"
    }
   ],
   "source": [
    "age = df_kaggle_22['Q2'].value_counts().sort_values(ascending = False)\n",
    "age"
   ]
  },
  {
   "cell_type": "code",
   "execution_count": 14,
   "id": "2ff1cabc",
   "metadata": {
    "execution": {
     "iopub.execute_input": "2022-11-21T07:50:57.621783Z",
     "iopub.status.busy": "2022-11-21T07:50:57.621444Z",
     "iopub.status.idle": "2022-11-21T07:50:57.628664Z",
     "shell.execute_reply": "2022-11-21T07:50:57.627683Z"
    },
    "papermill": {
     "duration": 0.037546,
     "end_time": "2022-11-21T07:50:57.630497",
     "exception": false,
     "start_time": "2022-11-21T07:50:57.592951",
     "status": "completed"
    },
    "tags": []
   },
   "outputs": [
    {
     "data": {
      "text/plain": [
       "18-21                          4559\n",
       "25-29                          4472\n",
       "22-24                          4283\n",
       "30-34                          2972\n",
       "35-39                          2353\n",
       "40-44                          1927\n",
       "45-49                          1253\n",
       "50-54                           914\n",
       "55-59                           611\n",
       "60-69                           526\n",
       "70+                             127\n",
       "What is your age (# years)?       1\n",
       "Name: Q2, dtype: int64"
      ]
     },
     "execution_count": 14,
     "metadata": {},
     "output_type": "execute_result"
    }
   ],
   "source": [
    "age"
   ]
  },
  {
   "cell_type": "code",
   "execution_count": 15,
   "id": "7220dfa8",
   "metadata": {
    "execution": {
     "iopub.execute_input": "2022-11-21T07:50:57.683796Z",
     "iopub.status.busy": "2022-11-21T07:50:57.683504Z",
     "iopub.status.idle": "2022-11-21T07:50:57.956165Z",
     "shell.execute_reply": "2022-11-21T07:50:57.955073Z"
    },
    "papermill": {
     "duration": 0.302953,
     "end_time": "2022-11-21T07:50:57.959236",
     "exception": false,
     "start_time": "2022-11-21T07:50:57.656283",
     "status": "completed"
    },
    "tags": []
   },
   "outputs": [
    {
     "data": {
      "image/png": "[encoded data removed]",
      "text/plain": [
       "<Figure size 432x288 with 1 Axes>"
      ]
     },
     "metadata": {
      "needs_background": "light"
     },
     "output_type": "display_data"
    }
   ],
   "source": [
    "fig, ax = plt.subplots()\n",
    "sns.set_style('dark')\n",
    "sns.histplot(df_kaggle_22['Q2'].sort_values(ascending=True), ax=ax)\n",
    "plt.xticks(rotation=90)\n",
    "ax.set(xlabel= \"What is your age (#year)\",\n",
    "      ylabel =\"Number of ages\",\n",
    "      title = \"Kaggle survey 2022-23 age wise participtions\");\n"
   ]
  },
  {
   "cell_type": "markdown",
   "id": "e4a3add9",
   "metadata": {
    "papermill": {
     "duration": 0.027312,
     "end_time": "2022-11-21T07:50:58.015199",
     "exception": false,
     "start_time": "2022-11-21T07:50:57.987887",
     "status": "completed"
    },
    "tags": []
   },
   "source": [
    "We have more participants are from age 18 to 30 age braket."
   ]
  },
  {
   "cell_type": "markdown",
   "id": "08586362",
   "metadata": {
    "papermill": {
     "duration": 0.026529,
     "end_time": "2022-11-21T07:50:58.069481",
     "exception": false,
     "start_time": "2022-11-21T07:50:58.042952",
     "status": "completed"
    },
    "tags": []
   },
   "source": [
    "# What is your gender? - Selected Choice"
   ]
  },
  {
   "cell_type": "code",
   "execution_count": 16,
   "id": "5690607c",
   "metadata": {
    "execution": {
     "iopub.execute_input": "2022-11-21T07:50:58.124784Z",
     "iopub.status.busy": "2022-11-21T07:50:58.123740Z",
     "iopub.status.idle": "2022-11-21T07:50:58.135788Z",
     "shell.execute_reply": "2022-11-21T07:50:58.134699Z"
    },
    "papermill": {
     "duration": 0.041843,
     "end_time": "2022-11-21T07:50:58.137664",
     "exception": false,
     "start_time": "2022-11-21T07:50:58.095821",
     "status": "completed"
    },
    "tags": []
   },
   "outputs": [
    {
     "data": {
      "text/plain": [
       "Man                        18266\n",
       "Woman                       5286\n",
       "Prefer not to say            334\n",
       "Nonbinary                     78\n",
       "Prefer to self-describe       33\n",
       "Name: Q3, dtype: int64"
      ]
     },
     "execution_count": 16,
     "metadata": {},
     "output_type": "execute_result"
    }
   ],
   "source": [
    "gender = df_kaggle_22['Q3'].value_counts()[:5]\n",
    "gender"
   ]
  },
  {
   "cell_type": "code",
   "execution_count": 17,
   "id": "c4c2d487",
   "metadata": {
    "execution": {
     "iopub.execute_input": "2022-11-21T07:50:58.194155Z",
     "iopub.status.busy": "2022-11-21T07:50:58.193694Z",
     "iopub.status.idle": "2022-11-21T07:50:58.362945Z",
     "shell.execute_reply": "2022-11-21T07:50:58.361850Z"
    },
    "papermill": {
     "duration": 0.199892,
     "end_time": "2022-11-21T07:50:58.365214",
     "exception": false,
     "start_time": "2022-11-21T07:50:58.165322",
     "status": "completed"
    },
    "tags": []
   },
   "outputs": [
    {
     "data": {
      "image/png": "[encoded data removed]",
      "text/plain": [
       "<Figure size 720x432 with 1 Axes>"
      ]
     },
     "metadata": {},
     "output_type": "display_data"
    }
   ],
   "source": [
    "gender_counts = df_kaggle_22[\"Q3\"].value_counts()[: 5]\n",
    "plt.figure(figsize=(10,6))\n",
    "sns.barplot(x = gender_counts.index, y = gender_counts, orient='v');\n",
    "plt.xticks(rotation=45);\n",
    "ax.set_ylabel(\"Count\")\n",
    "ax.set_xlabel(\"Gender\")\n",
    "ax.set_title(\"Gender participatent in Kaggle 2022\")\n",
    "plt.show()"
   ]
  },
  {
   "cell_type": "markdown",
   "id": "28cfdf81",
   "metadata": {
    "papermill": {
     "duration": 0.029705,
     "end_time": "2022-11-21T07:50:58.423687",
     "exception": false,
     "start_time": "2022-11-21T07:50:58.393982",
     "status": "completed"
    },
    "tags": []
   },
   "source": [
    "Participation of men are more in number than women, but number of women are also increasing as compare to previous."
   ]
  },
  {
   "cell_type": "markdown",
   "id": "2abbb50c",
   "metadata": {
    "papermill": {
     "duration": 0.027641,
     "end_time": "2022-11-21T07:50:58.479075",
     "exception": false,
     "start_time": "2022-11-21T07:50:58.451434",
     "status": "completed"
    },
    "tags": []
   },
   "source": [
    "# In which country do you currently reside?"
   ]
  },
  {
   "cell_type": "code",
   "execution_count": 18,
   "id": "4959f921",
   "metadata": {
    "execution": {
     "iopub.execute_input": "2022-11-21T07:50:58.535211Z",
     "iopub.status.busy": "2022-11-21T07:50:58.534702Z",
     "iopub.status.idle": "2022-11-21T07:50:58.543739Z",
     "shell.execute_reply": "2022-11-21T07:50:58.542571Z"
    },
    "papermill": {
     "duration": 0.040522,
     "end_time": "2022-11-21T07:50:58.546076",
     "exception": false,
     "start_time": "2022-11-21T07:50:58.505554",
     "status": "completed"
    },
    "tags": []
   },
   "outputs": [
    {
     "data": {
      "text/plain": [
       "India                                                   8792\n",
       "United States of America                                2920\n",
       "Other                                                   1430\n",
       "Brazil                                                   833\n",
       "Nigeria                                                  731\n",
       "Pakistan                                                 620\n",
       "Japan                                                    556\n",
       "China                                                    453\n",
       "Egypt                                                    383\n",
       "Mexico                                                   380\n",
       "Indonesia                                                376\n",
       "Turkey                                                   345\n",
       "Russia                                                   324\n",
       "South Korea                                              317\n",
       "France                                                   262\n",
       "United Kingdom of Great Britain and Northern Ireland     258\n",
       "Canada                                                   257\n",
       "Spain                                                    257\n",
       "Colombia                                                 256\n",
       "Bangladesh                                               251\n",
       "Taiwan                                                   242\n",
       "Viet Nam                                                 212\n",
       "Argentina                                                204\n",
       "Kenya                                                    201\n",
       "Italy                                                    182\n",
       "Morocco                                                  177\n",
       "Australia                                                142\n",
       "Thailand                                                 132\n",
       "Tunisia                                                  125\n",
       "Peru                                                     121\n",
       "Iran, Islamic Republic of...                             120\n",
       "Chile                                                    115\n",
       "Poland                                                   113\n",
       "South Africa                                             109\n",
       "Philippines                                              108\n",
       "Netherlands                                              108\n",
       "Ghana                                                    107\n",
       "Israel                                                   102\n",
       "Germany                                                   99\n",
       "Ethiopia                                                  98\n",
       "United Arab Emirates                                      94\n",
       "Portugal                                                  87\n",
       "Saudi Arabia                                              84\n",
       "Ukraine                                                   79\n",
       "Sri Lanka                                                 77\n",
       "Nepal                                                     75\n",
       "Malaysia                                                  74\n",
       "Singapore                                                 68\n",
       "Cameroon                                                  68\n",
       "Algeria                                                   62\n",
       "Hong Kong (S.A.R.)                                        58\n",
       "Zimbabwe                                                  54\n",
       "Ecuador                                                   54\n",
       "Ireland                                                   53\n",
       "Belgium                                                   51\n",
       "Romania                                                   50\n",
       "Czech Republic                                            49\n",
       "I do not wish to disclose my location                     42\n",
       "In which country do you currently reside?                  1\n",
       "Name: Q4, dtype: int64"
      ]
     },
     "execution_count": 18,
     "metadata": {},
     "output_type": "execute_result"
    }
   ],
   "source": [
    "resident = df_kaggle_22['Q4'].value_counts()\n",
    "resident"
   ]
  },
  {
   "cell_type": "code",
   "execution_count": 19,
   "id": "2223459d",
   "metadata": {
    "execution": {
     "iopub.execute_input": "2022-11-21T07:50:58.603457Z",
     "iopub.status.busy": "2022-11-21T07:50:58.603120Z",
     "iopub.status.idle": "2022-11-21T07:50:58.789982Z",
     "shell.execute_reply": "2022-11-21T07:50:58.789404Z"
    },
    "papermill": {
     "duration": 0.217999,
     "end_time": "2022-11-21T07:50:58.792135",
     "exception": false,
     "start_time": "2022-11-21T07:50:58.574136",
     "status": "completed"
    },
    "tags": []
   },
   "outputs": [
    {
     "data": {
      "image/png": "[encoded data removed]",
      "text/plain": [
       "<Figure size 1080x576 with 1 Axes>"
      ]
     },
     "metadata": {},
     "output_type": "display_data"
    }
   ],
   "source": [
    "#Top Ten countries\n",
    "top_countries = df_kaggle_22['Q4'].value_counts()[:10]\n",
    "fig, ax = plt.subplots(figsize=(15,8))\n",
    "# ax.set_ylim([0,20])\n",
    "ax.set_ylabel(\"Count\")\n",
    "ax.set_title(\"Top Countries of the participatent in Kaggle 2022\")\n",
    "plt.xticks(rotation=45)\n",
    "sns.barplot( x = top_countries.index, y = top_countries, orient='v');\n",
    "plt.show()"
   ]
  },
  {
   "cell_type": "markdown",
   "id": "b3c3ff7c",
   "metadata": {
    "papermill": {
     "duration": 0.027874,
     "end_time": "2022-11-21T07:50:58.848715",
     "exception": false,
     "start_time": "2022-11-21T07:50:58.820841",
     "status": "completed"
    },
    "tags": []
   },
   "source": [
    "# Are you currently a student? (high school, university, or graduate)"
   ]
  },
  {
   "cell_type": "code",
   "execution_count": 20,
   "id": "003faf20",
   "metadata": {
    "execution": {
     "iopub.execute_input": "2022-11-21T07:50:58.908599Z",
     "iopub.status.busy": "2022-11-21T07:50:58.908090Z",
     "iopub.status.idle": "2022-11-21T07:50:58.915616Z",
     "shell.execute_reply": "2022-11-21T07:50:58.914987Z"
    },
    "papermill": {
     "duration": 0.039781,
     "end_time": "2022-11-21T07:50:58.917290",
     "exception": false,
     "start_time": "2022-11-21T07:50:58.877509",
     "status": "completed"
    },
    "tags": []
   },
   "outputs": [
    {
     "data": {
      "text/plain": [
       "No                                                                     12036\n",
       "Yes                                                                    11961\n",
       "Are you currently a student? (high school, university, or graduate)        1\n",
       "Name: Q5, dtype: int64"
      ]
     },
     "execution_count": 20,
     "metadata": {},
     "output_type": "execute_result"
    }
   ],
   "source": [
    "educational_background_1 = df_kaggle_22['Q5'].value_counts()\n",
    "educational_background_1"
   ]
  },
  {
   "cell_type": "code",
   "execution_count": 21,
   "id": "6f3b6dfd",
   "metadata": {
    "execution": {
     "iopub.execute_input": "2022-11-21T07:50:58.976278Z",
     "iopub.status.busy": "2022-11-21T07:50:58.975749Z",
     "iopub.status.idle": "2022-11-21T07:50:59.109919Z",
     "shell.execute_reply": "2022-11-21T07:50:59.109269Z"
    },
    "papermill": {
     "duration": 0.166656,
     "end_time": "2022-11-21T07:50:59.112186",
     "exception": false,
     "start_time": "2022-11-21T07:50:58.945530",
     "status": "completed"
    },
    "tags": []
   },
   "outputs": [
    {
     "data": {
      "image/png": "[encoded data removed]",
      "text/plain": [
       "<Figure size 1080x576 with 1 Axes>"
      ]
     },
     "metadata": {},
     "output_type": "display_data"
    }
   ],
   "source": [
    "#Educational background\n",
    "educational_background_1 = df_kaggle_22['Q5'].value_counts()[:2]\n",
    "fig, ax = plt.subplots(figsize=(15,8))\n",
    "# ax.set_ylim([0,20])\n",
    "ax.set_ylabel(\"Count\")\n",
    "ax.set_title(\"Educational background of the participatent in Kaggle 2022\")\n",
    "plt.xticks(rotation=45)\n",
    "sns.barplot( x = educational_background_1.index, y = educational_background_1)\n",
    "plt.show();"
   ]
  },
  {
   "cell_type": "markdown",
   "id": "5d52e14d",
   "metadata": {
    "papermill": {
     "duration": 0.030554,
     "end_time": "2022-11-21T07:50:59.173685",
     "exception": false,
     "start_time": "2022-11-21T07:50:59.143131",
     "status": "completed"
    },
    "tags": []
   },
   "source": [
    "Are you currently a student? (high school, university, or graduate). The selection was based on gruaduation or not yes mean gruaduate no mean not graduated yet."
   ]
  },
  {
   "cell_type": "markdown",
   "id": "8b930bc2",
   "metadata": {
    "papermill": {
     "duration": 0.02713,
     "end_time": "2022-11-21T07:50:59.230233",
     "exception": false,
     "start_time": "2022-11-21T07:50:59.203103",
     "status": "completed"
    },
    "tags": []
   },
   "source": [
    "# On which platforms have you begun or completed data science courses? (Select all that apply). \n",
    "- edX \n",
    "- Kaggle Learn Courses\n",
    "- DataCamp\n",
    "- Fast.ai\n",
    "- Udacity \n",
    "- Udemy\n",
    "- LinkedIn Learning\n",
    "- Cloud-certification programs (direct from AWS, Azure, GCP, or similar)\n",
    "- University Courses (resulting in a university degree)\n",
    "- None\n",
    "-  Other\n",
    "This question covered overal all 6 columns"
   ]
  },
  {
   "cell_type": "code",
   "execution_count": 22,
   "id": "4f1dd655",
   "metadata": {
    "execution": {
     "iopub.execute_input": "2022-11-21T07:50:59.288960Z",
     "iopub.status.busy": "2022-11-21T07:50:59.288623Z",
     "iopub.status.idle": "2022-11-21T07:50:59.296829Z",
     "shell.execute_reply": "2022-11-21T07:50:59.295648Z"
    },
    "papermill": {
     "duration": 0.040092,
     "end_time": "2022-11-21T07:50:59.298997",
     "exception": false,
     "start_time": "2022-11-21T07:50:59.258905",
     "status": "completed"
    },
    "tags": []
   },
   "outputs": [],
   "source": [
    "platforms_learning = df_kaggle_22[['Q6_2', 'Q6_3', 'Q6_4', 'Q6_5', 'Q6_6', 'Q6_7', 'Q6_8', 'Q6_9','Q6_10','Q6_11', 'Q6_12']]"
   ]
  },
  {
   "cell_type": "code",
   "execution_count": 23,
   "id": "d1fad70d",
   "metadata": {
    "execution": {
     "iopub.execute_input": "2022-11-21T07:50:59.357613Z",
     "iopub.status.busy": "2022-11-21T07:50:59.356086Z",
     "iopub.status.idle": "2022-11-21T07:50:59.373983Z",
     "shell.execute_reply": "2022-11-21T07:50:59.372748Z"
    },
    "papermill": {
     "duration": 0.049203,
     "end_time": "2022-11-21T07:50:59.376236",
     "exception": false,
     "start_time": "2022-11-21T07:50:59.327033",
     "status": "completed"
    },
    "tags": []
   },
   "outputs": [
    {
     "data": {
      "text/html": [
       "<div>\n",
       "<style scoped>\n",
       "    .dataframe tbody tr th:only-of-type {\n",
       "        vertical-align: middle;\n",
       "    }\n",
       "\n",
       "    .dataframe tbody tr th {\n",
       "        vertical-align: top;\n",
       "    }\n",
       "\n",
       "    .dataframe thead th {\n",
       "        text-align: right;\n",
       "    }\n",
       "</style>\n",
       "<table border=\"1\" class=\"dataframe\">\n",
       "  <thead>\n",
       "    <tr style=\"text-align: right;\">\n",
       "      <th></th>\n",
       "      <th>Q6_2</th>\n",
       "      <th>Q6_3</th>\n",
       "      <th>Q6_4</th>\n",
       "      <th>Q6_5</th>\n",
       "      <th>Q6_6</th>\n",
       "      <th>Q6_7</th>\n",
       "      <th>Q6_8</th>\n",
       "      <th>Q6_9</th>\n",
       "      <th>Q6_10</th>\n",
       "      <th>Q6_11</th>\n",
       "      <th>Q6_12</th>\n",
       "    </tr>\n",
       "  </thead>\n",
       "  <tbody>\n",
       "    <tr>\n",
       "      <th>0</th>\n",
       "      <td>On which platforms have you begun or completed...</td>\n",
       "      <td>On which platforms have you begun or completed...</td>\n",
       "      <td>On which platforms have you begun or completed...</td>\n",
       "      <td>On which platforms have you begun or completed...</td>\n",
       "      <td>On which platforms have you begun or completed...</td>\n",
       "      <td>On which platforms have you begun or completed...</td>\n",
       "      <td>On which platforms have you begun or completed...</td>\n",
       "      <td>On which platforms have you begun or completed...</td>\n",
       "      <td>On which platforms have you begun or completed...</td>\n",
       "      <td>On which platforms have you begun or completed...</td>\n",
       "      <td>On which platforms have you begun or completed...</td>\n",
       "    </tr>\n",
       "    <tr>\n",
       "      <th>1</th>\n",
       "      <td>NaN</td>\n",
       "      <td>NaN</td>\n",
       "      <td>NaN</td>\n",
       "      <td>NaN</td>\n",
       "      <td>NaN</td>\n",
       "      <td>NaN</td>\n",
       "      <td>NaN</td>\n",
       "      <td>NaN</td>\n",
       "      <td>NaN</td>\n",
       "      <td>NaN</td>\n",
       "      <td>Other</td>\n",
       "    </tr>\n",
       "    <tr>\n",
       "      <th>2</th>\n",
       "      <td>NaN</td>\n",
       "      <td>NaN</td>\n",
       "      <td>NaN</td>\n",
       "      <td>NaN</td>\n",
       "      <td>NaN</td>\n",
       "      <td>NaN</td>\n",
       "      <td>NaN</td>\n",
       "      <td>NaN</td>\n",
       "      <td>University Courses (resulting in a university ...</td>\n",
       "      <td>NaN</td>\n",
       "      <td>NaN</td>\n",
       "    </tr>\n",
       "    <tr>\n",
       "      <th>3</th>\n",
       "      <td>edX</td>\n",
       "      <td>NaN</td>\n",
       "      <td>DataCamp</td>\n",
       "      <td>NaN</td>\n",
       "      <td>Udacity</td>\n",
       "      <td>Udemy</td>\n",
       "      <td>LinkedIn Learning</td>\n",
       "      <td>NaN</td>\n",
       "      <td>University Courses (resulting in a university ...</td>\n",
       "      <td>NaN</td>\n",
       "      <td>NaN</td>\n",
       "    </tr>\n",
       "    <tr>\n",
       "      <th>4</th>\n",
       "      <td>NaN</td>\n",
       "      <td>Kaggle Learn Courses</td>\n",
       "      <td>NaN</td>\n",
       "      <td>NaN</td>\n",
       "      <td>NaN</td>\n",
       "      <td>Udemy</td>\n",
       "      <td>NaN</td>\n",
       "      <td>NaN</td>\n",
       "      <td>NaN</td>\n",
       "      <td>NaN</td>\n",
       "      <td>Other</td>\n",
       "    </tr>\n",
       "    <tr>\n",
       "      <th>...</th>\n",
       "      <td>...</td>\n",
       "      <td>...</td>\n",
       "      <td>...</td>\n",
       "      <td>...</td>\n",
       "      <td>...</td>\n",
       "      <td>...</td>\n",
       "      <td>...</td>\n",
       "      <td>...</td>\n",
       "      <td>...</td>\n",
       "      <td>...</td>\n",
       "      <td>...</td>\n",
       "    </tr>\n",
       "    <tr>\n",
       "      <th>23993</th>\n",
       "      <td>NaN</td>\n",
       "      <td>NaN</td>\n",
       "      <td>NaN</td>\n",
       "      <td>NaN</td>\n",
       "      <td>NaN</td>\n",
       "      <td>NaN</td>\n",
       "      <td>NaN</td>\n",
       "      <td>NaN</td>\n",
       "      <td>NaN</td>\n",
       "      <td>None</td>\n",
       "      <td>NaN</td>\n",
       "    </tr>\n",
       "    <tr>\n",
       "      <th>23994</th>\n",
       "      <td>NaN</td>\n",
       "      <td>NaN</td>\n",
       "      <td>NaN</td>\n",
       "      <td>NaN</td>\n",
       "      <td>NaN</td>\n",
       "      <td>NaN</td>\n",
       "      <td>NaN</td>\n",
       "      <td>NaN</td>\n",
       "      <td>University Courses (resulting in a university ...</td>\n",
       "      <td>NaN</td>\n",
       "      <td>NaN</td>\n",
       "    </tr>\n",
       "    <tr>\n",
       "      <th>23995</th>\n",
       "      <td>NaN</td>\n",
       "      <td>NaN</td>\n",
       "      <td>DataCamp</td>\n",
       "      <td>NaN</td>\n",
       "      <td>NaN</td>\n",
       "      <td>Udemy</td>\n",
       "      <td>NaN</td>\n",
       "      <td>NaN</td>\n",
       "      <td>NaN</td>\n",
       "      <td>NaN</td>\n",
       "      <td>NaN</td>\n",
       "    </tr>\n",
       "    <tr>\n",
       "      <th>23996</th>\n",
       "      <td>NaN</td>\n",
       "      <td>Kaggle Learn Courses</td>\n",
       "      <td>NaN</td>\n",
       "      <td>NaN</td>\n",
       "      <td>Udacity</td>\n",
       "      <td>NaN</td>\n",
       "      <td>NaN</td>\n",
       "      <td>NaN</td>\n",
       "      <td>University Courses (resulting in a university ...</td>\n",
       "      <td>NaN</td>\n",
       "      <td>NaN</td>\n",
       "    </tr>\n",
       "    <tr>\n",
       "      <th>23997</th>\n",
       "      <td>NaN</td>\n",
       "      <td>NaN</td>\n",
       "      <td>NaN</td>\n",
       "      <td>NaN</td>\n",
       "      <td>NaN</td>\n",
       "      <td>NaN</td>\n",
       "      <td>NaN</td>\n",
       "      <td>NaN</td>\n",
       "      <td>NaN</td>\n",
       "      <td>NaN</td>\n",
       "      <td>Other</td>\n",
       "    </tr>\n",
       "  </tbody>\n",
       "</table>\n",
       "<p>23998 rows × 11 columns</p>\n",
       "</div>"
      ],
      "text/plain": [
       "                                                    Q6_2  \\\n",
       "0      On which platforms have you begun or completed...   \n",
       "1                                                    NaN   \n",
       "2                                                    NaN   \n",
       "3                                                    edX   \n",
       "4                                                    NaN   \n",
       "...                                                  ...   \n",
       "23993                                                NaN   \n",
       "23994                                                NaN   \n",
       "23995                                                NaN   \n",
       "23996                                                NaN   \n",
       "23997                                                NaN   \n",
       "\n",
       "                                                    Q6_3  \\\n",
       "0      On which platforms have you begun or completed...   \n",
       "1                                                    NaN   \n",
       "2                                                    NaN   \n",
       "3                                                    NaN   \n",
       "4                                   Kaggle Learn Courses   \n",
       "...                                                  ...   \n",
       "23993                                                NaN   \n",
       "23994                                                NaN   \n",
       "23995                                                NaN   \n",
       "23996                               Kaggle Learn Courses   \n",
       "23997                                                NaN   \n",
       "\n",
       "                                                    Q6_4  \\\n",
       "0      On which platforms have you begun or completed...   \n",
       "1                                                    NaN   \n",
       "2                                                    NaN   \n",
       "3                                               DataCamp   \n",
       "4                                                    NaN   \n",
       "...                                                  ...   \n",
       "23993                                                NaN   \n",
       "23994                                                NaN   \n",
       "23995                                           DataCamp   \n",
       "23996                                                NaN   \n",
       "23997                                                NaN   \n",
       "\n",
       "                                                    Q6_5  \\\n",
       "0      On which platforms have you begun or completed...   \n",
       "1                                                    NaN   \n",
       "2                                                    NaN   \n",
       "3                                                    NaN   \n",
       "4                                                    NaN   \n",
       "...                                                  ...   \n",
       "23993                                                NaN   \n",
       "23994                                                NaN   \n",
       "23995                                                NaN   \n",
       "23996                                                NaN   \n",
       "23997                                                NaN   \n",
       "\n",
       "                                                    Q6_6  \\\n",
       "0      On which platforms have you begun or completed...   \n",
       "1                                                    NaN   \n",
       "2                                                    NaN   \n",
       "3                                                Udacity   \n",
       "4                                                    NaN   \n",
       "...                                                  ...   \n",
       "23993                                                NaN   \n",
       "23994                                                NaN   \n",
       "23995                                                NaN   \n",
       "23996                                            Udacity   \n",
       "23997                                                NaN   \n",
       "\n",
       "                                                    Q6_7  \\\n",
       "0      On which platforms have you begun or completed...   \n",
       "1                                                    NaN   \n",
       "2                                                    NaN   \n",
       "3                                                  Udemy   \n",
       "4                                                  Udemy   \n",
       "...                                                  ...   \n",
       "23993                                                NaN   \n",
       "23994                                                NaN   \n",
       "23995                                              Udemy   \n",
       "23996                                                NaN   \n",
       "23997                                                NaN   \n",
       "\n",
       "                                                    Q6_8  \\\n",
       "0      On which platforms have you begun or completed...   \n",
       "1                                                    NaN   \n",
       "2                                                    NaN   \n",
       "3                                      LinkedIn Learning   \n",
       "4                                                    NaN   \n",
       "...                                                  ...   \n",
       "23993                                                NaN   \n",
       "23994                                                NaN   \n",
       "23995                                                NaN   \n",
       "23996                                                NaN   \n",
       "23997                                                NaN   \n",
       "\n",
       "                                                    Q6_9  \\\n",
       "0      On which platforms have you begun or completed...   \n",
       "1                                                    NaN   \n",
       "2                                                    NaN   \n",
       "3                                                    NaN   \n",
       "4                                                    NaN   \n",
       "...                                                  ...   \n",
       "23993                                                NaN   \n",
       "23994                                                NaN   \n",
       "23995                                                NaN   \n",
       "23996                                                NaN   \n",
       "23997                                                NaN   \n",
       "\n",
       "                                                   Q6_10  \\\n",
       "0      On which platforms have you begun or completed...   \n",
       "1                                                    NaN   \n",
       "2      University Courses (resulting in a university ...   \n",
       "3      University Courses (resulting in a university ...   \n",
       "4                                                    NaN   \n",
       "...                                                  ...   \n",
       "23993                                                NaN   \n",
       "23994  University Courses (resulting in a university ...   \n",
       "23995                                                NaN   \n",
       "23996  University Courses (resulting in a university ...   \n",
       "23997                                                NaN   \n",
       "\n",
       "                                                   Q6_11  \\\n",
       "0      On which platforms have you begun or completed...   \n",
       "1                                                    NaN   \n",
       "2                                                    NaN   \n",
       "3                                                    NaN   \n",
       "4                                                    NaN   \n",
       "...                                                  ...   \n",
       "23993                                               None   \n",
       "23994                                                NaN   \n",
       "23995                                                NaN   \n",
       "23996                                                NaN   \n",
       "23997                                                NaN   \n",
       "\n",
       "                                                   Q6_12  \n",
       "0      On which platforms have you begun or completed...  \n",
       "1                                                  Other  \n",
       "2                                                    NaN  \n",
       "3                                                    NaN  \n",
       "4                                                  Other  \n",
       "...                                                  ...  \n",
       "23993                                                NaN  \n",
       "23994                                                NaN  \n",
       "23995                                                NaN  \n",
       "23996                                                NaN  \n",
       "23997                                              Other  \n",
       "\n",
       "[23998 rows x 11 columns]"
      ]
     },
     "execution_count": 23,
     "metadata": {},
     "output_type": "execute_result"
    }
   ],
   "source": [
    "platforms_learning"
   ]
  },
  {
   "cell_type": "code",
   "execution_count": 24,
   "id": "a1e465a7",
   "metadata": {
    "execution": {
     "iopub.execute_input": "2022-11-21T07:50:59.435796Z",
     "iopub.status.busy": "2022-11-21T07:50:59.434482Z",
     "iopub.status.idle": "2022-11-21T07:50:59.471384Z",
     "shell.execute_reply": "2022-11-21T07:50:59.470148Z"
    },
    "papermill": {
     "duration": 0.068561,
     "end_time": "2022-11-21T07:50:59.473360",
     "exception": false,
     "start_time": "2022-11-21T07:50:59.404799",
     "status": "completed"
    },
    "tags": []
   },
   "outputs": [
    {
     "name": "stderr",
     "output_type": "stream",
     "text": [
      "/opt/conda/lib/python3.7/site-packages/pandas/util/_decorators.py:311: SettingWithCopyWarning: \n",
      "A value is trying to be set on a copy of a slice from a DataFrame\n",
      "\n",
      "See the caveats in the documentation: https://pandas.pydata.org/pandas-docs/stable/user_guide/indexing.html#returning-a-view-versus-a-copy\n",
      "  return func(*args, **kwargs)\n"
     ]
    },
    {
     "data": {
      "text/html": [
       "<div>\n",
       "<style scoped>\n",
       "    .dataframe tbody tr th:only-of-type {\n",
       "        vertical-align: middle;\n",
       "    }\n",
       "\n",
       "    .dataframe tbody tr th {\n",
       "        vertical-align: top;\n",
       "    }\n",
       "\n",
       "    .dataframe thead th {\n",
       "        text-align: right;\n",
       "    }\n",
       "</style>\n",
       "<table border=\"1\" class=\"dataframe\">\n",
       "  <thead>\n",
       "    <tr style=\"text-align: right;\">\n",
       "      <th></th>\n",
       "      <th>Q6_2</th>\n",
       "      <th>Q6_3</th>\n",
       "      <th>Q6_4</th>\n",
       "      <th>Q6_5</th>\n",
       "      <th>Q6_6</th>\n",
       "      <th>Q6_7</th>\n",
       "      <th>Q6_8</th>\n",
       "      <th>Q6_9</th>\n",
       "      <th>Q6_10</th>\n",
       "      <th>Q6_11</th>\n",
       "      <th>Q6_12</th>\n",
       "    </tr>\n",
       "  </thead>\n",
       "  <tbody>\n",
       "    <tr>\n",
       "      <th>0</th>\n",
       "      <td>On which platforms have you begun or completed...</td>\n",
       "      <td>On which platforms have you begun or completed...</td>\n",
       "      <td>On which platforms have you begun or completed...</td>\n",
       "      <td>On which platforms have you begun or completed...</td>\n",
       "      <td>On which platforms have you begun or completed...</td>\n",
       "      <td>On which platforms have you begun or completed...</td>\n",
       "      <td>On which platforms have you begun or completed...</td>\n",
       "      <td>On which platforms have you begun or completed...</td>\n",
       "      <td>On which platforms have you begun or completed...</td>\n",
       "      <td>On which platforms have you begun or completed...</td>\n",
       "      <td>On which platforms have you begun or completed...</td>\n",
       "    </tr>\n",
       "    <tr>\n",
       "      <th>1</th>\n",
       "      <td>NaN</td>\n",
       "      <td>NaN</td>\n",
       "      <td>NaN</td>\n",
       "      <td>NaN</td>\n",
       "      <td>NaN</td>\n",
       "      <td>NaN</td>\n",
       "      <td>NaN</td>\n",
       "      <td>NaN</td>\n",
       "      <td>NaN</td>\n",
       "      <td>NaN</td>\n",
       "      <td>Other</td>\n",
       "    </tr>\n",
       "    <tr>\n",
       "      <th>2</th>\n",
       "      <td>NaN</td>\n",
       "      <td>NaN</td>\n",
       "      <td>NaN</td>\n",
       "      <td>NaN</td>\n",
       "      <td>NaN</td>\n",
       "      <td>NaN</td>\n",
       "      <td>NaN</td>\n",
       "      <td>NaN</td>\n",
       "      <td>University Courses (resulting in a university ...</td>\n",
       "      <td>NaN</td>\n",
       "      <td>NaN</td>\n",
       "    </tr>\n",
       "    <tr>\n",
       "      <th>3</th>\n",
       "      <td>edX</td>\n",
       "      <td>NaN</td>\n",
       "      <td>DataCamp</td>\n",
       "      <td>NaN</td>\n",
       "      <td>Udacity</td>\n",
       "      <td>Udemy</td>\n",
       "      <td>LinkedIn Learning</td>\n",
       "      <td>NaN</td>\n",
       "      <td>University Courses (resulting in a university ...</td>\n",
       "      <td>NaN</td>\n",
       "      <td>NaN</td>\n",
       "    </tr>\n",
       "    <tr>\n",
       "      <th>4</th>\n",
       "      <td>NaN</td>\n",
       "      <td>Kaggle Learn Courses</td>\n",
       "      <td>NaN</td>\n",
       "      <td>NaN</td>\n",
       "      <td>NaN</td>\n",
       "      <td>Udemy</td>\n",
       "      <td>NaN</td>\n",
       "      <td>NaN</td>\n",
       "      <td>NaN</td>\n",
       "      <td>NaN</td>\n",
       "      <td>Other</td>\n",
       "    </tr>\n",
       "    <tr>\n",
       "      <th>...</th>\n",
       "      <td>...</td>\n",
       "      <td>...</td>\n",
       "      <td>...</td>\n",
       "      <td>...</td>\n",
       "      <td>...</td>\n",
       "      <td>...</td>\n",
       "      <td>...</td>\n",
       "      <td>...</td>\n",
       "      <td>...</td>\n",
       "      <td>...</td>\n",
       "      <td>...</td>\n",
       "    </tr>\n",
       "    <tr>\n",
       "      <th>23993</th>\n",
       "      <td>NaN</td>\n",
       "      <td>NaN</td>\n",
       "      <td>NaN</td>\n",
       "      <td>NaN</td>\n",
       "      <td>NaN</td>\n",
       "      <td>NaN</td>\n",
       "      <td>NaN</td>\n",
       "      <td>NaN</td>\n",
       "      <td>NaN</td>\n",
       "      <td>None</td>\n",
       "      <td>NaN</td>\n",
       "    </tr>\n",
       "    <tr>\n",
       "      <th>23994</th>\n",
       "      <td>NaN</td>\n",
       "      <td>NaN</td>\n",
       "      <td>NaN</td>\n",
       "      <td>NaN</td>\n",
       "      <td>NaN</td>\n",
       "      <td>NaN</td>\n",
       "      <td>NaN</td>\n",
       "      <td>NaN</td>\n",
       "      <td>University Courses (resulting in a university ...</td>\n",
       "      <td>NaN</td>\n",
       "      <td>NaN</td>\n",
       "    </tr>\n",
       "    <tr>\n",
       "      <th>23995</th>\n",
       "      <td>NaN</td>\n",
       "      <td>NaN</td>\n",
       "      <td>DataCamp</td>\n",
       "      <td>NaN</td>\n",
       "      <td>NaN</td>\n",
       "      <td>Udemy</td>\n",
       "      <td>NaN</td>\n",
       "      <td>NaN</td>\n",
       "      <td>NaN</td>\n",
       "      <td>NaN</td>\n",
       "      <td>NaN</td>\n",
       "    </tr>\n",
       "    <tr>\n",
       "      <th>23996</th>\n",
       "      <td>NaN</td>\n",
       "      <td>Kaggle Learn Courses</td>\n",
       "      <td>NaN</td>\n",
       "      <td>NaN</td>\n",
       "      <td>Udacity</td>\n",
       "      <td>NaN</td>\n",
       "      <td>NaN</td>\n",
       "      <td>NaN</td>\n",
       "      <td>University Courses (resulting in a university ...</td>\n",
       "      <td>NaN</td>\n",
       "      <td>NaN</td>\n",
       "    </tr>\n",
       "    <tr>\n",
       "      <th>23997</th>\n",
       "      <td>NaN</td>\n",
       "      <td>NaN</td>\n",
       "      <td>NaN</td>\n",
       "      <td>NaN</td>\n",
       "      <td>NaN</td>\n",
       "      <td>NaN</td>\n",
       "      <td>NaN</td>\n",
       "      <td>NaN</td>\n",
       "      <td>NaN</td>\n",
       "      <td>NaN</td>\n",
       "      <td>Other</td>\n",
       "    </tr>\n",
       "  </tbody>\n",
       "</table>\n",
       "<p>23998 rows × 11 columns</p>\n",
       "</div>"
      ],
      "text/plain": [
       "                                                    Q6_2  \\\n",
       "0      On which platforms have you begun or completed...   \n",
       "1                                                    NaN   \n",
       "2                                                    NaN   \n",
       "3                                                    edX   \n",
       "4                                                    NaN   \n",
       "...                                                  ...   \n",
       "23993                                                NaN   \n",
       "23994                                                NaN   \n",
       "23995                                                NaN   \n",
       "23996                                                NaN   \n",
       "23997                                                NaN   \n",
       "\n",
       "                                                    Q6_3  \\\n",
       "0      On which platforms have you begun or completed...   \n",
       "1                                                    NaN   \n",
       "2                                                    NaN   \n",
       "3                                                    NaN   \n",
       "4                                   Kaggle Learn Courses   \n",
       "...                                                  ...   \n",
       "23993                                                NaN   \n",
       "23994                                                NaN   \n",
       "23995                                                NaN   \n",
       "23996                               Kaggle Learn Courses   \n",
       "23997                                                NaN   \n",
       "\n",
       "                                                    Q6_4  \\\n",
       "0      On which platforms have you begun or completed...   \n",
       "1                                                    NaN   \n",
       "2                                                    NaN   \n",
       "3                                               DataCamp   \n",
       "4                                                    NaN   \n",
       "...                                                  ...   \n",
       "23993                                                NaN   \n",
       "23994                                                NaN   \n",
       "23995                                           DataCamp   \n",
       "23996                                                NaN   \n",
       "23997                                                NaN   \n",
       "\n",
       "                                                    Q6_5  \\\n",
       "0      On which platforms have you begun or completed...   \n",
       "1                                                    NaN   \n",
       "2                                                    NaN   \n",
       "3                                                    NaN   \n",
       "4                                                    NaN   \n",
       "...                                                  ...   \n",
       "23993                                                NaN   \n",
       "23994                                                NaN   \n",
       "23995                                                NaN   \n",
       "23996                                                NaN   \n",
       "23997                                                NaN   \n",
       "\n",
       "                                                    Q6_6  \\\n",
       "0      On which platforms have you begun or completed...   \n",
       "1                                                    NaN   \n",
       "2                                                    NaN   \n",
       "3                                                Udacity   \n",
       "4                                                    NaN   \n",
       "...                                                  ...   \n",
       "23993                                                NaN   \n",
       "23994                                                NaN   \n",
       "23995                                                NaN   \n",
       "23996                                            Udacity   \n",
       "23997                                                NaN   \n",
       "\n",
       "                                                    Q6_7  \\\n",
       "0      On which platforms have you begun or completed...   \n",
       "1                                                    NaN   \n",
       "2                                                    NaN   \n",
       "3                                                  Udemy   \n",
       "4                                                  Udemy   \n",
       "...                                                  ...   \n",
       "23993                                                NaN   \n",
       "23994                                                NaN   \n",
       "23995                                              Udemy   \n",
       "23996                                                NaN   \n",
       "23997                                                NaN   \n",
       "\n",
       "                                                    Q6_8  \\\n",
       "0      On which platforms have you begun or completed...   \n",
       "1                                                    NaN   \n",
       "2                                                    NaN   \n",
       "3                                      LinkedIn Learning   \n",
       "4                                                    NaN   \n",
       "...                                                  ...   \n",
       "23993                                                NaN   \n",
       "23994                                                NaN   \n",
       "23995                                                NaN   \n",
       "23996                                                NaN   \n",
       "23997                                                NaN   \n",
       "\n",
       "                                                    Q6_9  \\\n",
       "0      On which platforms have you begun or completed...   \n",
       "1                                                    NaN   \n",
       "2                                                    NaN   \n",
       "3                                                    NaN   \n",
       "4                                                    NaN   \n",
       "...                                                  ...   \n",
       "23993                                                NaN   \n",
       "23994                                                NaN   \n",
       "23995                                                NaN   \n",
       "23996                                                NaN   \n",
       "23997                                                NaN   \n",
       "\n",
       "                                                   Q6_10  \\\n",
       "0      On which platforms have you begun or completed...   \n",
       "1                                                    NaN   \n",
       "2      University Courses (resulting in a university ...   \n",
       "3      University Courses (resulting in a university ...   \n",
       "4                                                    NaN   \n",
       "...                                                  ...   \n",
       "23993                                                NaN   \n",
       "23994  University Courses (resulting in a university ...   \n",
       "23995                                                NaN   \n",
       "23996  University Courses (resulting in a university ...   \n",
       "23997                                                NaN   \n",
       "\n",
       "                                                   Q6_11  \\\n",
       "0      On which platforms have you begun or completed...   \n",
       "1                                                    NaN   \n",
       "2                                                    NaN   \n",
       "3                                                    NaN   \n",
       "4                                                    NaN   \n",
       "...                                                  ...   \n",
       "23993                                               None   \n",
       "23994                                                NaN   \n",
       "23995                                                NaN   \n",
       "23996                                                NaN   \n",
       "23997                                                NaN   \n",
       "\n",
       "                                                   Q6_12  \n",
       "0      On which platforms have you begun or completed...  \n",
       "1                                                  Other  \n",
       "2                                                    NaN  \n",
       "3                                                    NaN  \n",
       "4                                                  Other  \n",
       "...                                                  ...  \n",
       "23993                                                NaN  \n",
       "23994                                                NaN  \n",
       "23995                                                NaN  \n",
       "23996                                                NaN  \n",
       "23997                                              Other  \n",
       "\n",
       "[23998 rows x 11 columns]"
      ]
     },
     "execution_count": 24,
     "metadata": {},
     "output_type": "execute_result"
    }
   ],
   "source": [
    "platforms_learning.dropna(axis='columns', how='all', inplace=True)\n",
    "platforms_learning"
   ]
  },
  {
   "cell_type": "code",
   "execution_count": 25,
   "id": "18f10ccf",
   "metadata": {
    "execution": {
     "iopub.execute_input": "2022-11-21T07:50:59.535095Z",
     "iopub.status.busy": "2022-11-21T07:50:59.534723Z",
     "iopub.status.idle": "2022-11-21T07:50:59.548518Z",
     "shell.execute_reply": "2022-11-21T07:50:59.546394Z"
    },
    "papermill": {
     "duration": 0.048004,
     "end_time": "2022-11-21T07:50:59.551156",
     "exception": false,
     "start_time": "2022-11-21T07:50:59.503152",
     "status": "completed"
    },
    "tags": []
   },
   "outputs": [
    {
     "name": "stdout",
     "output_type": "stream",
     "text": [
      "                                                    Q6_2  \\\n",
      "0      On which platforms have you begun or completed...   \n",
      "1                                                    NaN   \n",
      "2                                                    NaN   \n",
      "3                                                    edX   \n",
      "4                                                    NaN   \n",
      "...                                                  ...   \n",
      "23993                                                NaN   \n",
      "23994                                                NaN   \n",
      "23995                                                NaN   \n",
      "23996                                                NaN   \n",
      "23997                                                NaN   \n",
      "\n",
      "                                                    Q6_3  \\\n",
      "0      On which platforms have you begun or completed...   \n",
      "1                                                    NaN   \n",
      "2                                                    NaN   \n",
      "3                                                    NaN   \n",
      "4                                   Kaggle Learn Courses   \n",
      "...                                                  ...   \n",
      "23993                                                NaN   \n",
      "23994                                                NaN   \n",
      "23995                                                NaN   \n",
      "23996                               Kaggle Learn Courses   \n",
      "23997                                                NaN   \n",
      "\n",
      "                                                    Q6_4  \\\n",
      "0      On which platforms have you begun or completed...   \n",
      "1                                                    NaN   \n",
      "2                                                    NaN   \n",
      "3                                               DataCamp   \n",
      "4                                                    NaN   \n",
      "...                                                  ...   \n",
      "23993                                                NaN   \n",
      "23994                                                NaN   \n",
      "23995                                           DataCamp   \n",
      "23996                                                NaN   \n",
      "23997                                                NaN   \n",
      "\n",
      "                                                    Q6_5  \\\n",
      "0      On which platforms have you begun or completed...   \n",
      "1                                                    NaN   \n",
      "2                                                    NaN   \n",
      "3                                                    NaN   \n",
      "4                                                    NaN   \n",
      "...                                                  ...   \n",
      "23993                                                NaN   \n",
      "23994                                                NaN   \n",
      "23995                                                NaN   \n",
      "23996                                                NaN   \n",
      "23997                                                NaN   \n",
      "\n",
      "                                                    Q6_6  \\\n",
      "0      On which platforms have you begun or completed...   \n",
      "1                                                    NaN   \n",
      "2                                                    NaN   \n",
      "3                                                Udacity   \n",
      "4                                                    NaN   \n",
      "...                                                  ...   \n",
      "23993                                                NaN   \n",
      "23994                                                NaN   \n",
      "23995                                                NaN   \n",
      "23996                                            Udacity   \n",
      "23997                                                NaN   \n",
      "\n",
      "                                                    Q6_7  \\\n",
      "0      On which platforms have you begun or completed...   \n",
      "1                                                    NaN   \n",
      "2                                                    NaN   \n",
      "3                                                  Udemy   \n",
      "4                                                  Udemy   \n",
      "...                                                  ...   \n",
      "23993                                                NaN   \n",
      "23994                                                NaN   \n",
      "23995                                              Udemy   \n",
      "23996                                                NaN   \n",
      "23997                                                NaN   \n",
      "\n",
      "                                                    Q6_8  \\\n",
      "0      On which platforms have you begun or completed...   \n",
      "1                                                    NaN   \n",
      "2                                                    NaN   \n",
      "3                                      LinkedIn Learning   \n",
      "4                                                    NaN   \n",
      "...                                                  ...   \n",
      "23993                                                NaN   \n",
      "23994                                                NaN   \n",
      "23995                                                NaN   \n",
      "23996                                                NaN   \n",
      "23997                                                NaN   \n",
      "\n",
      "                                                    Q6_9  \\\n",
      "0      On which platforms have you begun or completed...   \n",
      "1                                                    NaN   \n",
      "2                                                    NaN   \n",
      "3                                                    NaN   \n",
      "4                                                    NaN   \n",
      "...                                                  ...   \n",
      "23993                                                NaN   \n",
      "23994                                                NaN   \n",
      "23995                                                NaN   \n",
      "23996                                                NaN   \n",
      "23997                                                NaN   \n",
      "\n",
      "                                                   Q6_10  \\\n",
      "0      On which platforms have you begun or completed...   \n",
      "1                                                    NaN   \n",
      "2      University Courses (resulting in a university ...   \n",
      "3      University Courses (resulting in a university ...   \n",
      "4                                                    NaN   \n",
      "...                                                  ...   \n",
      "23993                                                NaN   \n",
      "23994  University Courses (resulting in a university ...   \n",
      "23995                                                NaN   \n",
      "23996  University Courses (resulting in a university ...   \n",
      "23997                                                NaN   \n",
      "\n",
      "                                                   Q6_11  \\\n",
      "0      On which platforms have you begun or completed...   \n",
      "1                                                    NaN   \n",
      "2                                                    NaN   \n",
      "3                                                    NaN   \n",
      "4                                                    NaN   \n",
      "...                                                  ...   \n",
      "23993                                               None   \n",
      "23994                                                NaN   \n",
      "23995                                                NaN   \n",
      "23996                                                NaN   \n",
      "23997                                                NaN   \n",
      "\n",
      "                                                   Q6_12  \n",
      "0      On which platforms have you begun or completed...  \n",
      "1                                                  Other  \n",
      "2                                                    NaN  \n",
      "3                                                    NaN  \n",
      "4                                                  Other  \n",
      "...                                                  ...  \n",
      "23993                                                NaN  \n",
      "23994                                                NaN  \n",
      "23995                                                NaN  \n",
      "23996                                                NaN  \n",
      "23997                                              Other  \n",
      "\n",
      "[23998 rows x 11 columns]\n"
     ]
    }
   ],
   "source": [
    "print(platforms_learning)"
   ]
  },
  {
   "cell_type": "code",
   "execution_count": 26,
   "id": "636abe11",
   "metadata": {
    "execution": {
     "iopub.execute_input": "2022-11-21T07:50:59.615699Z",
     "iopub.status.busy": "2022-11-21T07:50:59.615327Z",
     "iopub.status.idle": "2022-11-21T07:50:59.625661Z",
     "shell.execute_reply": "2022-11-21T07:50:59.623858Z"
    },
    "papermill": {
     "duration": 0.045623,
     "end_time": "2022-11-21T07:50:59.628462",
     "exception": false,
     "start_time": "2022-11-21T07:50:59.582839",
     "status": "completed"
    },
    "tags": []
   },
   "outputs": [
    {
     "data": {
      "text/plain": [
       "edX    2474\n",
       "Name: Q6_2, dtype: int64"
      ]
     },
     "execution_count": 26,
     "metadata": {},
     "output_type": "execute_result"
    }
   ],
   "source": [
    "edx_participants = df_kaggle_22['Q6_2'].value_counts()[:1]\n",
    "edx_participants"
   ]
  },
  {
   "cell_type": "code",
   "execution_count": 27,
   "id": "2f45b2cf",
   "metadata": {
    "execution": {
     "iopub.execute_input": "2022-11-21T07:50:59.690745Z",
     "iopub.status.busy": "2022-11-21T07:50:59.690434Z",
     "iopub.status.idle": "2022-11-21T07:50:59.700313Z",
     "shell.execute_reply": "2022-11-21T07:50:59.698645Z"
    },
    "papermill": {
     "duration": 0.043711,
     "end_time": "2022-11-21T07:50:59.703172",
     "exception": false,
     "start_time": "2022-11-21T07:50:59.659461",
     "status": "completed"
    },
    "tags": []
   },
   "outputs": [
    {
     "data": {
      "text/plain": [
       "Kaggle Learn Courses    6628\n",
       "Name: Q6_3, dtype: int64"
      ]
     },
     "execution_count": 27,
     "metadata": {},
     "output_type": "execute_result"
    }
   ],
   "source": [
    "Kaggle_Learn_Courses = df_kaggle_22['Q6_3'].value_counts()[:1]\n",
    "Kaggle_Learn_Courses"
   ]
  },
  {
   "cell_type": "code",
   "execution_count": 28,
   "id": "87dc8b32",
   "metadata": {
    "execution": {
     "iopub.execute_input": "2022-11-21T07:50:59.764940Z",
     "iopub.status.busy": "2022-11-21T07:50:59.764474Z",
     "iopub.status.idle": "2022-11-21T07:50:59.772668Z",
     "shell.execute_reply": "2022-11-21T07:50:59.771664Z"
    },
    "papermill": {
     "duration": 0.041833,
     "end_time": "2022-11-21T07:50:59.774916",
     "exception": false,
     "start_time": "2022-11-21T07:50:59.733083",
     "status": "completed"
    },
    "tags": []
   },
   "outputs": [
    {
     "data": {
      "text/plain": [
       "DataCamp    3718\n",
       "Name: Q6_4, dtype: int64"
      ]
     },
     "execution_count": 28,
     "metadata": {},
     "output_type": "execute_result"
    }
   ],
   "source": [
    "DataCamp_participants = df_kaggle_22[\"Q6_4\"].value_counts()[:1]\n",
    "DataCamp_participants"
   ]
  },
  {
   "cell_type": "code",
   "execution_count": 29,
   "id": "ccbb6a21",
   "metadata": {
    "execution": {
     "iopub.execute_input": "2022-11-21T07:50:59.836257Z",
     "iopub.status.busy": "2022-11-21T07:50:59.835906Z",
     "iopub.status.idle": "2022-11-21T07:50:59.844800Z",
     "shell.execute_reply": "2022-11-21T07:50:59.843908Z"
    },
    "papermill": {
     "duration": 0.042033,
     "end_time": "2022-11-21T07:50:59.846657",
     "exception": false,
     "start_time": "2022-11-21T07:50:59.804624",
     "status": "completed"
    },
    "tags": []
   },
   "outputs": [
    {
     "data": {
      "text/plain": [
       "Fast.ai    944\n",
       "Name: Q6_5, dtype: int64"
      ]
     },
     "execution_count": 29,
     "metadata": {},
     "output_type": "execute_result"
    }
   ],
   "source": [
    "Fast_ai = df_kaggle_22[\"Q6_5\"].value_counts()[:1]\n",
    "Fast_ai"
   ]
  },
  {
   "cell_type": "code",
   "execution_count": 30,
   "id": "f14d8df7",
   "metadata": {
    "execution": {
     "iopub.execute_input": "2022-11-21T07:50:59.909477Z",
     "iopub.status.busy": "2022-11-21T07:50:59.909133Z",
     "iopub.status.idle": "2022-11-21T07:50:59.918339Z",
     "shell.execute_reply": "2022-11-21T07:50:59.917372Z"
    },
    "papermill": {
     "duration": 0.044315,
     "end_time": "2022-11-21T07:50:59.920888",
     "exception": false,
     "start_time": "2022-11-21T07:50:59.876573",
     "status": "completed"
    },
    "tags": []
   },
   "outputs": [
    {
     "data": {
      "text/plain": [
       "Udacity    2199\n",
       "Name: Q6_6, dtype: int64"
      ]
     },
     "execution_count": 30,
     "metadata": {},
     "output_type": "execute_result"
    }
   ],
   "source": [
    "Udacity_participants = df_kaggle_22[\"Q6_6\"].value_counts()[:1]\n",
    "Udacity_participants"
   ]
  },
  {
   "cell_type": "code",
   "execution_count": 31,
   "id": "b45a91b8",
   "metadata": {
    "execution": {
     "iopub.execute_input": "2022-11-21T07:50:59.983836Z",
     "iopub.status.busy": "2022-11-21T07:50:59.983505Z",
     "iopub.status.idle": "2022-11-21T07:50:59.994386Z",
     "shell.execute_reply": "2022-11-21T07:50:59.993696Z"
    },
    "papermill": {
     "duration": 0.045127,
     "end_time": "2022-11-21T07:50:59.996687",
     "exception": false,
     "start_time": "2022-11-21T07:50:59.951560",
     "status": "completed"
    },
    "tags": []
   },
   "outputs": [
    {
     "data": {
      "text/plain": [
       "Udemy    6116\n",
       "Name: Q6_7, dtype: int64"
      ]
     },
     "execution_count": 31,
     "metadata": {},
     "output_type": "execute_result"
    }
   ],
   "source": [
    "Udemy_participants = df_kaggle_22[\"Q6_7\"].value_counts()[:1]\n",
    "Udemy_participants"
   ]
  },
  {
   "cell_type": "code",
   "execution_count": 32,
   "id": "e325bf90",
   "metadata": {
    "execution": {
     "iopub.execute_input": "2022-11-21T07:51:00.060788Z",
     "iopub.status.busy": "2022-11-21T07:51:00.060437Z",
     "iopub.status.idle": "2022-11-21T07:51:00.070148Z",
     "shell.execute_reply": "2022-11-21T07:51:00.069120Z"
    },
    "papermill": {
     "duration": 0.043798,
     "end_time": "2022-11-21T07:51:00.071960",
     "exception": false,
     "start_time": "2022-11-21T07:51:00.028162",
     "status": "completed"
    },
    "tags": []
   },
   "outputs": [
    {
     "data": {
      "text/plain": [
       "LinkedIn Learning    2766\n",
       "Name: Q6_8, dtype: int64"
      ]
     },
     "execution_count": 32,
     "metadata": {},
     "output_type": "execute_result"
    }
   ],
   "source": [
    "LinkedIn_Learning = df_kaggle_22[\"Q6_8\"].value_counts()[:1]\n",
    "LinkedIn_Learning"
   ]
  },
  {
   "cell_type": "markdown",
   "id": "37ae83b4",
   "metadata": {
    "papermill": {
     "duration": 0.030457,
     "end_time": "2022-11-21T07:51:00.133439",
     "exception": false,
     "start_time": "2022-11-21T07:51:00.102982",
     "status": "completed"
    },
    "tags": []
   },
   "source": [
    "## Now get all together to see the famous platform of learning"
   ]
  },
  {
   "cell_type": "code",
   "execution_count": 33,
   "id": "dcf133a8",
   "metadata": {
    "execution": {
     "iopub.execute_input": "2022-11-21T07:51:00.198283Z",
     "iopub.status.busy": "2022-11-21T07:51:00.197899Z",
     "iopub.status.idle": "2022-11-21T07:51:00.206517Z",
     "shell.execute_reply": "2022-11-21T07:51:00.205297Z"
    },
    "papermill": {
     "duration": 0.044179,
     "end_time": "2022-11-21T07:51:00.209110",
     "exception": false,
     "start_time": "2022-11-21T07:51:00.164931",
     "status": "completed"
    },
    "tags": []
   },
   "outputs": [
    {
     "name": "stdout",
     "output_type": "stream",
     "text": [
      " \n",
      "      The Famous Platform of Learning Data Science and Machine Learning according to Kaggle Survey 2022\n",
      "      __________________________________________________________________________________________________\n",
      "        Edx :  edX    2474\n",
      "Name: Q6_2, dtype: int64  ,\n",
      "        Kaggle Learn Courses : Kaggle Learn Courses    6628\n",
      "Name: Q6_3, dtype: int64,\n",
      "        DataCamp : DataCamp    3718\n",
      "Name: Q6_4, dtype: int64,\n",
      "        Fast.Ai : Fast.ai    944\n",
      "Name: Q6_5, dtype: int64,\n",
      "        Udacity : Udacity    2199\n",
      "Name: Q6_6, dtype: int64,\n",
      "        Udemy : Udemy    6116\n",
      "Name: Q6_7, dtype: int64,\n",
      "        LinkedIn Learning : LinkedIn Learning    2766\n",
      "Name: Q6_8, dtype: int64\n",
      "        _________________________________________________________________________________________________\n",
      "                    These are the famouse platform to start learning\n",
      "      \n"
     ]
    }
   ],
   "source": [
    "print(f\"\"\" \n",
    "      The Famous Platform of Learning Data Science and Machine Learning according to Kaggle Survey 2022\n",
    "      __________________________________________________________________________________________________\n",
    "        Edx :  {edx_participants}  ,\n",
    "        Kaggle Learn Courses : {Kaggle_Learn_Courses},\n",
    "        DataCamp : {DataCamp_participants},\n",
    "        Fast.Ai : {Fast_ai},\n",
    "        Udacity : {Udacity_participants},\n",
    "        Udemy : {Udemy_participants},\n",
    "        LinkedIn Learning : {LinkedIn_Learning}\n",
    "        _________________________________________________________________________________________________\n",
    "                    These are the famouse platform to start learning\n",
    "      \"\"\"\n",
    "     )"
   ]
  },
  {
   "cell_type": "markdown",
   "id": "a543d9c5",
   "metadata": {
    "papermill": {
     "duration": 0.031376,
     "end_time": "2022-11-21T07:51:00.271699",
     "exception": false,
     "start_time": "2022-11-21T07:51:00.240323",
     "status": "completed"
    },
    "tags": []
   },
   "source": [
    "### So according to this Survey Kaggle Learnin Courses platform are leading and Udemy is th second position to learn data science and machine learning."
   ]
  },
  {
   "cell_type": "code",
   "execution_count": 34,
   "id": "edf6fb6c",
   "metadata": {
    "execution": {
     "iopub.execute_input": "2022-11-21T07:51:00.335860Z",
     "iopub.status.busy": "2022-11-21T07:51:00.335521Z",
     "iopub.status.idle": "2022-11-21T07:51:00.349502Z",
     "shell.execute_reply": "2022-11-21T07:51:00.348029Z"
    },
    "papermill": {
     "duration": 0.048404,
     "end_time": "2022-11-21T07:51:00.352164",
     "exception": false,
     "start_time": "2022-11-21T07:51:00.303760",
     "status": "completed"
    },
    "tags": []
   },
   "outputs": [
    {
     "data": {
      "text/plain": [
       "edX                     2474.0\n",
       "Kaggle Learn Courses    6628.0\n",
       "DataCamp                3718.0\n",
       "Fast.ai                  944.0\n",
       "Udacity                 2199.0\n",
       "Udemy                   6116.0\n",
       "LinkedIn Learning       2766.0\n",
       "dtype: float64"
      ]
     },
     "execution_count": 34,
     "metadata": {},
     "output_type": "execute_result"
    }
   ],
   "source": [
    "top_platforms = pd.DataFrame([edx_participants, Kaggle_Learn_Courses, DataCamp_participants, Fast_ai, Udacity_participants, Udemy_participants, LinkedIn_Learning]).sum()\n",
    "top_platforms"
   ]
  },
  {
   "cell_type": "code",
   "execution_count": 35,
   "id": "f374f5c4",
   "metadata": {
    "execution": {
     "iopub.execute_input": "2022-11-21T07:51:00.417122Z",
     "iopub.status.busy": "2022-11-21T07:51:00.416733Z",
     "iopub.status.idle": "2022-11-21T07:51:00.600957Z",
     "shell.execute_reply": "2022-11-21T07:51:00.600295Z"
    },
    "papermill": {
     "duration": 0.21966,
     "end_time": "2022-11-21T07:51:00.603284",
     "exception": false,
     "start_time": "2022-11-21T07:51:00.383624",
     "status": "completed"
    },
    "tags": []
   },
   "outputs": [
    {
     "data": {
      "image/png": "[encoded data removed]",
      "text/plain": [
       "<Figure size 1080x576 with 1 Axes>"
      ]
     },
     "metadata": {},
     "output_type": "display_data"
    }
   ],
   "source": [
    "#Top platforms\n",
    "fig, ax = plt.subplots(figsize=(15,8))\n",
    "# ax.set_ylim([0,20])\n",
    "ax.set_ylabel(\"Number of Participants\")\n",
    "ax.set_title(\"Top Platforms of the participatent in Kaggle 2022\")\n",
    "plt.xticks(rotation=45)\n",
    "sns.barplot( x = top_platforms.index, y = top_platforms, orient='v');\n",
    "plt.show()"
   ]
  },
  {
   "cell_type": "code",
   "execution_count": 36,
   "id": "c63ba552",
   "metadata": {
    "execution": {
     "iopub.execute_input": "2022-11-21T07:51:00.671216Z",
     "iopub.status.busy": "2022-11-21T07:51:00.669971Z",
     "iopub.status.idle": "2022-11-21T07:51:00.686695Z",
     "shell.execute_reply": "2022-11-21T07:51:00.686102Z"
    },
    "papermill": {
     "duration": 0.052885,
     "end_time": "2022-11-21T07:51:00.688192",
     "exception": false,
     "start_time": "2022-11-21T07:51:00.635307",
     "status": "completed"
    },
    "tags": []
   },
   "outputs": [
    {
     "data": {
      "text/html": [
       "<div>\n",
       "<style scoped>\n",
       "    .dataframe tbody tr th:only-of-type {\n",
       "        vertical-align: middle;\n",
       "    }\n",
       "\n",
       "    .dataframe tbody tr th {\n",
       "        vertical-align: top;\n",
       "    }\n",
       "\n",
       "    .dataframe thead th {\n",
       "        text-align: right;\n",
       "    }\n",
       "</style>\n",
       "<table border=\"1\" class=\"dataframe\">\n",
       "  <thead>\n",
       "    <tr style=\"text-align: right;\">\n",
       "      <th></th>\n",
       "      <th>Q7_1</th>\n",
       "      <th>Q7_2</th>\n",
       "      <th>Q7_3</th>\n",
       "      <th>Q7_4</th>\n",
       "      <th>Q7_5</th>\n",
       "      <th>Q7_6</th>\n",
       "      <th>Q7_7</th>\n",
       "    </tr>\n",
       "  </thead>\n",
       "  <tbody>\n",
       "    <tr>\n",
       "      <th>0</th>\n",
       "      <td>What products or platforms did you find to be ...</td>\n",
       "      <td>What products or platforms did you find to be ...</td>\n",
       "      <td>What products or platforms did you find to be ...</td>\n",
       "      <td>What products or platforms did you find to be ...</td>\n",
       "      <td>What products or platforms did you find to be ...</td>\n",
       "      <td>What products or platforms did you find to be ...</td>\n",
       "      <td>What products or platforms did you find to be ...</td>\n",
       "    </tr>\n",
       "    <tr>\n",
       "      <th>1</th>\n",
       "      <td>NaN</td>\n",
       "      <td>NaN</td>\n",
       "      <td>NaN</td>\n",
       "      <td>NaN</td>\n",
       "      <td>NaN</td>\n",
       "      <td>NaN</td>\n",
       "      <td>NaN</td>\n",
       "    </tr>\n",
       "    <tr>\n",
       "      <th>2</th>\n",
       "      <td>University courses</td>\n",
       "      <td>NaN</td>\n",
       "      <td>NaN</td>\n",
       "      <td>NaN</td>\n",
       "      <td>Kaggle (notebooks, competitions, etc)</td>\n",
       "      <td>NaN</td>\n",
       "      <td>NaN</td>\n",
       "    </tr>\n",
       "    <tr>\n",
       "      <th>3</th>\n",
       "      <td>NaN</td>\n",
       "      <td>Online courses (Coursera, EdX, etc)</td>\n",
       "      <td>NaN</td>\n",
       "      <td>Video platforms (YouTube, Twitch, etc)</td>\n",
       "      <td>Kaggle (notebooks, competitions, etc)</td>\n",
       "      <td>NaN</td>\n",
       "      <td>NaN</td>\n",
       "    </tr>\n",
       "    <tr>\n",
       "      <th>4</th>\n",
       "      <td>NaN</td>\n",
       "      <td>Online courses (Coursera, EdX, etc)</td>\n",
       "      <td>NaN</td>\n",
       "      <td>NaN</td>\n",
       "      <td>Kaggle (notebooks, competitions, etc)</td>\n",
       "      <td>NaN</td>\n",
       "      <td>NaN</td>\n",
       "    </tr>\n",
       "    <tr>\n",
       "      <th>...</th>\n",
       "      <td>...</td>\n",
       "      <td>...</td>\n",
       "      <td>...</td>\n",
       "      <td>...</td>\n",
       "      <td>...</td>\n",
       "      <td>...</td>\n",
       "      <td>...</td>\n",
       "    </tr>\n",
       "    <tr>\n",
       "      <th>23993</th>\n",
       "      <td>University courses</td>\n",
       "      <td>NaN</td>\n",
       "      <td>NaN</td>\n",
       "      <td>Video platforms (YouTube, Twitch, etc)</td>\n",
       "      <td>Kaggle (notebooks, competitions, etc)</td>\n",
       "      <td>NaN</td>\n",
       "      <td>Other</td>\n",
       "    </tr>\n",
       "    <tr>\n",
       "      <th>23994</th>\n",
       "      <td>University courses</td>\n",
       "      <td>NaN</td>\n",
       "      <td>NaN</td>\n",
       "      <td>Video platforms (YouTube, Twitch, etc)</td>\n",
       "      <td>NaN</td>\n",
       "      <td>NaN</td>\n",
       "      <td>NaN</td>\n",
       "    </tr>\n",
       "    <tr>\n",
       "      <th>23995</th>\n",
       "      <td>NaN</td>\n",
       "      <td>Online courses (Coursera, EdX, etc)</td>\n",
       "      <td>Social media platforms (Reddit, Twitter, etc)</td>\n",
       "      <td>Video platforms (YouTube, Twitch, etc)</td>\n",
       "      <td>Kaggle (notebooks, competitions, etc)</td>\n",
       "      <td>NaN</td>\n",
       "      <td>NaN</td>\n",
       "    </tr>\n",
       "    <tr>\n",
       "      <th>23996</th>\n",
       "      <td>NaN</td>\n",
       "      <td>NaN</td>\n",
       "      <td>NaN</td>\n",
       "      <td>NaN</td>\n",
       "      <td>Kaggle (notebooks, competitions, etc)</td>\n",
       "      <td>NaN</td>\n",
       "      <td>NaN</td>\n",
       "    </tr>\n",
       "    <tr>\n",
       "      <th>23997</th>\n",
       "      <td>NaN</td>\n",
       "      <td>NaN</td>\n",
       "      <td>NaN</td>\n",
       "      <td>Video platforms (YouTube, Twitch, etc)</td>\n",
       "      <td>Kaggle (notebooks, competitions, etc)</td>\n",
       "      <td>NaN</td>\n",
       "      <td>NaN</td>\n",
       "    </tr>\n",
       "  </tbody>\n",
       "</table>\n",
       "<p>23998 rows × 7 columns</p>\n",
       "</div>"
      ],
      "text/plain": [
       "                                                    Q7_1  \\\n",
       "0      What products or platforms did you find to be ...   \n",
       "1                                                    NaN   \n",
       "2                                     University courses   \n",
       "3                                                    NaN   \n",
       "4                                                    NaN   \n",
       "...                                                  ...   \n",
       "23993                                 University courses   \n",
       "23994                                 University courses   \n",
       "23995                                                NaN   \n",
       "23996                                                NaN   \n",
       "23997                                                NaN   \n",
       "\n",
       "                                                    Q7_2  \\\n",
       "0      What products or platforms did you find to be ...   \n",
       "1                                                    NaN   \n",
       "2                                                    NaN   \n",
       "3                    Online courses (Coursera, EdX, etc)   \n",
       "4                    Online courses (Coursera, EdX, etc)   \n",
       "...                                                  ...   \n",
       "23993                                                NaN   \n",
       "23994                                                NaN   \n",
       "23995                Online courses (Coursera, EdX, etc)   \n",
       "23996                                                NaN   \n",
       "23997                                                NaN   \n",
       "\n",
       "                                                    Q7_3  \\\n",
       "0      What products or platforms did you find to be ...   \n",
       "1                                                    NaN   \n",
       "2                                                    NaN   \n",
       "3                                                    NaN   \n",
       "4                                                    NaN   \n",
       "...                                                  ...   \n",
       "23993                                                NaN   \n",
       "23994                                                NaN   \n",
       "23995      Social media platforms (Reddit, Twitter, etc)   \n",
       "23996                                                NaN   \n",
       "23997                                                NaN   \n",
       "\n",
       "                                                    Q7_4  \\\n",
       "0      What products or platforms did you find to be ...   \n",
       "1                                                    NaN   \n",
       "2                                                    NaN   \n",
       "3                 Video platforms (YouTube, Twitch, etc)   \n",
       "4                                                    NaN   \n",
       "...                                                  ...   \n",
       "23993             Video platforms (YouTube, Twitch, etc)   \n",
       "23994             Video platforms (YouTube, Twitch, etc)   \n",
       "23995             Video platforms (YouTube, Twitch, etc)   \n",
       "23996                                                NaN   \n",
       "23997             Video platforms (YouTube, Twitch, etc)   \n",
       "\n",
       "                                                    Q7_5  \\\n",
       "0      What products or platforms did you find to be ...   \n",
       "1                                                    NaN   \n",
       "2                  Kaggle (notebooks, competitions, etc)   \n",
       "3                  Kaggle (notebooks, competitions, etc)   \n",
       "4                  Kaggle (notebooks, competitions, etc)   \n",
       "...                                                  ...   \n",
       "23993              Kaggle (notebooks, competitions, etc)   \n",
       "23994                                                NaN   \n",
       "23995              Kaggle (notebooks, competitions, etc)   \n",
       "23996              Kaggle (notebooks, competitions, etc)   \n",
       "23997              Kaggle (notebooks, competitions, etc)   \n",
       "\n",
       "                                                    Q7_6  \\\n",
       "0      What products or platforms did you find to be ...   \n",
       "1                                                    NaN   \n",
       "2                                                    NaN   \n",
       "3                                                    NaN   \n",
       "4                                                    NaN   \n",
       "...                                                  ...   \n",
       "23993                                                NaN   \n",
       "23994                                                NaN   \n",
       "23995                                                NaN   \n",
       "23996                                                NaN   \n",
       "23997                                                NaN   \n",
       "\n",
       "                                                    Q7_7  \n",
       "0      What products or platforms did you find to be ...  \n",
       "1                                                    NaN  \n",
       "2                                                    NaN  \n",
       "3                                                    NaN  \n",
       "4                                                    NaN  \n",
       "...                                                  ...  \n",
       "23993                                              Other  \n",
       "23994                                                NaN  \n",
       "23995                                                NaN  \n",
       "23996                                                NaN  \n",
       "23997                                                NaN  \n",
       "\n",
       "[23998 rows x 7 columns]"
      ]
     },
     "execution_count": 36,
     "metadata": {},
     "output_type": "execute_result"
    }
   ],
   "source": [
    "top_products = df_kaggle_22[['Q7_1','Q7_2','Q7_3','Q7_4','Q7_5','Q7_6','Q7_7']]\n",
    "top_products"
   ]
  },
  {
   "cell_type": "code",
   "execution_count": 37,
   "id": "00971f72",
   "metadata": {
    "execution": {
     "iopub.execute_input": "2022-11-21T07:51:00.752390Z",
     "iopub.status.busy": "2022-11-21T07:51:00.751726Z",
     "iopub.status.idle": "2022-11-21T07:51:00.759073Z",
     "shell.execute_reply": "2022-11-21T07:51:00.758478Z"
    },
    "papermill": {
     "duration": 0.040793,
     "end_time": "2022-11-21T07:51:00.760730",
     "exception": false,
     "start_time": "2022-11-21T07:51:00.719937",
     "status": "completed"
    },
    "tags": []
   },
   "outputs": [
    {
     "data": {
      "text/plain": [
       "University courses    6851\n",
       "Name: Q7_1, dtype: int64"
      ]
     },
     "execution_count": 37,
     "metadata": {},
     "output_type": "execute_result"
    }
   ],
   "source": [
    "university_courses = df_kaggle_22['Q7_1'].value_counts()[:1]\n",
    "university_courses"
   ]
  },
  {
   "cell_type": "code",
   "execution_count": 38,
   "id": "e7054e15",
   "metadata": {
    "execution": {
     "iopub.execute_input": "2022-11-21T07:51:00.824912Z",
     "iopub.status.busy": "2022-11-21T07:51:00.824326Z",
     "iopub.status.idle": "2022-11-21T07:51:00.834352Z",
     "shell.execute_reply": "2022-11-21T07:51:00.833294Z"
    },
    "papermill": {
     "duration": 0.044551,
     "end_time": "2022-11-21T07:51:00.836374",
     "exception": false,
     "start_time": "2022-11-21T07:51:00.791823",
     "status": "completed"
    },
    "tags": []
   },
   "outputs": [
    {
     "data": {
      "text/plain": [
       "Online courses (Coursera, EdX, etc)    13714\n",
       "Name: Q7_2, dtype: int64"
      ]
     },
     "execution_count": 38,
     "metadata": {},
     "output_type": "execute_result"
    }
   ],
   "source": [
    "online_courses = df_kaggle_22['Q7_2'].value_counts()[:1]\n",
    "online_courses"
   ]
  },
  {
   "cell_type": "code",
   "execution_count": 39,
   "id": "c2581880",
   "metadata": {
    "execution": {
     "iopub.execute_input": "2022-11-21T07:51:00.901059Z",
     "iopub.status.busy": "2022-11-21T07:51:00.900693Z",
     "iopub.status.idle": "2022-11-21T07:51:00.911423Z",
     "shell.execute_reply": "2022-11-21T07:51:00.909947Z"
    },
    "papermill": {
     "duration": 0.046051,
     "end_time": "2022-11-21T07:51:00.914070",
     "exception": false,
     "start_time": "2022-11-21T07:51:00.868019",
     "status": "completed"
    },
    "tags": []
   },
   "outputs": [
    {
     "data": {
      "text/plain": [
       "Social media platforms (Reddit, Twitter, etc)    3310\n",
       "Name: Q7_3, dtype: int64"
      ]
     },
     "execution_count": 39,
     "metadata": {},
     "output_type": "execute_result"
    }
   ],
   "source": [
    "social_media = df_kaggle_22['Q7_3'].value_counts()[:1]\n",
    "social_media"
   ]
  },
  {
   "cell_type": "code",
   "execution_count": 40,
   "id": "107838bf",
   "metadata": {
    "execution": {
     "iopub.execute_input": "2022-11-21T07:51:00.979928Z",
     "iopub.status.busy": "2022-11-21T07:51:00.978715Z",
     "iopub.status.idle": "2022-11-21T07:51:00.988070Z",
     "shell.execute_reply": "2022-11-21T07:51:00.987227Z"
    },
    "papermill": {
     "duration": 0.044577,
     "end_time": "2022-11-21T07:51:00.989896",
     "exception": false,
     "start_time": "2022-11-21T07:51:00.945319",
     "status": "completed"
    },
    "tags": []
   },
   "outputs": [
    {
     "data": {
      "text/plain": [
       "Video platforms (YouTube, Twitch, etc)    12871\n",
       "Name: Q7_4, dtype: int64"
      ]
     },
     "execution_count": 40,
     "metadata": {},
     "output_type": "execute_result"
    }
   ],
   "source": [
    "video_platforms = df_kaggle_22['Q7_4'].value_counts()[:1]\n",
    "video_platforms"
   ]
  },
  {
   "cell_type": "code",
   "execution_count": 41,
   "id": "94d6efc8",
   "metadata": {
    "execution": {
     "iopub.execute_input": "2022-11-21T07:51:01.056829Z",
     "iopub.status.busy": "2022-11-21T07:51:01.055783Z",
     "iopub.status.idle": "2022-11-21T07:51:01.065808Z",
     "shell.execute_reply": "2022-11-21T07:51:01.064269Z"
    },
    "papermill": {
     "duration": 0.045912,
     "end_time": "2022-11-21T07:51:01.067770",
     "exception": false,
     "start_time": "2022-11-21T07:51:01.021858",
     "status": "completed"
    },
    "tags": []
   },
   "outputs": [
    {
     "data": {
      "text/plain": [
       "Kaggle (notebooks, competitions, etc)    12700\n",
       "Name: Q7_5, dtype: int64"
      ]
     },
     "execution_count": 41,
     "metadata": {},
     "output_type": "execute_result"
    }
   ],
   "source": [
    "kaggle_notebook = df_kaggle_22['Q7_5'].value_counts()[:1]\n",
    "kaggle_notebook"
   ]
  },
  {
   "cell_type": "markdown",
   "id": "00953d56",
   "metadata": {
    "papermill": {
     "duration": 0.031048,
     "end_time": "2022-11-21T07:51:01.130884",
     "exception": false,
     "start_time": "2022-11-21T07:51:01.099836",
     "status": "completed"
    },
    "tags": []
   },
   "source": [
    "# What products or platforms did you find to be most helpful when you first started studying data science?"
   ]
  },
  {
   "cell_type": "markdown",
   "id": "850b9281",
   "metadata": {
    "papermill": {
     "duration": 0.031963,
     "end_time": "2022-11-21T07:51:01.194547",
     "exception": false,
     "start_time": "2022-11-21T07:51:01.162584",
     "status": "completed"
    },
    "tags": []
   },
   "source": [
    "## Options are:\n",
    "- University courses\n",
    "-Online courses (Coursera, EdX, etc)\n",
    "-Social media platforms (Reddit, Twitter, etc)\n",
    "-Video platforms (YouTube, Twitch, etc)\n",
    "-Kaggle (notebooks, competitions, etc)"
   ]
  },
  {
   "cell_type": "code",
   "execution_count": 42,
   "id": "01eb5741",
   "metadata": {
    "execution": {
     "iopub.execute_input": "2022-11-21T07:51:01.260226Z",
     "iopub.status.busy": "2022-11-21T07:51:01.259849Z",
     "iopub.status.idle": "2022-11-21T07:51:01.270306Z",
     "shell.execute_reply": "2022-11-21T07:51:01.269118Z"
    },
    "papermill": {
     "duration": 0.046181,
     "end_time": "2022-11-21T07:51:01.272137",
     "exception": false,
     "start_time": "2022-11-21T07:51:01.225956",
     "status": "completed"
    },
    "tags": []
   },
   "outputs": [
    {
     "data": {
      "text/plain": [
       "University courses                                6851.0\n",
       "Online courses (Coursera, EdX, etc)              13714.0\n",
       "Social media platforms (Reddit, Twitter, etc)     3310.0\n",
       "Video platforms (YouTube, Twitch, etc)           12871.0\n",
       "Kaggle (notebooks, competitions, etc)            12700.0\n",
       "dtype: float64"
      ]
     },
     "execution_count": 42,
     "metadata": {},
     "output_type": "execute_result"
    }
   ],
   "source": [
    "products_users = pd.DataFrame([university_courses, online_courses, social_media, video_platforms, kaggle_notebook]).sum()\n",
    "products_users"
   ]
  },
  {
   "cell_type": "code",
   "execution_count": 43,
   "id": "43b95cee",
   "metadata": {
    "execution": {
     "iopub.execute_input": "2022-11-21T07:51:01.340524Z",
     "iopub.status.busy": "2022-11-21T07:51:01.339273Z",
     "iopub.status.idle": "2022-11-21T07:51:01.544380Z",
     "shell.execute_reply": "2022-11-21T07:51:01.543540Z"
    },
    "papermill": {
     "duration": 0.239705,
     "end_time": "2022-11-21T07:51:01.546114",
     "exception": false,
     "start_time": "2022-11-21T07:51:01.306409",
     "status": "completed"
    },
    "tags": []
   },
   "outputs": [
    {
     "data": {
      "image/png": "[encoded data removed]",
      "text/plain": [
       "<Figure size 1080x576 with 1 Axes>"
      ]
     },
     "metadata": {},
     "output_type": "display_data"
    }
   ],
   "source": [
    "#Top products\n",
    "fig, ax = plt.subplots(figsize=(15,8))\n",
    "# ax.set_ylim([0,20])\n",
    "ax.set_ylabel(\"Number of Participants\")\n",
    "ax.set_title(\"Top Products participatent used while learning Data Science \")\n",
    "plt.xticks(rotation=45)\n",
    "sns.barplot( x = products_users.index, y = products_users, orient='v');\n",
    "plt.show()"
   ]
  },
  {
   "cell_type": "markdown",
   "id": "6ccd6b2a",
   "metadata": {
    "papermill": {
     "duration": 0.033332,
     "end_time": "2022-11-21T07:51:01.611783",
     "exception": false,
     "start_time": "2022-11-21T07:51:01.578451",
     "status": "completed"
    },
    "tags": []
   },
   "source": [
    "### The above diagram shows that online courses, video platforms and kaggle notebook are leading"
   ]
  },
  {
   "cell_type": "markdown",
   "id": "34b05c53",
   "metadata": {
    "papermill": {
     "duration": 0.031013,
     "end_time": "2022-11-21T07:51:01.674491",
     "exception": false,
     "start_time": "2022-11-21T07:51:01.643478",
     "status": "completed"
    },
    "tags": []
   },
   "source": [
    "# What programming languages do you use on a regular basis? "
   ]
  },
  {
   "cell_type": "markdown",
   "id": "53977beb",
   "metadata": {
    "papermill": {
     "duration": 0.03104,
     "end_time": "2022-11-21T07:51:01.735696",
     "exception": false,
     "start_time": "2022-11-21T07:51:01.704656",
     "status": "completed"
    },
    "tags": []
   },
   "source": [
    "## let see the top programming languages"
   ]
  },
  {
   "cell_type": "code",
   "execution_count": 44,
   "id": "c4ce3d67",
   "metadata": {
    "execution": {
     "iopub.execute_input": "2022-11-21T07:51:01.801660Z",
     "iopub.status.busy": "2022-11-21T07:51:01.800418Z",
     "iopub.status.idle": "2022-11-21T07:51:01.812095Z",
     "shell.execute_reply": "2022-11-21T07:51:01.810806Z"
    },
    "papermill": {
     "duration": 0.046924,
     "end_time": "2022-11-21T07:51:01.814171",
     "exception": false,
     "start_time": "2022-11-21T07:51:01.767247",
     "status": "completed"
    },
    "tags": []
   },
   "outputs": [
    {
     "data": {
      "text/plain": [
       "Python    18653\n",
       "Name: Q12_1, dtype: int64"
      ]
     },
     "execution_count": 44,
     "metadata": {},
     "output_type": "execute_result"
    }
   ],
   "source": [
    "python_user = df_kaggle_22['Q12_1'].value_counts()[:1]\n",
    "python_user"
   ]
  },
  {
   "cell_type": "code",
   "execution_count": 45,
   "id": "cf73c1e1",
   "metadata": {
    "execution": {
     "iopub.execute_input": "2022-11-21T07:51:01.879507Z",
     "iopub.status.busy": "2022-11-21T07:51:01.879149Z",
     "iopub.status.idle": "2022-11-21T07:51:01.888838Z",
     "shell.execute_reply": "2022-11-21T07:51:01.887315Z"
    },
    "papermill": {
     "duration": 0.045197,
     "end_time": "2022-11-21T07:51:01.891160",
     "exception": false,
     "start_time": "2022-11-21T07:51:01.845963",
     "status": "completed"
    },
    "tags": []
   },
   "outputs": [
    {
     "data": {
      "text/plain": [
       "R    4571\n",
       "Name: Q12_2, dtype: int64"
      ]
     },
     "execution_count": 45,
     "metadata": {},
     "output_type": "execute_result"
    }
   ],
   "source": [
    "r_user = df_kaggle_22['Q12_2'].value_counts()[:1]\n",
    "r_user"
   ]
  },
  {
   "cell_type": "code",
   "execution_count": 46,
   "id": "9708a030",
   "metadata": {
    "execution": {
     "iopub.execute_input": "2022-11-21T07:51:01.957751Z",
     "iopub.status.busy": "2022-11-21T07:51:01.957429Z",
     "iopub.status.idle": "2022-11-21T07:51:01.966921Z",
     "shell.execute_reply": "2022-11-21T07:51:01.965996Z"
    },
    "papermill": {
     "duration": 0.044998,
     "end_time": "2022-11-21T07:51:01.968923",
     "exception": false,
     "start_time": "2022-11-21T07:51:01.923925",
     "status": "completed"
    },
    "tags": []
   },
   "outputs": [
    {
     "data": {
      "text/plain": [
       "SQL    9620\n",
       "Name: Q12_3, dtype: int64"
      ]
     },
     "execution_count": 46,
     "metadata": {},
     "output_type": "execute_result"
    }
   ],
   "source": [
    "sql_user = df_kaggle_22['Q12_3'].value_counts()[:1]\n",
    "sql_user"
   ]
  },
  {
   "cell_type": "code",
   "execution_count": 47,
   "id": "01665a02",
   "metadata": {
    "execution": {
     "iopub.execute_input": "2022-11-21T07:51:02.039282Z",
     "iopub.status.busy": "2022-11-21T07:51:02.037801Z",
     "iopub.status.idle": "2022-11-21T07:51:02.048724Z",
     "shell.execute_reply": "2022-11-21T07:51:02.047236Z"
    },
    "papermill": {
     "duration": 0.049194,
     "end_time": "2022-11-21T07:51:02.051168",
     "exception": false,
     "start_time": "2022-11-21T07:51:02.001974",
     "status": "completed"
    },
    "tags": []
   },
   "outputs": [
    {
     "data": {
      "text/plain": [
       "C    3801\n",
       "Name: Q12_4, dtype: int64"
      ]
     },
     "execution_count": 47,
     "metadata": {},
     "output_type": "execute_result"
    }
   ],
   "source": [
    "c_user = df_kaggle_22['Q12_4'].value_counts()[:1]\n",
    "c_user"
   ]
  },
  {
   "cell_type": "code",
   "execution_count": 48,
   "id": "ff16e851",
   "metadata": {
    "execution": {
     "iopub.execute_input": "2022-11-21T07:51:02.120373Z",
     "iopub.status.busy": "2022-11-21T07:51:02.119876Z",
     "iopub.status.idle": "2022-11-21T07:51:02.129704Z",
     "shell.execute_reply": "2022-11-21T07:51:02.128346Z"
    },
    "papermill": {
     "duration": 0.047016,
     "end_time": "2022-11-21T07:51:02.131518",
     "exception": false,
     "start_time": "2022-11-21T07:51:02.084502",
     "status": "completed"
    },
    "tags": []
   },
   "outputs": [
    {
     "data": {
      "text/plain": [
       "C#    1473\n",
       "Name: Q12_5, dtype: int64"
      ]
     },
     "execution_count": 48,
     "metadata": {},
     "output_type": "execute_result"
    }
   ],
   "source": [
    "c_hash_user = df_kaggle_22['Q12_5'].value_counts()[:1]\n",
    "c_hash_user"
   ]
  },
  {
   "cell_type": "code",
   "execution_count": 49,
   "id": "76d07021",
   "metadata": {
    "execution": {
     "iopub.execute_input": "2022-11-21T07:51:02.200420Z",
     "iopub.status.busy": "2022-11-21T07:51:02.200009Z",
     "iopub.status.idle": "2022-11-21T07:51:02.210808Z",
     "shell.execute_reply": "2022-11-21T07:51:02.208937Z"
    },
    "papermill": {
     "duration": 0.04831,
     "end_time": "2022-11-21T07:51:02.212747",
     "exception": false,
     "start_time": "2022-11-21T07:51:02.164437",
     "status": "completed"
    },
    "tags": []
   },
   "outputs": [
    {
     "data": {
      "text/plain": [
       "C++    4549\n",
       "Name: Q12_6, dtype: int64"
      ]
     },
     "execution_count": 49,
     "metadata": {},
     "output_type": "execute_result"
    }
   ],
   "source": [
    "c_plus_plus_user = df_kaggle_22['Q12_6'].value_counts()[:1]\n",
    "c_plus_plus_user"
   ]
  },
  {
   "cell_type": "code",
   "execution_count": 50,
   "id": "086d87c9",
   "metadata": {
    "execution": {
     "iopub.execute_input": "2022-11-21T07:51:02.282949Z",
     "iopub.status.busy": "2022-11-21T07:51:02.282604Z",
     "iopub.status.idle": "2022-11-21T07:51:02.291006Z",
     "shell.execute_reply": "2022-11-21T07:51:02.290329Z"
    },
    "papermill": {
     "duration": 0.046266,
     "end_time": "2022-11-21T07:51:02.292726",
     "exception": false,
     "start_time": "2022-11-21T07:51:02.246460",
     "status": "completed"
    },
    "tags": []
   },
   "outputs": [
    {
     "data": {
      "text/plain": [
       "Java    3862\n",
       "Name: Q12_7, dtype: int64"
      ]
     },
     "execution_count": 50,
     "metadata": {},
     "output_type": "execute_result"
    }
   ],
   "source": [
    "java_user = df_kaggle_22['Q12_7'].value_counts()[:1]\n",
    "java_user"
   ]
  },
  {
   "cell_type": "code",
   "execution_count": 51,
   "id": "2b691812",
   "metadata": {
    "execution": {
     "iopub.execute_input": "2022-11-21T07:51:02.367670Z",
     "iopub.status.busy": "2022-11-21T07:51:02.367171Z",
     "iopub.status.idle": "2022-11-21T07:51:02.374834Z",
     "shell.execute_reply": "2022-11-21T07:51:02.373803Z"
    },
    "papermill": {
     "duration": 0.048014,
     "end_time": "2022-11-21T07:51:02.377037",
     "exception": false,
     "start_time": "2022-11-21T07:51:02.329023",
     "status": "completed"
    },
    "tags": []
   },
   "outputs": [
    {
     "data": {
      "text/plain": [
       "Javascript    3489\n",
       "Name: Q12_8, dtype: int64"
      ]
     },
     "execution_count": 51,
     "metadata": {},
     "output_type": "execute_result"
    }
   ],
   "source": [
    "javascript_user = df_kaggle_22['Q12_8'].value_counts()[:1]\n",
    "javascript_user"
   ]
  },
  {
   "cell_type": "code",
   "execution_count": 52,
   "id": "ca821773",
   "metadata": {
    "execution": {
     "iopub.execute_input": "2022-11-21T07:51:02.447679Z",
     "iopub.status.busy": "2022-11-21T07:51:02.447197Z",
     "iopub.status.idle": "2022-11-21T07:51:02.454137Z",
     "shell.execute_reply": "2022-11-21T07:51:02.453470Z"
    },
    "papermill": {
     "duration": 0.043899,
     "end_time": "2022-11-21T07:51:02.455736",
     "exception": false,
     "start_time": "2022-11-21T07:51:02.411837",
     "status": "completed"
    },
    "tags": []
   },
   "outputs": [
    {
     "data": {
      "text/plain": [
       "Bash    1674\n",
       "Name: Q12_9, dtype: int64"
      ]
     },
     "execution_count": 52,
     "metadata": {},
     "output_type": "execute_result"
    }
   ],
   "source": [
    "bash_user = df_kaggle_22['Q12_9'].value_counts()[:1]\n",
    "bash_user"
   ]
  },
  {
   "cell_type": "code",
   "execution_count": 53,
   "id": "4f9ef911",
   "metadata": {
    "execution": {
     "iopub.execute_input": "2022-11-21T07:51:02.526492Z",
     "iopub.status.busy": "2022-11-21T07:51:02.525978Z",
     "iopub.status.idle": "2022-11-21T07:51:02.533200Z",
     "shell.execute_reply": "2022-11-21T07:51:02.532465Z"
    },
    "papermill": {
     "duration": 0.044944,
     "end_time": "2022-11-21T07:51:02.535554",
     "exception": false,
     "start_time": "2022-11-21T07:51:02.490610",
     "status": "completed"
    },
    "tags": []
   },
   "outputs": [
    {
     "data": {
      "text/plain": [
       "PHP    1443\n",
       "Name: Q12_10, dtype: int64"
      ]
     },
     "execution_count": 53,
     "metadata": {},
     "output_type": "execute_result"
    }
   ],
   "source": [
    "php_user = df_kaggle_22['Q12_10'].value_counts()[:1]\n",
    "php_user"
   ]
  },
  {
   "cell_type": "code",
   "execution_count": 54,
   "id": "dad6f644",
   "metadata": {
    "execution": {
     "iopub.execute_input": "2022-11-21T07:51:02.609129Z",
     "iopub.status.busy": "2022-11-21T07:51:02.607523Z",
     "iopub.status.idle": "2022-11-21T07:51:02.616948Z",
     "shell.execute_reply": "2022-11-21T07:51:02.616112Z"
    },
    "papermill": {
     "duration": 0.047565,
     "end_time": "2022-11-21T07:51:02.618715",
     "exception": false,
     "start_time": "2022-11-21T07:51:02.571150",
     "status": "completed"
    },
    "tags": []
   },
   "outputs": [
    {
     "data": {
      "text/plain": [
       "MATLAB    2441\n",
       "Name: Q12_11, dtype: int64"
      ]
     },
     "execution_count": 54,
     "metadata": {},
     "output_type": "execute_result"
    }
   ],
   "source": [
    "matlab_user = df_kaggle_22['Q12_11'].value_counts()[:1]\n",
    "matlab_user"
   ]
  },
  {
   "cell_type": "code",
   "execution_count": 55,
   "id": "7de2778a",
   "metadata": {
    "execution": {
     "iopub.execute_input": "2022-11-21T07:51:02.687930Z",
     "iopub.status.busy": "2022-11-21T07:51:02.686756Z",
     "iopub.status.idle": "2022-11-21T07:51:02.695324Z",
     "shell.execute_reply": "2022-11-21T07:51:02.694309Z"
    },
    "papermill": {
     "duration": 0.045072,
     "end_time": "2022-11-21T07:51:02.697553",
     "exception": false,
     "start_time": "2022-11-21T07:51:02.652481",
     "status": "completed"
    },
    "tags": []
   },
   "outputs": [
    {
     "data": {
      "text/plain": [
       "Julia    296\n",
       "Name: Q12_12, dtype: int64"
      ]
     },
     "execution_count": 55,
     "metadata": {},
     "output_type": "execute_result"
    }
   ],
   "source": [
    "julia_user = df_kaggle_22['Q12_12'].value_counts()[:1]\n",
    "julia_user"
   ]
  },
  {
   "cell_type": "code",
   "execution_count": 56,
   "id": "fd6dbfba",
   "metadata": {
    "execution": {
     "iopub.execute_input": "2022-11-21T07:51:02.767308Z",
     "iopub.status.busy": "2022-11-21T07:51:02.765692Z",
     "iopub.status.idle": "2022-11-21T07:51:02.774936Z",
     "shell.execute_reply": "2022-11-21T07:51:02.774111Z"
    },
    "papermill": {
     "duration": 0.046756,
     "end_time": "2022-11-21T07:51:02.777623",
     "exception": false,
     "start_time": "2022-11-21T07:51:02.730867",
     "status": "completed"
    },
    "tags": []
   },
   "outputs": [
    {
     "data": {
      "text/plain": [
       "Go    322\n",
       "Name: Q12_13, dtype: int64"
      ]
     },
     "execution_count": 56,
     "metadata": {},
     "output_type": "execute_result"
    }
   ],
   "source": [
    "go_user = df_kaggle_22['Q12_13'].value_counts()[:1]\n",
    "go_user"
   ]
  },
  {
   "cell_type": "code",
   "execution_count": 57,
   "id": "20ad9c50",
   "metadata": {
    "execution": {
     "iopub.execute_input": "2022-11-21T07:51:02.844465Z",
     "iopub.status.busy": "2022-11-21T07:51:02.844179Z",
     "iopub.status.idle": "2022-11-21T07:51:02.855440Z",
     "shell.execute_reply": "2022-11-21T07:51:02.854101Z"
    },
    "papermill": {
     "duration": 0.047411,
     "end_time": "2022-11-21T07:51:02.857648",
     "exception": false,
     "start_time": "2022-11-21T07:51:02.810237",
     "status": "completed"
    },
    "tags": []
   },
   "outputs": [
    {
     "data": {
      "text/plain": [
       "Python        18653.0\n",
       "R              4571.0\n",
       "SQL            9620.0\n",
       "C              3801.0\n",
       "C#             1473.0\n",
       "C++            4549.0\n",
       "Java           3862.0\n",
       "Javascript     3489.0\n",
       "Bash           1674.0\n",
       "PHP            1443.0\n",
       "Julia           296.0\n",
       "Go              322.0\n",
       "dtype: float64"
      ]
     },
     "execution_count": 57,
     "metadata": {},
     "output_type": "execute_result"
    }
   ],
   "source": [
    "top_programming_lang = pd.DataFrame([python_user, r_user, sql_user, c_user, c_hash_user, c_plus_plus_user, java_user, javascript_user, bash_user, php_user, julia_user, go_user]).sum()\n",
    "top_programming_lang"
   ]
  },
  {
   "cell_type": "code",
   "execution_count": 58,
   "id": "90fad7f4",
   "metadata": {
    "execution": {
     "iopub.execute_input": "2022-11-21T07:51:02.926256Z",
     "iopub.status.busy": "2022-11-21T07:51:02.925889Z",
     "iopub.status.idle": "2022-11-21T07:51:03.164891Z",
     "shell.execute_reply": "2022-11-21T07:51:03.164288Z"
    },
    "papermill": {
     "duration": 0.276555,
     "end_time": "2022-11-21T07:51:03.166710",
     "exception": false,
     "start_time": "2022-11-21T07:51:02.890155",
     "status": "completed"
    },
    "tags": []
   },
   "outputs": [
    {
     "data": {
      "image/png": "[encoded data removed]",
      "text/plain": [
       "<Figure size 1080x576 with 1 Axes>"
      ]
     },
     "metadata": {},
     "output_type": "display_data"
    }
   ],
   "source": [
    "#Top programming languages\n",
    "fig, ax = plt.subplots(figsize=(15,8))\n",
    "# ax.set_ylim([0,20])\n",
    "ax.set_ylabel(\"Number of Participants\")\n",
    "ax.set_title(\"Top programming languages used while learning Data Science \")\n",
    "plt.xticks(rotation=90)\n",
    "sns.barplot( x = top_programming_lang.index, y = top_programming_lang, orient='v');\n",
    "plt.show()"
   ]
  },
  {
   "cell_type": "markdown",
   "id": "d42eee67",
   "metadata": {
    "papermill": {
     "duration": 0.035427,
     "end_time": "2022-11-21T07:51:03.235883",
     "exception": false,
     "start_time": "2022-11-21T07:51:03.200456",
     "status": "completed"
    },
    "tags": []
   },
   "source": [
    "### Python and SQL are leading the data science world!"
   ]
  },
  {
   "cell_type": "markdown",
   "id": "27a13bfd",
   "metadata": {
    "papermill": {
     "duration": 0.034928,
     "end_time": "2022-11-21T07:51:03.305247",
     "exception": false,
     "start_time": "2022-11-21T07:51:03.270319",
     "status": "completed"
    },
    "tags": []
   },
   "source": [
    "# Which of the following integrated development environments (IDE's) do you use on a regular basis?\n",
    "- JupyterLab\n",
    "- RStudio \n",
    "-  Visual Studio \n",
    "-  Visual Studio Code (VSCode\n",
    "- PyCharm \n",
    "- Sublime Text\n",
    "- Jupyter Notebook"
   ]
  },
  {
   "cell_type": "code",
   "execution_count": 59,
   "id": "906ec306",
   "metadata": {
    "execution": {
     "iopub.execute_input": "2022-11-21T07:51:03.433032Z",
     "iopub.status.busy": "2022-11-21T07:51:03.432701Z",
     "iopub.status.idle": "2022-11-21T07:51:03.441236Z",
     "shell.execute_reply": "2022-11-21T07:51:03.440376Z"
    },
    "papermill": {
     "duration": 0.102447,
     "end_time": "2022-11-21T07:51:03.442904",
     "exception": false,
     "start_time": "2022-11-21T07:51:03.340457",
     "status": "completed"
    },
    "tags": []
   },
   "outputs": [
    {
     "data": {
      "text/plain": [
       "JupyterLab     4887\n",
       "Name: Q13_1, dtype: int64"
      ]
     },
     "execution_count": 59,
     "metadata": {},
     "output_type": "execute_result"
    }
   ],
   "source": [
    "jupyterlab = df_kaggle_22['Q13_1'].value_counts()[:1]\n",
    "jupyterlab"
   ]
  },
  {
   "cell_type": "code",
   "execution_count": 60,
   "id": "1cd8d176",
   "metadata": {
    "execution": {
     "iopub.execute_input": "2022-11-21T07:51:03.512961Z",
     "iopub.status.busy": "2022-11-21T07:51:03.512383Z",
     "iopub.status.idle": "2022-11-21T07:51:03.520618Z",
     "shell.execute_reply": "2022-11-21T07:51:03.519334Z"
    },
    "papermill": {
     "duration": 0.046765,
     "end_time": "2022-11-21T07:51:03.522592",
     "exception": false,
     "start_time": "2022-11-21T07:51:03.475827",
     "status": "completed"
    },
    "tags": []
   },
   "outputs": [
    {
     "data": {
      "text/plain": [
       " RStudio     3824\n",
       "Name: Q13_2, dtype: int64"
      ]
     },
     "execution_count": 60,
     "metadata": {},
     "output_type": "execute_result"
    }
   ],
   "source": [
    "rstudio = df_kaggle_22['Q13_2'].value_counts()[:1]\n",
    "rstudio"
   ]
  },
  {
   "cell_type": "code",
   "execution_count": 61,
   "id": "0f13c85f",
   "metadata": {
    "execution": {
     "iopub.execute_input": "2022-11-21T07:51:03.592952Z",
     "iopub.status.busy": "2022-11-21T07:51:03.592617Z",
     "iopub.status.idle": "2022-11-21T07:51:03.600008Z",
     "shell.execute_reply": "2022-11-21T07:51:03.599446Z"
    },
    "papermill": {
     "duration": 0.04585,
     "end_time": "2022-11-21T07:51:03.603090",
     "exception": false,
     "start_time": "2022-11-21T07:51:03.557240",
     "status": "completed"
    },
    "tags": []
   },
   "outputs": [
    {
     "data": {
      "text/plain": [
       " Visual Studio     4416\n",
       "Name: Q13_3, dtype: int64"
      ]
     },
     "execution_count": 61,
     "metadata": {},
     "output_type": "execute_result"
    }
   ],
   "source": [
    "visual_studio = df_kaggle_22['Q13_3'].value_counts()[:1]\n",
    "visual_studio"
   ]
  },
  {
   "cell_type": "code",
   "execution_count": 62,
   "id": "c3dda8c3",
   "metadata": {
    "execution": {
     "iopub.execute_input": "2022-11-21T07:51:03.676773Z",
     "iopub.status.busy": "2022-11-21T07:51:03.676418Z",
     "iopub.status.idle": "2022-11-21T07:51:03.686404Z",
     "shell.execute_reply": "2022-11-21T07:51:03.685178Z"
    },
    "papermill": {
     "duration": 0.048981,
     "end_time": "2022-11-21T07:51:03.688861",
     "exception": false,
     "start_time": "2022-11-21T07:51:03.639880",
     "status": "completed"
    },
    "tags": []
   },
   "outputs": [
    {
     "data": {
      "text/plain": [
       " Visual Studio Code (VSCode)     9976\n",
       "Name: Q13_4, dtype: int64"
      ]
     },
     "execution_count": 62,
     "metadata": {},
     "output_type": "execute_result"
    }
   ],
   "source": [
    "visual_studio_code = df_kaggle_22['Q13_4'].value_counts()[:1]\n",
    "visual_studio_code"
   ]
  },
  {
   "cell_type": "code",
   "execution_count": 63,
   "id": "46f5d238",
   "metadata": {
    "execution": {
     "iopub.execute_input": "2022-11-21T07:51:03.759411Z",
     "iopub.status.busy": "2022-11-21T07:51:03.759034Z",
     "iopub.status.idle": "2022-11-21T07:51:03.767831Z",
     "shell.execute_reply": "2022-11-21T07:51:03.766480Z"
    },
    "papermill": {
     "duration": 0.046582,
     "end_time": "2022-11-21T07:51:03.769665",
     "exception": false,
     "start_time": "2022-11-21T07:51:03.723083",
     "status": "completed"
    },
    "tags": []
   },
   "outputs": [
    {
     "data": {
      "text/plain": [
       " PyCharm     6099\n",
       "Name: Q13_5, dtype: int64"
      ]
     },
     "execution_count": 63,
     "metadata": {},
     "output_type": "execute_result"
    }
   ],
   "source": [
    "pycharm = df_kaggle_22['Q13_5'].value_counts()[:1]\n",
    "pycharm"
   ]
  },
  {
   "cell_type": "code",
   "execution_count": 64,
   "id": "b096f601",
   "metadata": {
    "execution": {
     "iopub.execute_input": "2022-11-21T07:51:03.839965Z",
     "iopub.status.busy": "2022-11-21T07:51:03.839568Z",
     "iopub.status.idle": "2022-11-21T07:51:03.848836Z",
     "shell.execute_reply": "2022-11-21T07:51:03.847758Z"
    },
    "papermill": {
     "duration": 0.047515,
     "end_time": "2022-11-21T07:51:03.851007",
     "exception": false,
     "start_time": "2022-11-21T07:51:03.803492",
     "status": "completed"
    },
    "tags": []
   },
   "outputs": [
    {
     "data": {
      "text/plain": [
       "  Sublime Text      2218\n",
       "Name: Q13_8, dtype: int64"
      ]
     },
     "execution_count": 64,
     "metadata": {},
     "output_type": "execute_result"
    }
   ],
   "source": [
    "sublime_text = df_kaggle_22['Q13_8'].value_counts()[:1]\n",
    "sublime_text"
   ]
  },
  {
   "cell_type": "code",
   "execution_count": 65,
   "id": "5086f7cb",
   "metadata": {
    "execution": {
     "iopub.execute_input": "2022-11-21T07:51:03.925002Z",
     "iopub.status.busy": "2022-11-21T07:51:03.924641Z",
     "iopub.status.idle": "2022-11-21T07:51:03.934858Z",
     "shell.execute_reply": "2022-11-21T07:51:03.933474Z"
    },
    "papermill": {
     "duration": 0.049444,
     "end_time": "2022-11-21T07:51:03.936887",
     "exception": false,
     "start_time": "2022-11-21T07:51:03.887443",
     "status": "completed"
    },
    "tags": []
   },
   "outputs": [
    {
     "data": {
      "text/plain": [
       " Jupyter Notebook    13684\n",
       "Name: Q13_11, dtype: int64"
      ]
     },
     "execution_count": 65,
     "metadata": {},
     "output_type": "execute_result"
    }
   ],
   "source": [
    "jupyter_notebook = df_kaggle_22['Q13_11'].value_counts()[:1]\n",
    "jupyter_notebook"
   ]
  },
  {
   "cell_type": "code",
   "execution_count": 66,
   "id": "19f01652",
   "metadata": {
    "execution": {
     "iopub.execute_input": "2022-11-21T07:51:04.009850Z",
     "iopub.status.busy": "2022-11-21T07:51:04.009498Z",
     "iopub.status.idle": "2022-11-21T07:51:04.020057Z",
     "shell.execute_reply": "2022-11-21T07:51:04.019085Z"
    },
    "papermill": {
     "duration": 0.050304,
     "end_time": "2022-11-21T07:51:04.022379",
     "exception": false,
     "start_time": "2022-11-21T07:51:03.972075",
     "status": "completed"
    },
    "tags": []
   },
   "outputs": [
    {
     "data": {
      "text/plain": [
       "JupyterLab                        4887.0\n",
       " RStudio                          3824.0\n",
       " Visual Studio                    4416.0\n",
       " Visual Studio Code (VSCode)      9976.0\n",
       " PyCharm                          6099.0\n",
       "  Sublime Text                    2218.0\n",
       " Jupyter Notebook                13684.0\n",
       "dtype: float64"
      ]
     },
     "execution_count": 66,
     "metadata": {},
     "output_type": "execute_result"
    }
   ],
   "source": [
    "ides = pd.DataFrame([jupyterlab,rstudio, visual_studio, visual_studio_code,pycharm, sublime_text, jupyter_notebook]).sum()\n",
    "ides"
   ]
  },
  {
   "cell_type": "code",
   "execution_count": 67,
   "id": "f8d081b3",
   "metadata": {
    "execution": {
     "iopub.execute_input": "2022-11-21T07:51:04.094158Z",
     "iopub.status.busy": "2022-11-21T07:51:04.093807Z",
     "iopub.status.idle": "2022-11-21T07:51:04.308097Z",
     "shell.execute_reply": "2022-11-21T07:51:04.306159Z"
    },
    "papermill": {
     "duration": 0.252348,
     "end_time": "2022-11-21T07:51:04.310355",
     "exception": false,
     "start_time": "2022-11-21T07:51:04.058007",
     "status": "completed"
    },
    "tags": []
   },
   "outputs": [
    {
     "data": {
      "image/png": "[encoded data removed]",
      "text/plain": [
       "<Figure size 1080x576 with 1 Axes>"
      ]
     },
     "metadata": {},
     "output_type": "display_data"
    }
   ],
   "source": [
    "#Top Integrated Development Environments \n",
    "fig, ax = plt.subplots(figsize=(15,8))\n",
    "sns.set_style(\"ticks\")\n",
    "# ax.set_ylim([0,20])\n",
    "ax.set_ylabel(\"Number of Participants\")\n",
    "ax.set_title(\"Top Integrated Development Environments (IDE)\")\n",
    "plt.xticks(rotation=45)\n",
    "sns.barplot( x = ides.index, y = ides, orient='v');\n",
    "plt.show()"
   ]
  },
  {
   "cell_type": "markdown",
   "id": "f8bce7ff",
   "metadata": {
    "papermill": {
     "duration": 0.040254,
     "end_time": "2022-11-21T07:51:04.386817",
     "exception": false,
     "start_time": "2022-11-21T07:51:04.346563",
     "status": "completed"
    },
    "tags": []
   },
   "source": [
    "### so Jupyternotebook and VSCode is the most use IDE  "
   ]
  },
  {
   "cell_type": "markdown",
   "id": "0b987c44",
   "metadata": {
    "papermill": {
     "duration": 0.037286,
     "end_time": "2022-11-21T07:51:04.462221",
     "exception": false,
     "start_time": "2022-11-21T07:51:04.424935",
     "status": "completed"
    },
    "tags": []
   },
   "source": [
    "# For how many years have you used machine learning methods?"
   ]
  },
  {
   "cell_type": "code",
   "execution_count": 68,
   "id": "b798b0cd",
   "metadata": {
    "execution": {
     "iopub.execute_input": "2022-11-21T07:51:04.536335Z",
     "iopub.status.busy": "2022-11-21T07:51:04.535908Z",
     "iopub.status.idle": "2022-11-21T07:51:04.542734Z",
     "shell.execute_reply": "2022-11-21T07:51:04.541419Z"
    },
    "papermill": {
     "duration": 0.046959,
     "end_time": "2022-11-21T07:51:04.545181",
     "exception": false,
     "start_time": "2022-11-21T07:51:04.498222",
     "status": "completed"
    },
    "tags": []
   },
   "outputs": [],
   "source": [
    "ml_exp = df_kaggle_22['Q16'].value_counts()"
   ]
  },
  {
   "cell_type": "code",
   "execution_count": 69,
   "id": "bc897d79",
   "metadata": {
    "execution": {
     "iopub.execute_input": "2022-11-21T07:51:04.617947Z",
     "iopub.status.busy": "2022-11-21T07:51:04.617611Z",
     "iopub.status.idle": "2022-11-21T07:51:04.624323Z",
     "shell.execute_reply": "2022-11-21T07:51:04.623430Z"
    },
    "papermill": {
     "duration": 0.045965,
     "end_time": "2022-11-21T07:51:04.626620",
     "exception": false,
     "start_time": "2022-11-21T07:51:04.580655",
     "status": "completed"
    },
    "tags": []
   },
   "outputs": [
    {
     "data": {
      "text/plain": [
       "Under 1 year                                                  7221\n",
       "1-2 years                                                     3720\n",
       "I do not use machine learning methods                         3419\n",
       "2-3 years                                                     1947\n",
       "5-10 years                                                    1090\n",
       "3-4 years                                                     1053\n",
       "4-5 years                                                      950\n",
       "10-20 years                                                    483\n",
       "20 or more years                                                 3\n",
       "For how many years have you used machine learning methods?       1\n",
       "Name: Q16, dtype: int64"
      ]
     },
     "execution_count": 69,
     "metadata": {},
     "output_type": "execute_result"
    }
   ],
   "source": [
    "ml_exp"
   ]
  },
  {
   "cell_type": "code",
   "execution_count": 70,
   "id": "75d95b88",
   "metadata": {
    "execution": {
     "iopub.execute_input": "2022-11-21T07:51:04.700214Z",
     "iopub.status.busy": "2022-11-21T07:51:04.699873Z",
     "iopub.status.idle": "2022-11-21T07:51:04.710598Z",
     "shell.execute_reply": "2022-11-21T07:51:04.709113Z"
    },
    "papermill": {
     "duration": 0.049382,
     "end_time": "2022-11-21T07:51:04.713267",
     "exception": false,
     "start_time": "2022-11-21T07:51:04.663885",
     "status": "completed"
    },
    "tags": []
   },
   "outputs": [
    {
     "data": {
      "text/html": [
       "<div>\n",
       "<style scoped>\n",
       "    .dataframe tbody tr th:only-of-type {\n",
       "        vertical-align: middle;\n",
       "    }\n",
       "\n",
       "    .dataframe tbody tr th {\n",
       "        vertical-align: top;\n",
       "    }\n",
       "\n",
       "    .dataframe thead th {\n",
       "        text-align: right;\n",
       "    }\n",
       "</style>\n",
       "<table border=\"1\" class=\"dataframe\">\n",
       "  <thead>\n",
       "    <tr style=\"text-align: right;\">\n",
       "      <th></th>\n",
       "      <th>Total_nums</th>\n",
       "    </tr>\n",
       "  </thead>\n",
       "  <tbody>\n",
       "    <tr>\n",
       "      <th>Under 1 year</th>\n",
       "      <td>7221</td>\n",
       "    </tr>\n",
       "    <tr>\n",
       "      <th>1-2 years</th>\n",
       "      <td>3720</td>\n",
       "    </tr>\n",
       "    <tr>\n",
       "      <th>I do not use machine learning methods</th>\n",
       "      <td>3419</td>\n",
       "    </tr>\n",
       "    <tr>\n",
       "      <th>2-3 years</th>\n",
       "      <td>1947</td>\n",
       "    </tr>\n",
       "    <tr>\n",
       "      <th>5-10 years</th>\n",
       "      <td>1090</td>\n",
       "    </tr>\n",
       "    <tr>\n",
       "      <th>3-4 years</th>\n",
       "      <td>1053</td>\n",
       "    </tr>\n",
       "    <tr>\n",
       "      <th>4-5 years</th>\n",
       "      <td>950</td>\n",
       "    </tr>\n",
       "    <tr>\n",
       "      <th>10-20 years</th>\n",
       "      <td>483</td>\n",
       "    </tr>\n",
       "    <tr>\n",
       "      <th>20 or more years</th>\n",
       "      <td>3</td>\n",
       "    </tr>\n",
       "  </tbody>\n",
       "</table>\n",
       "</div>"
      ],
      "text/plain": [
       "                                       Total_nums\n",
       "Under 1 year                                 7221\n",
       "1-2 years                                    3720\n",
       "I do not use machine learning methods        3419\n",
       "2-3 years                                    1947\n",
       "5-10 years                                   1090\n",
       "3-4 years                                    1053\n",
       "4-5 years                                     950\n",
       "10-20 years                                   483\n",
       "20 or more years                                3"
      ]
     },
     "execution_count": 70,
     "metadata": {},
     "output_type": "execute_result"
    }
   ],
   "source": [
    "ml_exp_data_frame = pd.DataFrame(ml_exp)[:-1]\n",
    "ml = ml_exp_data_frame.rename(columns= {'Q16' : 'Total_nums'})\n",
    "ml"
   ]
  },
  {
   "cell_type": "markdown",
   "id": "1a9c9afd",
   "metadata": {
    "papermill": {
     "duration": 0.035199,
     "end_time": "2022-11-21T07:51:04.784831",
     "exception": false,
     "start_time": "2022-11-21T07:51:04.749632",
     "status": "completed"
    },
    "tags": []
   },
   "source": [
    "# Which of the following machine learning frameworks do you use on a regular basis?\n",
    "- Scikit-learn\n",
    "- TensorFlow\n",
    "- Keras\n",
    "- PyTorch\n",
    "- fast.ai\n",
    "- Xgboost\n",
    "- Caret\n",
    "- Jax"
   ]
  },
  {
   "cell_type": "code",
   "execution_count": 71,
   "id": "0a0be9fc",
   "metadata": {
    "execution": {
     "iopub.execute_input": "2022-11-21T07:51:04.857626Z",
     "iopub.status.busy": "2022-11-21T07:51:04.857284Z",
     "iopub.status.idle": "2022-11-21T07:51:04.867533Z",
     "shell.execute_reply": "2022-11-21T07:51:04.865607Z"
    },
    "papermill": {
     "duration": 0.049603,
     "end_time": "2022-11-21T07:51:04.870184",
     "exception": false,
     "start_time": "2022-11-21T07:51:04.820581",
     "status": "completed"
    },
    "tags": []
   },
   "outputs": [
    {
     "data": {
      "text/plain": [
       "  Scikit-learn     11403\n",
       "Name: Q17_1, dtype: int64"
      ]
     },
     "execution_count": 71,
     "metadata": {},
     "output_type": "execute_result"
    }
   ],
   "source": [
    "sckit_learn = df_kaggle_22['Q17_1'].value_counts()[:1]\n",
    "sckit_learn"
   ]
  },
  {
   "cell_type": "code",
   "execution_count": 72,
   "id": "01b0d895",
   "metadata": {
    "execution": {
     "iopub.execute_input": "2022-11-21T07:51:04.942253Z",
     "iopub.status.busy": "2022-11-21T07:51:04.941896Z",
     "iopub.status.idle": "2022-11-21T07:51:04.951106Z",
     "shell.execute_reply": "2022-11-21T07:51:04.950406Z"
    },
    "papermill": {
     "duration": 0.047778,
     "end_time": "2022-11-21T07:51:04.953124",
     "exception": false,
     "start_time": "2022-11-21T07:51:04.905346",
     "status": "completed"
    },
    "tags": []
   },
   "outputs": [
    {
     "data": {
      "text/plain": [
       "  TensorFlow     7953\n",
       "Name: Q17_2, dtype: int64"
      ]
     },
     "execution_count": 72,
     "metadata": {},
     "output_type": "execute_result"
    }
   ],
   "source": [
    "tensor_flow = df_kaggle_22['Q17_2'].value_counts()[:1]\n",
    "tensor_flow"
   ]
  },
  {
   "cell_type": "code",
   "execution_count": 73,
   "id": "96ffe4fe",
   "metadata": {
    "execution": {
     "iopub.execute_input": "2022-11-21T07:51:05.024256Z",
     "iopub.status.busy": "2022-11-21T07:51:05.023903Z",
     "iopub.status.idle": "2022-11-21T07:51:05.033845Z",
     "shell.execute_reply": "2022-11-21T07:51:05.032405Z"
    },
    "papermill": {
     "duration": 0.048113,
     "end_time": "2022-11-21T07:51:05.036203",
     "exception": false,
     "start_time": "2022-11-21T07:51:04.988090",
     "status": "completed"
    },
    "tags": []
   },
   "outputs": [
    {
     "data": {
      "text/plain": [
       " Keras     6575\n",
       "Name: Q17_3, dtype: int64"
      ]
     },
     "execution_count": 73,
     "metadata": {},
     "output_type": "execute_result"
    }
   ],
   "source": [
    "keras = df_kaggle_22['Q17_3'].value_counts()[:1]\n",
    "keras"
   ]
  },
  {
   "cell_type": "code",
   "execution_count": 74,
   "id": "bbdb3b33",
   "metadata": {
    "execution": {
     "iopub.execute_input": "2022-11-21T07:51:05.113784Z",
     "iopub.status.busy": "2022-11-21T07:51:05.113453Z",
     "iopub.status.idle": "2022-11-21T07:51:05.121740Z",
     "shell.execute_reply": "2022-11-21T07:51:05.120728Z"
    },
    "papermill": {
     "duration": 0.049823,
     "end_time": "2022-11-21T07:51:05.123598",
     "exception": false,
     "start_time": "2022-11-21T07:51:05.073775",
     "status": "completed"
    },
    "tags": []
   },
   "outputs": [
    {
     "data": {
      "text/plain": [
       " PyTorch     5191\n",
       "Name: Q17_4, dtype: int64"
      ]
     },
     "execution_count": 74,
     "metadata": {},
     "output_type": "execute_result"
    }
   ],
   "source": [
    "pytorch = df_kaggle_22['Q17_4'].value_counts()[:1]\n",
    "pytorch"
   ]
  },
  {
   "cell_type": "code",
   "execution_count": 75,
   "id": "bcd2395f",
   "metadata": {
    "execution": {
     "iopub.execute_input": "2022-11-21T07:51:05.200813Z",
     "iopub.status.busy": "2022-11-21T07:51:05.200468Z",
     "iopub.status.idle": "2022-11-21T07:51:05.210716Z",
     "shell.execute_reply": "2022-11-21T07:51:05.209010Z"
    },
    "papermill": {
     "duration": 0.051842,
     "end_time": "2022-11-21T07:51:05.213012",
     "exception": false,
     "start_time": "2022-11-21T07:51:05.161170",
     "status": "completed"
    },
    "tags": []
   },
   "outputs": [
    {
     "data": {
      "text/plain": [
       " Fast.ai     648\n",
       "Name: Q17_5, dtype: int64"
      ]
     },
     "execution_count": 75,
     "metadata": {},
     "output_type": "execute_result"
    }
   ],
   "source": [
    "fast_ai = df_kaggle_22['Q17_5'].value_counts()[:1]\n",
    "fast_ai"
   ]
  },
  {
   "cell_type": "code",
   "execution_count": 76,
   "id": "15aaa1a3",
   "metadata": {
    "execution": {
     "iopub.execute_input": "2022-11-21T07:51:05.289342Z",
     "iopub.status.busy": "2022-11-21T07:51:05.288951Z",
     "iopub.status.idle": "2022-11-21T07:51:05.299338Z",
     "shell.execute_reply": "2022-11-21T07:51:05.297380Z"
    },
    "papermill": {
     "duration": 0.051022,
     "end_time": "2022-11-21T07:51:05.301319",
     "exception": false,
     "start_time": "2022-11-21T07:51:05.250297",
     "status": "completed"
    },
    "tags": []
   },
   "outputs": [
    {
     "data": {
      "text/plain": [
       " Xgboost     4477\n",
       "Name: Q17_6, dtype: int64"
      ]
     },
     "execution_count": 76,
     "metadata": {},
     "output_type": "execute_result"
    }
   ],
   "source": [
    "xgboost = df_kaggle_22['Q17_6'].value_counts()[:1]\n",
    "xgboost"
   ]
  },
  {
   "cell_type": "code",
   "execution_count": 77,
   "id": "30609959",
   "metadata": {
    "execution": {
     "iopub.execute_input": "2022-11-21T07:51:05.376927Z",
     "iopub.status.busy": "2022-11-21T07:51:05.376597Z",
     "iopub.status.idle": "2022-11-21T07:51:05.384092Z",
     "shell.execute_reply": "2022-11-21T07:51:05.383454Z"
    },
    "papermill": {
     "duration": 0.046138,
     "end_time": "2022-11-21T07:51:05.385513",
     "exception": false,
     "start_time": "2022-11-21T07:51:05.339375",
     "status": "completed"
    },
    "tags": []
   },
   "outputs": [
    {
     "data": {
      "text/plain": [
       " Caret     821\n",
       "Name: Q17_9, dtype: int64"
      ]
     },
     "execution_count": 77,
     "metadata": {},
     "output_type": "execute_result"
    }
   ],
   "source": [
    "caret = df_kaggle_22['Q17_9'].value_counts()[:1]\n",
    "caret"
   ]
  },
  {
   "cell_type": "code",
   "execution_count": 78,
   "id": "1119fd43",
   "metadata": {
    "execution": {
     "iopub.execute_input": "2022-11-21T07:51:05.460128Z",
     "iopub.status.busy": "2022-11-21T07:51:05.459780Z",
     "iopub.status.idle": "2022-11-21T07:51:05.469567Z",
     "shell.execute_reply": "2022-11-21T07:51:05.467865Z"
    },
    "papermill": {
     "duration": 0.04966,
     "end_time": "2022-11-21T07:51:05.472216",
     "exception": false,
     "start_time": "2022-11-21T07:51:05.422556",
     "status": "completed"
    },
    "tags": []
   },
   "outputs": [
    {
     "data": {
      "text/plain": [
       " JAX     252\n",
       "Name: Q17_11, dtype: int64"
      ]
     },
     "execution_count": 78,
     "metadata": {},
     "output_type": "execute_result"
    }
   ],
   "source": [
    "jax = df_kaggle_22['Q17_11'].value_counts()[:1]\n",
    "jax"
   ]
  },
  {
   "cell_type": "code",
   "execution_count": 79,
   "id": "c62fe150",
   "metadata": {
    "execution": {
     "iopub.execute_input": "2022-11-21T07:51:05.547558Z",
     "iopub.status.busy": "2022-11-21T07:51:05.547229Z",
     "iopub.status.idle": "2022-11-21T07:51:05.559338Z",
     "shell.execute_reply": "2022-11-21T07:51:05.557087Z"
    },
    "papermill": {
     "duration": 0.052421,
     "end_time": "2022-11-21T07:51:05.561890",
     "exception": false,
     "start_time": "2022-11-21T07:51:05.509469",
     "status": "completed"
    },
    "tags": []
   },
   "outputs": [
    {
     "data": {
      "text/plain": [
       "  Scikit-learn     11403.0\n",
       "  TensorFlow        7953.0\n",
       " Keras              6575.0\n",
       " Fast.ai             648.0\n",
       " Xgboost            4477.0\n",
       " PyTorch            5191.0\n",
       " Caret               821.0\n",
       " JAX                 252.0\n",
       "dtype: float64"
      ]
     },
     "execution_count": 79,
     "metadata": {},
     "output_type": "execute_result"
    }
   ],
   "source": [
    "machine_learning_libraries = pd.DataFrame([sckit_learn, tensor_flow, keras,fast_ai, xgboost, pytorch, caret, jax]).sum()\n",
    "machine_learning_libraries"
   ]
  },
  {
   "cell_type": "code",
   "execution_count": 80,
   "id": "ec4fa0e7",
   "metadata": {
    "execution": {
     "iopub.execute_input": "2022-11-21T07:51:05.638809Z",
     "iopub.status.busy": "2022-11-21T07:51:05.638501Z",
     "iopub.status.idle": "2022-11-21T07:51:05.826070Z",
     "shell.execute_reply": "2022-11-21T07:51:05.824639Z"
    },
    "papermill": {
     "duration": 0.2298,
     "end_time": "2022-11-21T07:51:05.829057",
     "exception": false,
     "start_time": "2022-11-21T07:51:05.599257",
     "status": "completed"
    },
    "tags": []
   },
   "outputs": [
    {
     "data": {
      "image/png": "[encoded data removed]",
      "text/plain": [
       "<Figure size 1080x576 with 1 Axes>"
      ]
     },
     "metadata": {},
     "output_type": "display_data"
    }
   ],
   "source": [
    "#Top Mchine Learning Libraries\n",
    "fig, ax = plt.subplots(figsize=(15,8))\n",
    "# ax.set_ylim([0,20])\n",
    "ax.set_ylabel(\"Number of Participants\")\n",
    "ax.set_title(\"Top Machine Learning Libraries\")\n",
    "plt.xticks(rotation=70)\n",
    "sns.barplot( y = machine_learning_libraries, x = machine_learning_libraries.index, orient='v')\n",
    "plt.show();"
   ]
  },
  {
   "cell_type": "markdown",
   "id": "5c8c0046",
   "metadata": {
    "papermill": {
     "duration": 0.037641,
     "end_time": "2022-11-21T07:51:05.903126",
     "exception": false,
     "start_time": "2022-11-21T07:51:05.865485",
     "status": "completed"
    },
    "tags": []
   },
   "source": [
    "### Scikit-learn is the most used library of Machine Learning"
   ]
  },
  {
   "cell_type": "markdown",
   "id": "3fa30514",
   "metadata": {
    "papermill": {
     "duration": 0.038082,
     "end_time": "2022-11-21T07:51:05.979037",
     "exception": false,
     "start_time": "2022-11-21T07:51:05.940955",
     "status": "completed"
    },
    "tags": []
   },
   "source": [
    "# Which of the following ML algorithms do you use on a regular basis?\n",
    "- Linear or Logistic Regression\n",
    "- Decision Trees or Random Forests\n",
    "- Gradient Boosting Machines (xgboost, lightgbm, etc)\n",
    "- Bayesian Approaches\n",
    "- Evolutionary Approaches\n",
    "- Dense Neural Networks (MLPs, etc)\n",
    "- Convolutional Neural Networks\n",
    "- Generative Adversarial Networks"
   ]
  },
  {
   "cell_type": "code",
   "execution_count": 81,
   "id": "306bb7c0",
   "metadata": {
    "execution": {
     "iopub.execute_input": "2022-11-21T07:51:06.058676Z",
     "iopub.status.busy": "2022-11-21T07:51:06.058317Z",
     "iopub.status.idle": "2022-11-21T07:51:06.070124Z",
     "shell.execute_reply": "2022-11-21T07:51:06.068115Z"
    },
    "papermill": {
     "duration": 0.055706,
     "end_time": "2022-11-21T07:51:06.072578",
     "exception": false,
     "start_time": "2022-11-21T07:51:06.016872",
     "status": "completed"
    },
    "tags": []
   },
   "outputs": [
    {
     "data": {
      "text/plain": [
       "Linear or Logistic Regression    11338\n",
       "Name: Q18_1, dtype: int64"
      ]
     },
     "execution_count": 81,
     "metadata": {},
     "output_type": "execute_result"
    }
   ],
   "source": [
    "lg = df_kaggle_22['Q18_1'].value_counts()[:1]\n",
    "lg"
   ]
  },
  {
   "cell_type": "code",
   "execution_count": 82,
   "id": "dcadeb83",
   "metadata": {
    "execution": {
     "iopub.execute_input": "2022-11-21T07:51:06.149317Z",
     "iopub.status.busy": "2022-11-21T07:51:06.148919Z",
     "iopub.status.idle": "2022-11-21T07:51:06.158261Z",
     "shell.execute_reply": "2022-11-21T07:51:06.157124Z"
    },
    "papermill": {
     "duration": 0.050414,
     "end_time": "2022-11-21T07:51:06.160551",
     "exception": false,
     "start_time": "2022-11-21T07:51:06.110137",
     "status": "completed"
    },
    "tags": []
   },
   "outputs": [
    {
     "data": {
      "text/plain": [
       "Decision Trees or Random Forests    9373\n",
       "Name: Q18_2, dtype: int64"
      ]
     },
     "execution_count": 82,
     "metadata": {},
     "output_type": "execute_result"
    }
   ],
   "source": [
    "rm = df_kaggle_22['Q18_2'].value_counts()[:1]\n",
    "rm"
   ]
  },
  {
   "cell_type": "code",
   "execution_count": 83,
   "id": "0a995e80",
   "metadata": {
    "execution": {
     "iopub.execute_input": "2022-11-21T07:51:06.239226Z",
     "iopub.status.busy": "2022-11-21T07:51:06.238864Z",
     "iopub.status.idle": "2022-11-21T07:51:06.247537Z",
     "shell.execute_reply": "2022-11-21T07:51:06.246263Z"
    },
    "papermill": {
     "duration": 0.050199,
     "end_time": "2022-11-21T07:51:06.249563",
     "exception": false,
     "start_time": "2022-11-21T07:51:06.199364",
     "status": "completed"
    },
    "tags": []
   },
   "outputs": [
    {
     "data": {
      "text/plain": [
       "Gradient Boosting Machines (xgboost, lightgbm, etc)    5506\n",
       "Name: Q18_3, dtype: int64"
      ]
     },
     "execution_count": 83,
     "metadata": {},
     "output_type": "execute_result"
    }
   ],
   "source": [
    "gb = df_kaggle_22['Q18_3'].value_counts()[:1]\n",
    "gb"
   ]
  },
  {
   "cell_type": "code",
   "execution_count": 84,
   "id": "1c7de949",
   "metadata": {
    "execution": {
     "iopub.execute_input": "2022-11-21T07:51:06.329510Z",
     "iopub.status.busy": "2022-11-21T07:51:06.329105Z",
     "iopub.status.idle": "2022-11-21T07:51:06.336657Z",
     "shell.execute_reply": "2022-11-21T07:51:06.336087Z"
    },
    "papermill": {
     "duration": 0.050904,
     "end_time": "2022-11-21T07:51:06.338285",
     "exception": false,
     "start_time": "2022-11-21T07:51:06.287381",
     "status": "completed"
    },
    "tags": []
   },
   "outputs": [
    {
     "data": {
      "text/plain": [
       "Bayesian Approaches    3661\n",
       "Name: Q18_4, dtype: int64"
      ]
     },
     "execution_count": 84,
     "metadata": {},
     "output_type": "execute_result"
    }
   ],
   "source": [
    "ba = df_kaggle_22['Q18_4'].value_counts()[:1]\n",
    "ba"
   ]
  },
  {
   "cell_type": "code",
   "execution_count": 85,
   "id": "d30900c6",
   "metadata": {
    "execution": {
     "iopub.execute_input": "2022-11-21T07:51:06.417503Z",
     "iopub.status.busy": "2022-11-21T07:51:06.417160Z",
     "iopub.status.idle": "2022-11-21T07:51:06.427526Z",
     "shell.execute_reply": "2022-11-21T07:51:06.426488Z"
    },
    "papermill": {
     "duration": 0.052715,
     "end_time": "2022-11-21T07:51:06.429610",
     "exception": false,
     "start_time": "2022-11-21T07:51:06.376895",
     "status": "completed"
    },
    "tags": []
   },
   "outputs": [
    {
     "data": {
      "text/plain": [
       "Evolutionary Approaches    823\n",
       "Name: Q18_5, dtype: int64"
      ]
     },
     "execution_count": 85,
     "metadata": {},
     "output_type": "execute_result"
    }
   ],
   "source": [
    "ea = df_kaggle_22['Q18_5'].value_counts()[:1]\n",
    "ea"
   ]
  },
  {
   "cell_type": "code",
   "execution_count": 86,
   "id": "b80e06dc",
   "metadata": {
    "execution": {
     "iopub.execute_input": "2022-11-21T07:51:06.509638Z",
     "iopub.status.busy": "2022-11-21T07:51:06.508499Z",
     "iopub.status.idle": "2022-11-21T07:51:06.518225Z",
     "shell.execute_reply": "2022-11-21T07:51:06.517027Z"
    },
    "papermill": {
     "duration": 0.053237,
     "end_time": "2022-11-21T07:51:06.520760",
     "exception": false,
     "start_time": "2022-11-21T07:51:06.467523",
     "status": "completed"
    },
    "tags": []
   },
   "outputs": [
    {
     "data": {
      "text/plain": [
       "Dense Neural Networks (MLPs, etc)    3476\n",
       "Name: Q18_6, dtype: int64"
      ]
     },
     "execution_count": 86,
     "metadata": {},
     "output_type": "execute_result"
    }
   ],
   "source": [
    "dnn = df_kaggle_22['Q18_6'].value_counts()[:1]\n",
    "dnn"
   ]
  },
  {
   "cell_type": "code",
   "execution_count": 87,
   "id": "263cedd8",
   "metadata": {
    "execution": {
     "iopub.execute_input": "2022-11-21T07:51:06.600150Z",
     "iopub.status.busy": "2022-11-21T07:51:06.599798Z",
     "iopub.status.idle": "2022-11-21T07:51:06.609449Z",
     "shell.execute_reply": "2022-11-21T07:51:06.608175Z"
    },
    "papermill": {
     "duration": 0.051969,
     "end_time": "2022-11-21T07:51:06.611177",
     "exception": false,
     "start_time": "2022-11-21T07:51:06.559208",
     "status": "completed"
    },
    "tags": []
   },
   "outputs": [
    {
     "data": {
      "text/plain": [
       "Convolutional Neural Networks    6006\n",
       "Name: Q18_7, dtype: int64"
      ]
     },
     "execution_count": 87,
     "metadata": {},
     "output_type": "execute_result"
    }
   ],
   "source": [
    "cnn = df_kaggle_22['Q18_7'].value_counts()[:1]\n",
    "cnn"
   ]
  },
  {
   "cell_type": "code",
   "execution_count": 88,
   "id": "d2f1232a",
   "metadata": {
    "execution": {
     "iopub.execute_input": "2022-11-21T07:51:06.692245Z",
     "iopub.status.busy": "2022-11-21T07:51:06.691896Z",
     "iopub.status.idle": "2022-11-21T07:51:06.700327Z",
     "shell.execute_reply": "2022-11-21T07:51:06.699384Z"
    },
    "papermill": {
     "duration": 0.050935,
     "end_time": "2022-11-21T07:51:06.702236",
     "exception": false,
     "start_time": "2022-11-21T07:51:06.651301",
     "status": "completed"
    },
    "tags": []
   },
   "outputs": [
    {
     "data": {
      "text/plain": [
       "Generative Adversarial Networks    1166\n",
       "Name: Q18_8, dtype: int64"
      ]
     },
     "execution_count": 88,
     "metadata": {},
     "output_type": "execute_result"
    }
   ],
   "source": [
    "gan = df_kaggle_22['Q18_8'].value_counts()[:1]\n",
    "gan"
   ]
  },
  {
   "cell_type": "code",
   "execution_count": 89,
   "id": "7983fad7",
   "metadata": {
    "execution": {
     "iopub.execute_input": "2022-11-21T07:51:06.781185Z",
     "iopub.status.busy": "2022-11-21T07:51:06.780834Z",
     "iopub.status.idle": "2022-11-21T07:51:06.792001Z",
     "shell.execute_reply": "2022-11-21T07:51:06.790555Z"
    },
    "papermill": {
     "duration": 0.053006,
     "end_time": "2022-11-21T07:51:06.794394",
     "exception": false,
     "start_time": "2022-11-21T07:51:06.741388",
     "status": "completed"
    },
    "tags": []
   },
   "outputs": [
    {
     "data": {
      "text/plain": [
       "Linear or Logistic Regression                          11338.0\n",
       "Decision Trees or Random Forests                        9373.0\n",
       "Gradient Boosting Machines (xgboost, lightgbm, etc)     5506.0\n",
       "Generative Adversarial Networks                         2332.0\n",
       "Convolutional Neural Networks                           6006.0\n",
       "Bayesian Approaches                                     3661.0\n",
       "Dense Neural Networks (MLPs, etc)                       3476.0\n",
       "dtype: float64"
      ]
     },
     "execution_count": 89,
     "metadata": {},
     "output_type": "execute_result"
    }
   ],
   "source": [
    "ml_algorithms = pd.DataFrame([lg,rm,gb,gan,cnn,gan,ba,dnn]).sum()\n",
    "ml_algorithms"
   ]
  },
  {
   "cell_type": "code",
   "execution_count": 90,
   "id": "641ee2bb",
   "metadata": {
    "execution": {
     "iopub.execute_input": "2022-11-21T07:51:06.871380Z",
     "iopub.status.busy": "2022-11-21T07:51:06.871027Z",
     "iopub.status.idle": "2022-11-21T07:51:07.085681Z",
     "shell.execute_reply": "2022-11-21T07:51:07.084599Z"
    },
    "papermill": {
     "duration": 0.254957,
     "end_time": "2022-11-21T07:51:07.087391",
     "exception": false,
     "start_time": "2022-11-21T07:51:06.832434",
     "status": "completed"
    },
    "tags": []
   },
   "outputs": [
    {
     "data": {
      "image/png": "[encoded data removed]",
      "text/plain": [
       "<Figure size 1080x576 with 1 Axes>"
      ]
     },
     "metadata": {},
     "output_type": "display_data"
    }
   ],
   "source": [
    "#Top Mchine Learning Algorithms\n",
    "fig, ax = plt.subplots(figsize=(15,8))\n",
    "sns.set_style(\"ticks\")\n",
    "# ax.set_ylim([0,20])\n",
    "ax.set_ylabel(\"Number of Participants\")\n",
    "ax.set_title(\"Top Machine Learning Libraries\")\n",
    "ax.set_xlabel(\"Machine Learning Libraries\")\n",
    "plt.xticks(rotation=70)\n",
    "sns.barplot( y = ml_algorithms, x = ml_algorithms.index, orient='v')\n",
    "plt.show();"
   ]
  },
  {
   "cell_type": "markdown",
   "id": "266cbe5a",
   "metadata": {
    "papermill": {
     "duration": 0.039378,
     "end_time": "2022-11-21T07:51:07.166030",
     "exception": false,
     "start_time": "2022-11-21T07:51:07.126652",
     "status": "completed"
    },
    "tags": []
   },
   "source": [
    "# Select the title most similar to your current role (or most recent title if retired):"
   ]
  },
  {
   "cell_type": "code",
   "execution_count": 91,
   "id": "35987b36",
   "metadata": {
    "execution": {
     "iopub.execute_input": "2022-11-21T07:51:07.245484Z",
     "iopub.status.busy": "2022-11-21T07:51:07.245131Z",
     "iopub.status.idle": "2022-11-21T07:51:07.257961Z",
     "shell.execute_reply": "2022-11-21T07:51:07.256463Z"
    },
    "papermill": {
     "duration": 0.055316,
     "end_time": "2022-11-21T07:51:07.260506",
     "exception": false,
     "start_time": "2022-11-21T07:51:07.205190",
     "status": "completed"
    },
    "tags": []
   },
   "outputs": [
    {
     "data": {
      "text/plain": [
       "Data Scientist                                                      1929\n",
       "Data Analyst (Business, Marketing, Financial, Quantitative, etc)    1538\n",
       "Currently not employed                                              1432\n",
       "Software Engineer                                                    980\n",
       "Teacher / professor                                                  833\n",
       "Manager (Program, Project, Operations, Executive-level, etc)         832\n",
       "Other                                                                754\n",
       "Research Scientist                                                   593\n",
       "Machine Learning/ MLops Engineer                                     571\n",
       "Engineer (non-software)                                              465\n",
       "Data Engineer                                                        352\n",
       "Statistician                                                         125\n",
       "Data Architect                                                        95\n",
       "Data Administrator                                                    70\n",
       "Developer Advocate                                                    61\n",
       "Name: Q23, dtype: int64"
      ]
     },
     "execution_count": 91,
     "metadata": {},
     "output_type": "execute_result"
    }
   ],
   "source": [
    "role = df_kaggle_22[\"Q23\"].value_counts()[:-1]\n",
    "role"
   ]
  },
  {
   "cell_type": "code",
   "execution_count": 92,
   "id": "31506045",
   "metadata": {
    "execution": {
     "iopub.execute_input": "2022-11-21T07:51:07.343389Z",
     "iopub.status.busy": "2022-11-21T07:51:07.342808Z",
     "iopub.status.idle": "2022-11-21T07:51:07.356190Z",
     "shell.execute_reply": "2022-11-21T07:51:07.354939Z"
    },
    "papermill": {
     "duration": 0.059152,
     "end_time": "2022-11-21T07:51:07.358244",
     "exception": false,
     "start_time": "2022-11-21T07:51:07.299092",
     "status": "completed"
    },
    "tags": []
   },
   "outputs": [
    {
     "data": {
      "text/html": [
       "<div>\n",
       "<style scoped>\n",
       "    .dataframe tbody tr th:only-of-type {\n",
       "        vertical-align: middle;\n",
       "    }\n",
       "\n",
       "    .dataframe tbody tr th {\n",
       "        vertical-align: top;\n",
       "    }\n",
       "\n",
       "    .dataframe thead th {\n",
       "        text-align: right;\n",
       "    }\n",
       "</style>\n",
       "<table border=\"1\" class=\"dataframe\">\n",
       "  <thead>\n",
       "    <tr style=\"text-align: right;\">\n",
       "      <th></th>\n",
       "      <th>Data Scientist</th>\n",
       "      <th>Data Analyst (Business, Marketing, Financial, Quantitative, etc)</th>\n",
       "      <th>Currently not employed</th>\n",
       "      <th>Software Engineer</th>\n",
       "      <th>Teacher / professor</th>\n",
       "      <th>Manager (Program, Project, Operations, Executive-level, etc)</th>\n",
       "      <th>Other</th>\n",
       "      <th>Research Scientist</th>\n",
       "      <th>Machine Learning/ MLops Engineer</th>\n",
       "      <th>Engineer (non-software)</th>\n",
       "      <th>Data Engineer</th>\n",
       "      <th>Statistician</th>\n",
       "      <th>Data Architect</th>\n",
       "      <th>Data Administrator</th>\n",
       "      <th>Developer Advocate</th>\n",
       "    </tr>\n",
       "  </thead>\n",
       "  <tbody>\n",
       "    <tr>\n",
       "      <th>Q23</th>\n",
       "      <td>1929</td>\n",
       "      <td>1538</td>\n",
       "      <td>1432</td>\n",
       "      <td>980</td>\n",
       "      <td>833</td>\n",
       "      <td>832</td>\n",
       "      <td>754</td>\n",
       "      <td>593</td>\n",
       "      <td>571</td>\n",
       "      <td>465</td>\n",
       "      <td>352</td>\n",
       "      <td>125</td>\n",
       "      <td>95</td>\n",
       "      <td>70</td>\n",
       "      <td>61</td>\n",
       "    </tr>\n",
       "  </tbody>\n",
       "</table>\n",
       "</div>"
      ],
      "text/plain": [
       "     Data Scientist  \\\n",
       "Q23            1929   \n",
       "\n",
       "     Data Analyst (Business, Marketing, Financial, Quantitative, etc)  \\\n",
       "Q23                                               1538                  \n",
       "\n",
       "     Currently not employed  Software Engineer  Teacher / professor  \\\n",
       "Q23                    1432                980                  833   \n",
       "\n",
       "     Manager (Program, Project, Operations, Executive-level, etc)  Other  \\\n",
       "Q23                                                832               754   \n",
       "\n",
       "     Research Scientist  Machine Learning/ MLops Engineer  \\\n",
       "Q23                 593                               571   \n",
       "\n",
       "     Engineer (non-software)  Data Engineer  Statistician  Data Architect  \\\n",
       "Q23                      465            352           125              95   \n",
       "\n",
       "     Data Administrator  Developer Advocate  \n",
       "Q23                  70                  61  "
      ]
     },
     "execution_count": 92,
     "metadata": {},
     "output_type": "execute_result"
    }
   ],
   "source": [
    "titles_in_ai_world = pd.DataFrame([role])\n",
    "titles_in_ai_world"
   ]
  },
  {
   "cell_type": "markdown",
   "id": "bb7d6441",
   "metadata": {
    "papermill": {
     "duration": 0.038865,
     "end_time": "2022-11-21T07:51:07.436817",
     "exception": false,
     "start_time": "2022-11-21T07:51:07.397952",
     "status": "completed"
    },
    "tags": []
   },
   "source": [
    "# What is your current yearly compensation (approximate $USD)?"
   ]
  },
  {
   "cell_type": "code",
   "execution_count": 93,
   "id": "682fc4c4",
   "metadata": {
    "execution": {
     "iopub.execute_input": "2022-11-21T07:51:07.520706Z",
     "iopub.status.busy": "2022-11-21T07:51:07.519035Z",
     "iopub.status.idle": "2022-11-21T07:51:07.528359Z",
     "shell.execute_reply": "2022-11-21T07:51:07.527344Z"
    },
    "papermill": {
     "duration": 0.053377,
     "end_time": "2022-11-21T07:51:07.530571",
     "exception": false,
     "start_time": "2022-11-21T07:51:07.477194",
     "status": "completed"
    },
    "tags": []
   },
   "outputs": [
    {
     "data": {
      "text/plain": [
       "$0-999              1112\n",
       "10,000-14,999        493\n",
       "30,000-39,999        464\n",
       "1,000-1,999          444\n",
       "40,000-49,999        421\n",
       "100,000-124,999      404\n",
       "5,000-7,499          391\n",
       "50,000-59,999        366\n",
       "7,500-9,999          362\n",
       "150,000-199,999      342\n",
       "20,000-24,999        337\n",
       "60,000-69,999        318\n",
       "15,000-19,999        299\n",
       "70,000-79,999        289\n",
       "25,000-29,999        277\n",
       "2,000-2,999          271\n",
       "125,000-149,999      269\n",
       "3,000-3,999          244\n",
       "4,000-4,999          234\n",
       "80,000-89,999        222\n",
       "90,000-99,999        197\n",
       "200,000-249,999      155\n",
       "250,000-299,999       78\n",
       "300,000-499,999       76\n",
       "$500,000-999,999      48\n",
       ">$1,000,000           23\n",
       "Name: Q29, dtype: int64"
      ]
     },
     "execution_count": 93,
     "metadata": {},
     "output_type": "execute_result"
    }
   ],
   "source": [
    "yearly_salary = df_kaggle_22['Q29'].value_counts()[:-1]\n",
    "yearly_salary"
   ]
  },
  {
   "cell_type": "code",
   "execution_count": 94,
   "id": "6f2fb248",
   "metadata": {
    "execution": {
     "iopub.execute_input": "2022-11-21T07:51:07.614257Z",
     "iopub.status.busy": "2022-11-21T07:51:07.613624Z",
     "iopub.status.idle": "2022-11-21T07:51:07.917632Z",
     "shell.execute_reply": "2022-11-21T07:51:07.915898Z"
    },
    "papermill": {
     "duration": 0.348745,
     "end_time": "2022-11-21T07:51:07.920721",
     "exception": false,
     "start_time": "2022-11-21T07:51:07.571976",
     "status": "completed"
    },
    "tags": []
   },
   "outputs": [
    {
     "data": {
      "image/png": "[encoded data removed]",
      "text/plain": [
       "<Figure size 1080x576 with 1 Axes>"
      ]
     },
     "metadata": {},
     "output_type": "display_data"
    }
   ],
   "source": [
    "#Salary range\n",
    "fig, ax = plt.subplots(figsize=(15,8))\n",
    "sns.set_style(\"ticks\")\n",
    "# ax.set_ylim([0,20])\n",
    "ax.set_ylabel(\"Number of Participants\")\n",
    "ax.set_title(\"Salaries yearly\")\n",
    "ax.set_xlabel(\"Salary ranges\")\n",
    "plt.xticks(rotation=70)\n",
    "sns.barplot( y = yearly_salary, x = yearly_salary.index, orient='v')\n",
    "plt.show();"
   ]
  },
  {
   "cell_type": "markdown",
   "id": "94f6c3fe",
   "metadata": {
    "papermill": {
     "duration": 0.040315,
     "end_time": "2022-11-21T07:51:08.003375",
     "exception": false,
     "start_time": "2022-11-21T07:51:07.963060",
     "status": "completed"
    },
    "tags": []
   },
   "source": [
    "# Which of the following cloud computing platforms do you use? (Select all that apply)\n",
    "- AWS\n",
    "- Azure\n",
    "- GCP\n",
    "\n",
    "Compare these three famous plateforms\n"
   ]
  },
  {
   "cell_type": "code",
   "execution_count": 95,
   "id": "de9b3678",
   "metadata": {
    "execution": {
     "iopub.execute_input": "2022-11-21T07:51:08.096204Z",
     "iopub.status.busy": "2022-11-21T07:51:08.095825Z",
     "iopub.status.idle": "2022-11-21T07:51:08.108703Z",
     "shell.execute_reply": "2022-11-21T07:51:08.108093Z"
    },
    "papermill": {
     "duration": 0.060236,
     "end_time": "2022-11-21T07:51:08.110267",
     "exception": false,
     "start_time": "2022-11-21T07:51:08.050031",
     "status": "completed"
    },
    "tags": []
   },
   "outputs": [
    {
     "data": {
      "text/html": [
       "<div>\n",
       "<style scoped>\n",
       "    .dataframe tbody tr th:only-of-type {\n",
       "        vertical-align: middle;\n",
       "    }\n",
       "\n",
       "    .dataframe tbody tr th {\n",
       "        vertical-align: top;\n",
       "    }\n",
       "\n",
       "    .dataframe thead th {\n",
       "        text-align: right;\n",
       "    }\n",
       "</style>\n",
       "<table border=\"1\" class=\"dataframe\">\n",
       "  <thead>\n",
       "    <tr style=\"text-align: right;\">\n",
       "      <th></th>\n",
       "      <th>Q31_1</th>\n",
       "      <th>Q31_2</th>\n",
       "      <th>Q31_3</th>\n",
       "    </tr>\n",
       "  </thead>\n",
       "  <tbody>\n",
       "    <tr>\n",
       "      <th>0</th>\n",
       "      <td>Which of the following cloud computing platfor...</td>\n",
       "      <td>Which of the following cloud computing platfor...</td>\n",
       "      <td>Which of the following cloud computing platfor...</td>\n",
       "    </tr>\n",
       "    <tr>\n",
       "      <th>1</th>\n",
       "      <td>NaN</td>\n",
       "      <td>NaN</td>\n",
       "      <td>NaN</td>\n",
       "    </tr>\n",
       "    <tr>\n",
       "      <th>2</th>\n",
       "      <td>NaN</td>\n",
       "      <td>NaN</td>\n",
       "      <td>NaN</td>\n",
       "    </tr>\n",
       "    <tr>\n",
       "      <th>3</th>\n",
       "      <td>NaN</td>\n",
       "      <td>NaN</td>\n",
       "      <td>NaN</td>\n",
       "    </tr>\n",
       "    <tr>\n",
       "      <th>4</th>\n",
       "      <td>NaN</td>\n",
       "      <td>NaN</td>\n",
       "      <td>NaN</td>\n",
       "    </tr>\n",
       "    <tr>\n",
       "      <th>...</th>\n",
       "      <td>...</td>\n",
       "      <td>...</td>\n",
       "      <td>...</td>\n",
       "    </tr>\n",
       "    <tr>\n",
       "      <th>23993</th>\n",
       "      <td>NaN</td>\n",
       "      <td>NaN</td>\n",
       "      <td>NaN</td>\n",
       "    </tr>\n",
       "    <tr>\n",
       "      <th>23994</th>\n",
       "      <td>NaN</td>\n",
       "      <td>NaN</td>\n",
       "      <td>NaN</td>\n",
       "    </tr>\n",
       "    <tr>\n",
       "      <th>23995</th>\n",
       "      <td>NaN</td>\n",
       "      <td>Microsoft Azure</td>\n",
       "      <td>NaN</td>\n",
       "    </tr>\n",
       "    <tr>\n",
       "      <th>23996</th>\n",
       "      <td>NaN</td>\n",
       "      <td>NaN</td>\n",
       "      <td>NaN</td>\n",
       "    </tr>\n",
       "    <tr>\n",
       "      <th>23997</th>\n",
       "      <td>NaN</td>\n",
       "      <td>NaN</td>\n",
       "      <td>NaN</td>\n",
       "    </tr>\n",
       "  </tbody>\n",
       "</table>\n",
       "<p>23998 rows × 3 columns</p>\n",
       "</div>"
      ],
      "text/plain": [
       "                                                   Q31_1  \\\n",
       "0      Which of the following cloud computing platfor...   \n",
       "1                                                    NaN   \n",
       "2                                                    NaN   \n",
       "3                                                    NaN   \n",
       "4                                                    NaN   \n",
       "...                                                  ...   \n",
       "23993                                                NaN   \n",
       "23994                                                NaN   \n",
       "23995                                                NaN   \n",
       "23996                                                NaN   \n",
       "23997                                                NaN   \n",
       "\n",
       "                                                   Q31_2  \\\n",
       "0      Which of the following cloud computing platfor...   \n",
       "1                                                    NaN   \n",
       "2                                                    NaN   \n",
       "3                                                    NaN   \n",
       "4                                                    NaN   \n",
       "...                                                  ...   \n",
       "23993                                                NaN   \n",
       "23994                                                NaN   \n",
       "23995                                   Microsoft Azure    \n",
       "23996                                                NaN   \n",
       "23997                                                NaN   \n",
       "\n",
       "                                                   Q31_3  \n",
       "0      Which of the following cloud computing platfor...  \n",
       "1                                                    NaN  \n",
       "2                                                    NaN  \n",
       "3                                                    NaN  \n",
       "4                                                    NaN  \n",
       "...                                                  ...  \n",
       "23993                                                NaN  \n",
       "23994                                                NaN  \n",
       "23995                                                NaN  \n",
       "23996                                                NaN  \n",
       "23997                                                NaN  \n",
       "\n",
       "[23998 rows x 3 columns]"
      ]
     },
     "execution_count": 95,
     "metadata": {},
     "output_type": "execute_result"
    }
   ],
   "source": [
    "com_platforms = df_kaggle_22[['Q31_1', 'Q31_2','Q31_3']]\n",
    "com_platforms"
   ]
  },
  {
   "cell_type": "code",
   "execution_count": 96,
   "id": "b651d7e9",
   "metadata": {
    "execution": {
     "iopub.execute_input": "2022-11-21T07:51:08.197391Z",
     "iopub.status.busy": "2022-11-21T07:51:08.196009Z",
     "iopub.status.idle": "2022-11-21T07:51:08.204307Z",
     "shell.execute_reply": "2022-11-21T07:51:08.203249Z"
    },
    "papermill": {
     "duration": 0.053811,
     "end_time": "2022-11-21T07:51:08.206285",
     "exception": false,
     "start_time": "2022-11-21T07:51:08.152474",
     "status": "completed"
    },
    "tags": []
   },
   "outputs": [
    {
     "data": {
      "text/plain": [
       " Amazon Web Services (AWS)     2346\n",
       "Name: Q31_1, dtype: int64"
      ]
     },
     "execution_count": 96,
     "metadata": {},
     "output_type": "execute_result"
    }
   ],
   "source": [
    "aws = df_kaggle_22['Q31_1'].value_counts()[:-1]\n",
    "aws"
   ]
  },
  {
   "cell_type": "code",
   "execution_count": 97,
   "id": "6add5004",
   "metadata": {
    "execution": {
     "iopub.execute_input": "2022-11-21T07:51:08.294398Z",
     "iopub.status.busy": "2022-11-21T07:51:08.293202Z",
     "iopub.status.idle": "2022-11-21T07:51:08.302541Z",
     "shell.execute_reply": "2022-11-21T07:51:08.301285Z"
    },
    "papermill": {
     "duration": 0.054503,
     "end_time": "2022-11-21T07:51:08.304365",
     "exception": false,
     "start_time": "2022-11-21T07:51:08.249862",
     "status": "completed"
    },
    "tags": []
   },
   "outputs": [
    {
     "data": {
      "text/plain": [
       " Microsoft Azure     1416\n",
       "Name: Q31_2, dtype: int64"
      ]
     },
     "execution_count": 97,
     "metadata": {},
     "output_type": "execute_result"
    }
   ],
   "source": [
    "azure = df_kaggle_22['Q31_2'].value_counts()[:-1]\n",
    "azure"
   ]
  },
  {
   "cell_type": "code",
   "execution_count": 98,
   "id": "a8371685",
   "metadata": {
    "execution": {
     "iopub.execute_input": "2022-11-21T07:51:08.392345Z",
     "iopub.status.busy": "2022-11-21T07:51:08.390698Z",
     "iopub.status.idle": "2022-11-21T07:51:08.401430Z",
     "shell.execute_reply": "2022-11-21T07:51:08.399486Z"
    },
    "papermill": {
     "duration": 0.057459,
     "end_time": "2022-11-21T07:51:08.404603",
     "exception": false,
     "start_time": "2022-11-21T07:51:08.347144",
     "status": "completed"
    },
    "tags": []
   },
   "outputs": [
    {
     "data": {
      "text/plain": [
       " Google Cloud Platform (GCP)     2056\n",
       "Name: Q31_3, dtype: int64"
      ]
     },
     "execution_count": 98,
     "metadata": {},
     "output_type": "execute_result"
    }
   ],
   "source": [
    "gcp = df_kaggle_22['Q31_3'].value_counts()[:-1]\n",
    "gcp"
   ]
  },
  {
   "cell_type": "code",
   "execution_count": 99,
   "id": "006173c1",
   "metadata": {
    "execution": {
     "iopub.execute_input": "2022-11-21T07:51:08.487393Z",
     "iopub.status.busy": "2022-11-21T07:51:08.486232Z",
     "iopub.status.idle": "2022-11-21T07:51:08.496475Z",
     "shell.execute_reply": "2022-11-21T07:51:08.495050Z"
    },
    "papermill": {
     "duration": 0.053078,
     "end_time": "2022-11-21T07:51:08.498965",
     "exception": false,
     "start_time": "2022-11-21T07:51:08.445887",
     "status": "completed"
    },
    "tags": []
   },
   "outputs": [
    {
     "data": {
      "text/plain": [
       " Amazon Web Services (AWS)       2346.0\n",
       " Microsoft Azure                 1416.0\n",
       " Google Cloud Platform (GCP)     2056.0\n",
       "dtype: float64"
      ]
     },
     "execution_count": 99,
     "metadata": {},
     "output_type": "execute_result"
    }
   ],
   "source": [
    "com_platforms = pd.DataFrame([aws, azure, gcp]).sum()\n",
    "com_platforms"
   ]
  },
  {
   "cell_type": "code",
   "execution_count": 100,
   "id": "ef814e12",
   "metadata": {
    "execution": {
     "iopub.execute_input": "2022-11-21T07:51:08.587821Z",
     "iopub.status.busy": "2022-11-21T07:51:08.585977Z",
     "iopub.status.idle": "2022-11-21T07:51:08.752311Z",
     "shell.execute_reply": "2022-11-21T07:51:08.751563Z"
    },
    "papermill": {
     "duration": 0.212932,
     "end_time": "2022-11-21T07:51:08.754618",
     "exception": false,
     "start_time": "2022-11-21T07:51:08.541686",
     "status": "completed"
    },
    "tags": []
   },
   "outputs": [
    {
     "data": {
      "image/png": "[encoded data removed]",
      "text/plain": [
       "<Figure size 1080x576 with 1 Axes>"
      ]
     },
     "metadata": {},
     "output_type": "display_data"
    }
   ],
   "source": [
    "#Salary range\n",
    "fig, ax = plt.subplots(figsize=(15,8))\n",
    "sns.set_style(\"ticks\")\n",
    "# ax.set_ylim([0,20])\n",
    "ax.set_ylabel(\"Number of Participants\")\n",
    "ax.set_title(\"Three Famous COmputing Platforms\")\n",
    "ax.set_xlabel(\"Computing Platforms\")\n",
    "plt.xticks(rotation=70)\n",
    "sns.barplot( y = com_platforms, x = com_platforms.index, orient='v')\n",
    "plt.show();"
   ]
  },
  {
   "cell_type": "markdown",
   "id": "7281d7c6",
   "metadata": {
    "papermill": {
     "duration": 0.041608,
     "end_time": "2022-11-21T07:51:08.839220",
     "exception": false,
     "start_time": "2022-11-21T07:51:08.797612",
     "status": "completed"
    },
    "tags": []
   },
   "source": [
    "### AWS is leading the computing platform."
   ]
  },
  {
   "cell_type": "markdown",
   "id": "8cd845cd",
   "metadata": {
    "papermill": {
     "duration": 0.043077,
     "end_time": "2022-11-21T07:51:08.925305",
     "exception": false,
     "start_time": "2022-11-21T07:51:08.882228",
     "status": "completed"
    },
    "tags": []
   },
   "source": [
    "# Do you use any of the following business intelligence tools?\n",
    "- Amazon QuickSight\n",
    "- Microsoft Power BI\n",
    "- Google Data Studio\n",
    "- Tableau"
   ]
  },
  {
   "cell_type": "code",
   "execution_count": 101,
   "id": "024de980",
   "metadata": {
    "execution": {
     "iopub.execute_input": "2022-11-21T07:51:09.013977Z",
     "iopub.status.busy": "2022-11-21T07:51:09.013108Z",
     "iopub.status.idle": "2022-11-21T07:51:09.021340Z",
     "shell.execute_reply": "2022-11-21T07:51:09.020684Z"
    },
    "papermill": {
     "duration": 0.055458,
     "end_time": "2022-11-21T07:51:09.023124",
     "exception": false,
     "start_time": "2022-11-21T07:51:08.967666",
     "status": "completed"
    },
    "tags": []
   },
   "outputs": [
    {
     "data": {
      "text/plain": [
       "Amazon QuickSight    224\n",
       "Name: Q36_1, dtype: int64"
      ]
     },
     "execution_count": 101,
     "metadata": {},
     "output_type": "execute_result"
    }
   ],
   "source": [
    "aqs = df_kaggle_22['Q36_1'].value_counts()[:-1]\n",
    "aqs"
   ]
  },
  {
   "cell_type": "code",
   "execution_count": 102,
   "id": "3cf8e91b",
   "metadata": {
    "execution": {
     "iopub.execute_input": "2022-11-21T07:51:09.110417Z",
     "iopub.status.busy": "2022-11-21T07:51:09.109856Z",
     "iopub.status.idle": "2022-11-21T07:51:09.117732Z",
     "shell.execute_reply": "2022-11-21T07:51:09.117115Z"
    },
    "papermill": {
     "duration": 0.053437,
     "end_time": "2022-11-21T07:51:09.119457",
     "exception": false,
     "start_time": "2022-11-21T07:51:09.066020",
     "status": "completed"
    },
    "tags": []
   },
   "outputs": [
    {
     "data": {
      "text/plain": [
       "Microsoft Power BI    1658\n",
       "Name: Q36_2, dtype: int64"
      ]
     },
     "execution_count": 102,
     "metadata": {},
     "output_type": "execute_result"
    }
   ],
   "source": [
    "pbi = df_kaggle_22['Q36_2'].value_counts()[:-1]\n",
    "pbi"
   ]
  },
  {
   "cell_type": "code",
   "execution_count": 103,
   "id": "3a5df87e",
   "metadata": {
    "execution": {
     "iopub.execute_input": "2022-11-21T07:51:09.215245Z",
     "iopub.status.busy": "2022-11-21T07:51:09.214500Z",
     "iopub.status.idle": "2022-11-21T07:51:09.223489Z",
     "shell.execute_reply": "2022-11-21T07:51:09.222212Z"
    },
    "papermill": {
     "duration": 0.063123,
     "end_time": "2022-11-21T07:51:09.226032",
     "exception": false,
     "start_time": "2022-11-21T07:51:09.162909",
     "status": "completed"
    },
    "tags": []
   },
   "outputs": [
    {
     "data": {
      "text/plain": [
       "Google Data Studio    643\n",
       "Name: Q36_3, dtype: int64"
      ]
     },
     "execution_count": 103,
     "metadata": {},
     "output_type": "execute_result"
    }
   ],
   "source": [
    "gds = df_kaggle_22['Q36_3'].value_counts()[:-1]\n",
    "gds"
   ]
  },
  {
   "cell_type": "code",
   "execution_count": 104,
   "id": "64965699",
   "metadata": {
    "execution": {
     "iopub.execute_input": "2022-11-21T07:51:09.326929Z",
     "iopub.status.busy": "2022-11-21T07:51:09.326396Z",
     "iopub.status.idle": "2022-11-21T07:51:09.335503Z",
     "shell.execute_reply": "2022-11-21T07:51:09.334111Z"
    },
    "papermill": {
     "duration": 0.060303,
     "end_time": "2022-11-21T07:51:09.337240",
     "exception": false,
     "start_time": "2022-11-21T07:51:09.276937",
     "status": "completed"
    },
    "tags": []
   },
   "outputs": [
    {
     "data": {
      "text/plain": [
       "Tableau    1732\n",
       "Name: Q36_5, dtype: int64"
      ]
     },
     "execution_count": 104,
     "metadata": {},
     "output_type": "execute_result"
    }
   ],
   "source": [
    "tb = df_kaggle_22['Q36_5'].value_counts()[:-1]\n",
    "tb"
   ]
  },
  {
   "cell_type": "code",
   "execution_count": 105,
   "id": "81ff7683",
   "metadata": {
    "execution": {
     "iopub.execute_input": "2022-11-21T07:51:09.426404Z",
     "iopub.status.busy": "2022-11-21T07:51:09.425878Z",
     "iopub.status.idle": "2022-11-21T07:51:09.436195Z",
     "shell.execute_reply": "2022-11-21T07:51:09.435015Z"
    },
    "papermill": {
     "duration": 0.058207,
     "end_time": "2022-11-21T07:51:09.438217",
     "exception": false,
     "start_time": "2022-11-21T07:51:09.380010",
     "status": "completed"
    },
    "tags": []
   },
   "outputs": [
    {
     "data": {
      "text/plain": [
       "Tableau               1732.0\n",
       "Google Data Studio     643.0\n",
       "Amazon QuickSight      224.0\n",
       "Microsoft Power BI    1658.0\n",
       "dtype: float64"
      ]
     },
     "execution_count": 105,
     "metadata": {},
     "output_type": "execute_result"
    }
   ],
   "source": [
    "business_ai_tools = pd.DataFrame([tb, gds, aqs, pbi]).sum()\n",
    "business_ai_tools"
   ]
  },
  {
   "cell_type": "code",
   "execution_count": 106,
   "id": "f4976b41",
   "metadata": {
    "execution": {
     "iopub.execute_input": "2022-11-21T07:51:09.526290Z",
     "iopub.status.busy": "2022-11-21T07:51:09.525901Z",
     "iopub.status.idle": "2022-11-21T07:51:09.841257Z",
     "shell.execute_reply": "2022-11-21T07:51:09.840323Z"
    },
    "papermill": {
     "duration": 0.361658,
     "end_time": "2022-11-21T07:51:09.842926",
     "exception": false,
     "start_time": "2022-11-21T07:51:09.481268",
     "status": "completed"
    },
    "tags": []
   },
   "outputs": [
    {
     "data": {
      "image/png": "[encoded data removed]",
      "text/plain": [
       "<Figure size 1080x576 with 1 Axes>"
      ]
     },
     "metadata": {},
     "output_type": "display_data"
    }
   ],
   "source": [
    "#Salary range\n",
    "fig, ax = plt.subplots(figsize=(15,8))\n",
    "sns.set_style(\"ticks\")\n",
    "# ax.set_ylim([0,20])\n",
    "ax.set_ylabel(\"Number of Participants\")\n",
    "ax.set_title(\"Business Intelligence Tools\")\n",
    "ax.set_xlabel(\"Business Intelligence Tools\")\n",
    "plt.xticks(rotation=70)\n",
    "sns.barplot( y = business_ai_tools, x = business_ai_tools.index, orient='v')\n",
    "plt.show();"
   ]
  },
  {
   "cell_type": "markdown",
   "id": "97f9ecb4",
   "metadata": {
    "papermill": {
     "duration": 0.043781,
     "end_time": "2022-11-21T07:51:09.930226",
     "exception": false,
     "start_time": "2022-11-21T07:51:09.886445",
     "status": "completed"
    },
    "tags": []
   },
   "source": [
    "## Tablue and Power BI is leading the business intellegent platform and visualization."
   ]
  },
  {
   "cell_type": "code",
   "execution_count": null,
   "id": "b6496793",
   "metadata": {
    "papermill": {
     "duration": 0.042593,
     "end_time": "2022-11-21T07:51:10.014916",
     "exception": false,
     "start_time": "2022-11-21T07:51:09.972323",
     "status": "completed"
    },
    "tags": []
   },
   "outputs": [],
   "source": []
  }
 ],
 "metadata": {
  "kernelspec": {
   "display_name": "Python 3",
   "language": "python",
   "name": "python3"
  },
  "language_info": {
   "codemirror_mode": {
    "name": "ipython",
    "version": 3
   },
   "file_extension": ".py",
   "mimetype": "text/x-python",
   "name": "python",
   "nbconvert_exporter": "python",
   "pygments_lexer": "ipython3",
   "version": "3.7.12"
  },
  "papermill": {
   "default_parameters": {},
   "duration": 24.655356,
   "end_time": "2022-11-21T07:51:10.879073",
   "environment_variables": {},
   "exception": null,
   "input_path": "__notebook__.ipynb",
   "output_path": "__notebook__.ipynb",
   "parameters": {},
   "start_time": "2022-11-21T07:50:46.223717",
   "version": "2.3.4"
  }
 },
 "nbformat": 4,
 "nbformat_minor": 5
}
